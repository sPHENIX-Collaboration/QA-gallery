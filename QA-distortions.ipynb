{
 "cells": [
  {
   "cell_type": "markdown",
   "metadata": {},
   "source": [
    "# Introduction\n",
    "\n",
    "QA plots for the generic distortions reconstruction performance"
   ]
  },
  {
   "cell_type": "code",
   "execution_count": 1,
   "metadata": {
    "execution": {
     "iopub.execute_input": "2023-04-15T09:32:42.376147Z",
     "iopub.status.busy": "2023-04-15T09:32:42.375430Z",
     "iopub.status.idle": "2023-04-15T09:32:42.390306Z",
     "shell.execute_reply": "2023-04-15T09:32:42.388940Z"
    },
    "jupyter": {
     "source_hidden": true
    },
    "tags": []
   },
   "outputs": [],
   "source": [
    "# imports to write dynamic markdown contents\n",
    "import os\n",
    "from IPython.display import display, Markdown, Latex\n",
    "from IPython.display import HTML"
   ]
  },
  {
   "cell_type": "code",
   "execution_count": 2,
   "metadata": {
    "execution": {
     "iopub.execute_input": "2023-04-15T09:32:42.395332Z",
     "iopub.status.busy": "2023-04-15T09:32:42.394753Z",
     "iopub.status.idle": "2023-04-15T09:32:42.410478Z",
     "shell.execute_reply": "2023-04-15T09:32:42.409495Z"
    }
   },
   "outputs": [
    {
     "data": {
      "text/markdown": [
       "*For the result HTML page:* "
      ],
      "text/plain": [
       "<IPython.core.display.Markdown object>"
      ]
     },
     "metadata": {},
     "output_type": "display_data"
    },
    {
     "data": {
      "text/html": [
       "<script>\n",
       "code_show=true; \n",
       "function code_toggle() {\n",
       " if (code_show){\n",
       " $('div.input').hide();\n",
       " $('div.jp-CodeMirrorEditor').hide(); // for newer versions of nbviewer.org\n",
       " } else {\n",
       " $('div.input').show();\n",
       " $('div.jp-CodeMirrorEditor').show(); // for newer versions of nbviewer.org\n",
       " }\n",
       " code_show = !code_show\n",
       "} \n",
       "$( document ).ready(code_toggle);\n",
       "</script>\n",
       "<form action=\"javascript:code_toggle()\"><input type=\"submit\" value=\"Click here to toggle on/off the raw code.\"></form>"
      ],
      "text/plain": [
       "<IPython.core.display.HTML object>"
      ]
     },
     "execution_count": 2,
     "metadata": {},
     "output_type": "execute_result"
    }
   ],
   "source": [
    "# turn off/on code for the result HTML page\n",
    "\n",
    "display(Markdown('*For the result HTML page:* '))\n",
    "    \n",
    "HTML('''<script>\n",
    "code_show=true; \n",
    "function code_toggle() {\n",
    " if (code_show){\n",
    " $('div.input').hide();\n",
    " $('div.jp-CodeMirrorEditor').hide(); // for newer versions of nbviewer.org\n",
    " } else {\n",
    " $('div.input').show();\n",
    " $('div.jp-CodeMirrorEditor').show(); // for newer versions of nbviewer.org\n",
    " }\n",
    " code_show = !code_show\n",
    "} \n",
    "$( document ).ready(code_toggle);\n",
    "</script>\n",
    "<form action=\"javascript:code_toggle()\"><input type=\"submit\" value=\"Click here to toggle on/off the raw code.\"></form>''')"
   ]
  },
  {
   "cell_type": "code",
   "execution_count": 3,
   "metadata": {
    "execution": {
     "iopub.execute_input": "2023-04-15T09:32:42.465981Z",
     "iopub.status.busy": "2023-04-15T09:32:42.465228Z",
     "iopub.status.idle": "2023-04-15T09:32:42.476606Z",
     "shell.execute_reply": "2023-04-15T09:32:42.475482Z"
    }
   },
   "outputs": [
    {
     "data": {
      "text/markdown": [
       "[//]: # (This section starts with a 2nd level heading and get embedded in the result QA report at https://github.com/sPHENIX-Collaboration/QA-gallery/tree/QA-tracking-pythiajet)\n",
       "\n",
       "## Tracking QA with high pT Pythia events\n",
       "\n",
       "PYTHIA high $p_T$ tracking QA consists full tracker + reconstruction of events with the default Pythia configuration file. This cfg file has a single hard QCD ccbar event with minimum partonic $p_T$ of 10 GeV and truth jet triggering of $p_T>20$ GeV. \n",
       "\n",
       "Last a D0->piK filter is applied so the same sample canbe used in D0 reco validation. Please note the calorimeters are disabled to improve execution speed, which also removed some of the correlated albedo background for the tracker. \n",
       "\n",
       "In addition to the Pythia event, an Upsilon is embedded to probe an agregated tracking resolution. \n",
       "\n",
       "The source code of the macro can be found at https://github.com/sPHENIX-Collaboration/macros/tree/QA-tracking-pythiajet or [comparing it to the master branch](https://github.com/sPHENIX-Collaboration/macros/compare/QA-tracking-pythiajet?expand=1).\n"
      ],
      "text/plain": [
       "<IPython.core.display.Markdown object>"
      ]
     },
     "metadata": {},
     "output_type": "display_data"
    }
   ],
   "source": [
    "import os.path\n",
    "\n",
    "# readme file of the macros, available if run under JenkinsCI\n",
    "# https://github.com/sPHENIX-Collaboration/utilities/blob/master/jenkins/built-test/test-tracking-qa.sh \n",
    "\n",
    "macro_markdown = 'Fun4All-macros-README.md'\n",
    "\n",
    "\n",
    "if os.path.isfile(macro_markdown) :\n",
    "    with open(macro_markdown, 'r') as file:\n",
    "        display(Markdown(file.read()))"
   ]
  },
  {
   "cell_type": "markdown",
   "metadata": {},
   "source": [
    "## `pyROOT` env check"
   ]
  },
  {
   "cell_type": "code",
   "execution_count": 4,
   "metadata": {
    "execution": {
     "iopub.execute_input": "2023-04-15T09:32:42.481145Z",
     "iopub.status.busy": "2023-04-15T09:32:42.480529Z",
     "iopub.status.idle": "2023-04-15T09:32:45.099350Z",
     "shell.execute_reply": "2023-04-15T09:32:45.097717Z"
    },
    "tags": []
   },
   "outputs": [
    {
     "name": "stdout",
     "output_type": "stream",
     "text": [
      "Welcome to JupyROOT 6.26/06\n"
     ]
    },
    {
     "data": {
      "text/markdown": [
       "via sPHENIX software distribution at `/var/lib/jenkins/workspace/sPHENIX/Build-Master-gcc12@3/build/new/install.1`"
      ],
      "text/plain": [
       "<IPython.core.display.Markdown object>"
      ]
     },
     "metadata": {},
     "output_type": "display_data"
    }
   ],
   "source": [
    "import ROOT\n",
    "\n",
    "OFFLINE_MAIN = os.getenv(\"OFFLINE_MAIN\")\n",
    "if OFFLINE_MAIN is not None:\n",
    "    display(Markdown(f\"via sPHENIX software distribution at `{OFFLINE_MAIN}`\"))"
   ]
  },
  {
   "cell_type": "markdown",
   "metadata": {},
   "source": [
    "## Plotting source code"
   ]
  },
  {
   "cell_type": "code",
   "execution_count": 5,
   "metadata": {
    "execution": {
     "iopub.execute_input": "2023-04-15T09:32:45.106732Z",
     "iopub.status.busy": "2023-04-15T09:32:45.106184Z",
     "iopub.status.idle": "2023-04-15T09:32:45.233361Z",
     "shell.execute_reply": "2023-04-15T09:32:45.231767Z"
    }
   },
   "outputs": [
    {
     "data": {
      "text/markdown": [
       "View the source code repository at https://github.com/sPHENIX-Collaboration/QA-gallery.git"
      ],
      "text/plain": [
       "<IPython.core.display.Markdown object>"
      ]
     },
     "metadata": {},
     "output_type": "display_data"
    }
   ],
   "source": [
    "import subprocess\n",
    "\n",
    "try:\n",
    "    git_url = \\\n",
    "        subprocess.run(['git','remote','get-url','origin'], stdout=subprocess.PIPE)\\\n",
    "        .stdout.decode('utf-8').strip()\\\n",
    "        .replace('git@github.com:','https://github.com/')\n",
    "\n",
    "    display(Markdown(f\"View the source code repository at {git_url}\"))\n",
    "except: # catch *all* exceptions\n",
    "    #     well do nothing\n",
    "    pass"
   ]
  },
  {
   "cell_type": "raw",
   "metadata": {},
   "source": [
    "## JenkinsCI information (if available)"
   ]
  },
  {
   "cell_type": "code",
   "execution_count": 6,
   "metadata": {
    "execution": {
     "iopub.execute_input": "2023-04-15T09:32:45.240943Z",
     "iopub.status.busy": "2023-04-15T09:32:45.240263Z",
     "iopub.status.idle": "2023-04-15T09:32:45.368720Z",
     "shell.execute_reply": "2023-04-15T09:32:45.367795Z"
    }
   },
   "outputs": [
    {
     "data": {
      "text/markdown": [
       "Some further details about the QA run, if executed under the Jenkins CI:"
      ],
      "text/plain": [
       "<IPython.core.display.Markdown object>"
      ]
     },
     "metadata": {},
     "output_type": "display_data"
    },
    {
     "data": {
      "text/markdown": [
       "* The commit being checked is sPHENIX-Collaboration/coresoftware/d578c70a783edb789c39acf2ebd8de77fc7a4d41"
      ],
      "text/plain": [
       "<IPython.core.display.Markdown object>"
      ]
     },
     "metadata": {},
     "output_type": "display_data"
    },
    {
     "data": {
      "text/markdown": [
       "* Link to the pull request: https://github.com/sPHENIX-Collaboration/coresoftware/pull/1965"
      ],
      "text/plain": [
       "<IPython.core.display.Markdown object>"
      ]
     },
     "metadata": {},
     "output_type": "display_data"
    },
    {
     "data": {
      "text/markdown": [
       "* Link to the build: https://web.sdcc.bnl.gov/jenkins-sphenix/job/sPHENIX/job/test-tracking-pythiajet-qa/1804/"
      ],
      "text/plain": [
       "<IPython.core.display.Markdown object>"
      ]
     },
     "metadata": {},
     "output_type": "display_data"
    },
    {
     "data": {
      "text/markdown": [
       "* Git repo for macros: https://github.com/sPHENIX-Collaboration/macros.git , which merges `master` and the QA tracking branch"
      ],
      "text/plain": [
       "<IPython.core.display.Markdown object>"
      ]
     },
     "metadata": {},
     "output_type": "display_data"
    },
    {
     "data": {
      "text/markdown": [
       "* Download the QA ROOT files: https://web.sdcc.bnl.gov/jenkins-sphenix/job/sPHENIX/job/test-tracking-pythiajet-qa/1804/display/redirect?page=artifacts"
      ],
      "text/plain": [
       "<IPython.core.display.Markdown object>"
      ]
     },
     "metadata": {},
     "output_type": "display_data"
    },
    {
     "data": {
      "text/markdown": [
       "Automatically generated by [sPHENIX Jenkins continuous integration](https://web.sdcc.bnl.gov/jenkins-sphenix/) [![sPHENIX](https://raw.githubusercontent.com/sPHENIX-Collaboration/utilities/master/jenkins/material/sphenix-logo-white-bg-72p.png)](https://www.sphenix.bnl.gov/web/) &nbsp; &nbsp; &nbsp; &nbsp; &nbsp; &nbsp; [![jenkins.io](https://raw.githubusercontent.com/sPHENIX-Collaboration/utilities/master/jenkins/material/jenkins_logo_title-72p.png)](https://jenkins.io/)"
      ],
      "text/plain": [
       "<IPython.core.display.Markdown object>"
      ]
     },
     "metadata": {},
     "output_type": "display_data"
    }
   ],
   "source": [
    "display(Markdown('Some further details about the QA run, if executed under the Jenkins CI:'))\n",
    "\n",
    "checkrun_repo_commit = os.getenv(\"checkrun_repo_commit\")\n",
    "if checkrun_repo_commit is not None:\n",
    "    display(Markdown(f\"* The commit being checked is {checkrun_repo_commit}\"))\n",
    "        \n",
    "ghprbPullLink = os.getenv(\"ghprbPullLink\")\n",
    "if ghprbPullLink is not None:\n",
    "    display(Markdown(f\"* Link to the pull request: {ghprbPullLink}\"))\n",
    "\n",
    "BUILD_URL =  os.getenv(\"BUILD_URL\")\n",
    "if BUILD_URL is not None:\n",
    "    display(Markdown(f\"* Link to the build: {BUILD_URL}\"))\n",
    "\n",
    "git_url_macros =  os.getenv(\"git_url_macros\")\n",
    "sha_macros =  os.getenv(\"sha_macros\")\n",
    "if git_url_macros is not None:\n",
    "    display(Markdown(f\"* Git repo for macros: {git_url_macros} , which merges `{sha_macros}` and the QA tracking branch\"))\n",
    "\n",
    "RUN_ARTIFACTS_DISPLAY_URL = os.getenv(\"RUN_ARTIFACTS_DISPLAY_URL\")\n",
    "if RUN_ARTIFACTS_DISPLAY_URL is not None:\n",
    "    display(Markdown(f\"* Download the QA ROOT files: {RUN_ARTIFACTS_DISPLAY_URL}\"))\n",
    "\n",
    "JENKINS_URL  = os.getenv(\"JENKINS_URL\")\n",
    "if JENKINS_URL is not None:\n",
    "    display(Markdown(f\"Automatically generated by [sPHENIX Jenkins continuous integration]({JENKINS_URL}) [![sPHENIX](https://raw.githubusercontent.com/sPHENIX-Collaboration/utilities/master/jenkins/material/sphenix-logo-white-bg-72p.png)](https://www.sphenix.bnl.gov/web/) &nbsp; &nbsp; &nbsp; &nbsp; &nbsp; &nbsp; [![jenkins.io](https://raw.githubusercontent.com/sPHENIX-Collaboration/utilities/master/jenkins/material/jenkins_logo_title-72p.png)](https://jenkins.io/)\"))"
   ]
  },
  {
   "cell_type": "markdown",
   "metadata": {},
   "source": [
    "\n",
    "# Initialization"
   ]
  },
  {
   "cell_type": "code",
   "execution_count": 7,
   "metadata": {
    "execution": {
     "iopub.execute_input": "2023-04-15T09:32:45.378092Z",
     "iopub.status.busy": "2023-04-15T09:32:45.377596Z",
     "iopub.status.idle": "2023-04-15T09:32:46.078183Z",
     "shell.execute_reply": "2023-04-15T09:32:46.076602Z"
    },
    "scrolled": true,
    "tags": []
   },
   "outputs": [],
   "source": [
    "%%cpp -d\n",
    "\n",
    "#include \"QA_Draw_Utility.C\"\n",
    "\n",
    "#include <sPhenixStyle.C>\n",
    "\n",
    "#include <TFile.h>\n",
    "#include <TLine.h>\n",
    "#include <TString.h>\n",
    "#include <TTree.h>\n",
    "#include <cassert>\n",
    "#include <cmath>"
   ]
  },
  {
   "cell_type": "code",
   "execution_count": 8,
   "metadata": {
    "execution": {
     "iopub.execute_input": "2023-04-15T09:32:46.085494Z",
     "iopub.status.busy": "2023-04-15T09:32:46.084928Z",
     "iopub.status.idle": "2023-04-15T09:32:46.532318Z",
     "shell.execute_reply": "2023-04-15T09:32:46.530665Z"
    }
   },
   "outputs": [
    {
     "name": "stdout",
     "output_type": "stream",
     "text": [
      "sPhenixStyle: Applying nominal settings.\n",
      "sPhenixStyle: ROOT6 mode\n"
     ]
    }
   ],
   "source": [
    "%%cpp\n",
    "\n",
    "SetsPhenixStyle();\n",
    "TVirtualFitter::SetDefaultFitter(\"Minuit2\");"
   ]
  },
  {
   "cell_type": "code",
   "execution_count": 9,
   "metadata": {
    "execution": {
     "iopub.execute_input": "2023-04-15T09:32:46.538993Z",
     "iopub.status.busy": "2023-04-15T09:32:46.538339Z",
     "iopub.status.idle": "2023-04-15T09:32:46.693398Z",
     "shell.execute_reply": "2023-04-15T09:32:46.691780Z"
    }
   },
   "outputs": [],
   "source": [
    "%jsroot on"
   ]
  },
  {
   "cell_type": "markdown",
   "metadata": {},
   "source": [
    "## Inputs and file checks"
   ]
  },
  {
   "cell_type": "code",
   "execution_count": 10,
   "metadata": {
    "execution": {
     "iopub.execute_input": "2023-04-15T09:32:46.700647Z",
     "iopub.status.busy": "2023-04-15T09:32:46.699965Z",
     "iopub.status.idle": "2023-04-15T09:32:46.811270Z",
     "shell.execute_reply": "2023-04-15T09:32:46.809661Z"
    }
   },
   "outputs": [],
   "source": [
    "\n",
    "qa_file_name_new = os.getenv(\"qa_file_name_new\")\n",
    "if qa_file_name_new is None:\n",
    "    qa_file_name_new = \"G4sPHENIX_test-tracking-low-occupancy-qa_Event100_Sum10_qa.root\"\n",
    "    display(Markdown(f\"`qa_file_name_new` env not set. use the default `qa_file_name_new={qa_file_name_new}`\"))\n",
    "\n",
    "qa_file_name_ref = os.getenv(\"qa_file_name_ref\")\n",
    "if qa_file_name_ref is None:\n",
    "    qa_file_name_ref = \"reference/G4sPHENIX_test-tracking-low-occupancy-qa_Event100_Sum10_qa.root\"\n",
    "    display(Markdown(f\"`qa_file_name_ref` env not set. use the default `qa_file_name_ref={qa_file_name_ref}`\"))\n",
    "elif qa_file_name_ref == 'None':\n",
    "    qa_file_name_ref = None\n",
    "    display(Markdown(f\"`qa_file_name_ref` = None and we are set to not to use the reference histograms\"))\n",
    "    \n"
   ]
  },
  {
   "cell_type": "code",
   "execution_count": 11,
   "metadata": {
    "execution": {
     "iopub.execute_input": "2023-04-15T09:32:46.818438Z",
     "iopub.status.busy": "2023-04-15T09:32:46.817792Z",
     "iopub.status.idle": "2023-04-15T09:32:47.011044Z",
     "shell.execute_reply": "2023-04-15T09:32:47.009426Z"
    }
   },
   "outputs": [
    {
     "data": {
      "text/markdown": [
       "Opening QA file at `G4sPHENIX_test-tracking_Event450_Sum15_qa.root`"
      ],
      "text/plain": [
       "<IPython.core.display.Markdown object>"
      ]
     },
     "metadata": {},
     "output_type": "display_data"
    },
    {
     "data": {
      "text/markdown": [
       "Opening QA reference file at `reference/G4sPHENIX_test-tracking_Event450_Sum15_qa.root`"
      ],
      "text/plain": [
       "<IPython.core.display.Markdown object>"
      ]
     },
     "metadata": {},
     "output_type": "display_data"
    }
   ],
   "source": [
    "# qa_file_new = ROOT.TFile.Open(qa_file_name_new);\n",
    "\n",
    "# assert qa_file_new.IsOpen()\n",
    "# qa_file_new.ls()\n",
    "display(Markdown(f\"Opening QA file at `{qa_file_name_new}`\"))\n",
    "ROOT.gInterpreter.ProcessLine(f\"TFile *qa_file_new = new TFile(\\\"{qa_file_name_new}\\\");\")\n",
    "ROOT.gInterpreter.ProcessLine(f\"const char * qa_file_name_new = \\\"{qa_file_name_new}\\\";\")\n",
    "\n",
    "if qa_file_name_ref is not None:\n",
    "#     qa_file_ref = ROOT.TFile.Open(qa_file_name_ref);\n",
    "\n",
    "#     assert qa_file_ref.IsOpen()\n",
    "    display(Markdown(f\"Opening QA reference file at `{qa_file_name_ref}`\"))\n",
    "    ROOT.gInterpreter.ProcessLine(f\"TFile *qa_file_ref = new TFile(\\\"{qa_file_name_ref}\\\");\")\n",
    "    ROOT.gInterpreter.ProcessLine(f\"const char *  qa_file_name_ref = \\\"{qa_file_name_ref}\\\";\")\n",
    "else:\n",
    "    ROOT.gInterpreter.ProcessLine(f\"TFile *qa_file_ref = nullptr;\")\n",
    "    ROOT.gInterpreter.ProcessLine(f\"const char *  qa_file_name_ref = nullptr;\")\n"
   ]
  },
  {
   "cell_type": "code",
   "execution_count": 12,
   "metadata": {
    "execution": {
     "iopub.execute_input": "2023-04-15T09:32:47.018131Z",
     "iopub.status.busy": "2023-04-15T09:32:47.017474Z",
     "iopub.status.idle": "2023-04-15T09:32:47.148175Z",
     "shell.execute_reply": "2023-04-15T09:32:47.146508Z"
    },
    "scrolled": true,
    "tags": []
   },
   "outputs": [],
   "source": [
    "%%cpp\n",
    "\n",
    "if (qa_file_new == nullptr) \n",
    "{\n",
    "    cout <<\"Error, can not open QA root file\"<<qa_file_name_new<<endl;\n",
    "    exit(1);\n",
    "}\n",
    "\n",
    "if (qa_file_ref == nullptr) \n",
    "{\n",
    "    cout <<\"Error, can not open QA root file\"<<qa_file_name_ref<<endl;\n",
    "    exit(1);\n",
    "}"
   ]
  },
  {
   "cell_type": "markdown",
   "metadata": {
    "tags": []
   },
   "source": [
    "# Delta Rphi residuals (track - cluster) vs layer number"
   ]
  },
  {
   "cell_type": "code",
   "execution_count": 13,
   "metadata": {
    "execution": {
     "iopub.execute_input": "2023-04-15T09:32:47.155724Z",
     "iopub.status.busy": "2023-04-15T09:32:47.155057Z",
     "iopub.status.idle": "2023-04-15T09:32:47.390778Z",
     "shell.execute_reply": "2023-04-15T09:32:47.389327Z"
    },
    "tags": []
   },
   "outputs": [
    {
     "name": "stdout",
     "output_type": "stream",
     "text": [
      "h_deltarphi_layer_ref not found. doing nothing.\n",
      "h_deltarphi_layer_new not found. doing nothing.\n"
     ]
    }
   ],
   "source": [
    "%%cpp\n",
    "    const char *hist_name_prefix = \"QAG4SimulationDistortions\";\n",
    "    TString prefix = TString(\"h_\") + hist_name_prefix + TString(\"_\");\n",
    "    \n",
    "    TCanvas *cv_deltarphi_layer = new TCanvas(TString(\"QA_Draw_rphi_residuals\") + TString(\"_\") + hist_name_prefix,\n",
    "                                     TString(\"QA_Draw_rphi_residuals\") + TString(\"_\") + hist_name_prefix,\n",
    "                                     1200,500);\n",
    "    cv_deltarphi_layer->Divide(2, 1);\n",
    "        \n",
    "    auto h_deltarphi_layer_ref = (TH2F *)qa_file_ref->GetObjectChecked(prefix + \"deltarphi_layer\", \"TH2\");\n",
    "    if( !h_deltarphi_layer_ref )\n",
    "    { \n",
    "        std::cout << \"h_deltarphi_layer_ref not found. doing nothing.\" << std::endl;\n",
    "        return;\n",
    "    }\n",
    "    h_deltarphi_layer_ref->SetDirectory(nullptr);\n",
    "\n",
    "    auto h_deltarphi_layer_new = (TH2F *)qa_file_new->GetObjectChecked(prefix + \"deltarphi_layer\", \"TH2\");\n",
    "    if( !h_deltarphi_layer_new )\n",
    "    { \n",
    "        std::cout << \"h_deltarphi_layer_new not found. doing nothing.\" << std::endl;\n",
    "        return;\n",
    "    }\n",
    "    \n",
    "    {\n",
    "        auto newScale = FitResolution_hist(h_deltarphi_layer_new, false, 1);\n",
    "        newScale->GetXaxis()->SetTitle(\"layer\");\n",
    "        newScale->GetYaxis()->SetTitle(\"#LT#Delta r#phi#GT (#mum)\");\n",
    "        newScale->Scale(1e4);\n",
    "        newScale->SetMinimum(-100);\n",
    "        newScale->SetMaximum(100);\n",
    "\n",
    "        auto refScale = FitResolution_hist(h_deltarphi_layer_ref, false, 1);\n",
    "        refScale->Scale(1e4);\n",
    "\n",
    "        cv_deltarphi_layer->cd(1);\n",
    "        DrawReference(newScale, refScale);\n",
    "        \n",
    "        // Draw line at zero\n",
    "        auto line = HorizontalLine( gPad, 0 );\n",
    "        line->Draw();\n",
    "    }\n",
    "    \n",
    "    {\n",
    "        auto newRMS = FitResolution_hist(h_deltarphi_layer_new, false, 2);\n",
    "        newRMS->GetXaxis()->SetTitle(\"layer\");\n",
    "        newRMS->GetYaxis()->SetTitle(\"RMS(#Delta r#phi) (#mum)\");\n",
    "        newRMS->Scale(1e4);\n",
    "        newRMS->SetMinimum(0);\n",
    "        newRMS->SetMaximum(1200);\n",
    "        \n",
    "        auto refRMS = FitResolution_hist(h_deltarphi_layer_ref, false, 2);\n",
    "        refRMS->Scale(1e4);\n",
    "        \n",
    "        cv_deltarphi_layer->cd(2);\n",
    "        DrawReference(newRMS, refRMS);\n",
    "    }\n",
    "    \n",
    "    \n",
    "    cv_deltarphi_layer->Draw();\n",
    "    "
   ]
  },
  {
   "cell_type": "markdown",
   "metadata": {
    "tags": []
   },
   "source": [
    "# Delta z residuals (track - cluster) vs layer number"
   ]
  },
  {
   "cell_type": "code",
   "execution_count": 14,
   "metadata": {
    "execution": {
     "iopub.execute_input": "2023-04-15T09:32:47.397463Z",
     "iopub.status.busy": "2023-04-15T09:32:47.396922Z",
     "iopub.status.idle": "2023-04-15T09:32:47.570915Z",
     "shell.execute_reply": "2023-04-15T09:32:47.569294Z"
    },
    "tags": []
   },
   "outputs": [
    {
     "name": "stdout",
     "output_type": "stream",
     "text": [
      "h_deltaz_layer_ref not found. doing nothing.\n",
      "h_deltaz_layer_new not found. doing nothing.\n"
     ]
    }
   ],
   "source": [
    "%%cpp\n",
    "    const char *hist_name_prefix = \"QAG4SimulationDistortions\";\n",
    "    TString prefix = TString(\"h_\") + hist_name_prefix + TString(\"_\");\n",
    "    \n",
    "    TCanvas *cv_deltaz_layer = new TCanvas(TString(\"QA_Draw_z_residuals\") + TString(\"_\") + hist_name_prefix,\n",
    "                                     TString(\"QA_Draw_z_residuals\") + TString(\"_\") + hist_name_prefix,\n",
    "                                     1200,500);\n",
    "    cv_deltaz_layer->Divide(2, 1);\n",
    "        \n",
    "    auto h_deltaz_layer_ref = (TH2F *)qa_file_ref->GetObjectChecked(prefix + \"deltaz_layer\", \"TH2\");\n",
    "    if( !h_deltaz_layer_ref )\n",
    "    { \n",
    "        std::cout << \"h_deltaz_layer_ref not found. doing nothing.\" << std::endl;\n",
    "        return;\n",
    "    }\n",
    "    h_deltaz_layer_ref->SetDirectory(nullptr);\n",
    "\n",
    "    auto h_deltaz_layer_new = (TH2F *)qa_file_new->GetObjectChecked(prefix + \"deltaz_layer\", \"TH2\");\n",
    "    if( !h_deltaz_layer_new )\n",
    "    { \n",
    "        std::cout << \"h_deltaz_layer_new not found. doing nothing.\" << std::endl;\n",
    "        return;\n",
    "    }\n",
    "    h_deltaz_layer_new->SetDirectory(nullptr);\n",
    "    \n",
    "    {\n",
    "        auto newScale = FitResolution_hist(h_deltaz_layer_new, false, 1);\n",
    "        newScale->GetXaxis()->SetTitle(\"layer\");\n",
    "        newScale->GetYaxis()->SetTitle(\"#LT#Delta z#GT (#mum)\");\n",
    "        newScale->Scale(1e4);\n",
    "        newScale->SetMinimum(-100);\n",
    "        newScale->SetMaximum(100);\n",
    "\n",
    "        auto refScale = FitResolution_hist(h_deltaz_layer_ref, false, 1);\n",
    "        refScale->Scale(1e4);\n",
    "\n",
    "        cv_deltaz_layer->cd(1);\n",
    "        DrawReference(newScale, refScale);\n",
    "        \n",
    "        // Draw line at zero\n",
    "        auto line = HorizontalLine( gPad, 0 );\n",
    "        line->Draw();\n",
    "    }\n",
    "    \n",
    "    {\n",
    "        auto newRMS = FitResolution_hist(h_deltaz_layer_new, false, 2);\n",
    "        newRMS->GetXaxis()->SetTitle(\"layer\");\n",
    "        newRMS->GetYaxis()->SetTitle(\"RMS(#Delta z) (#mum)\");\n",
    "        newRMS->Scale(1e4);\n",
    "        newRMS->SetMinimum(0);\n",
    "        newRMS->SetMaximum(2000);\n",
    "        \n",
    "        auto refRMS = FitResolution_hist(h_deltaz_layer_ref, false, 2);\n",
    "        refRMS->Scale(1e4);\n",
    "        \n",
    "        cv_deltaz_layer->cd(2);\n",
    "        DrawReference(newRMS, refRMS);\n",
    "    }\n",
    "    \n",
    "    cv_deltaz_layer->Draw();\n",
    "    "
   ]
  },
  {
   "cell_type": "code",
   "execution_count": 15,
   "metadata": {
    "execution": {
     "iopub.execute_input": "2023-04-15T09:32:47.577722Z",
     "iopub.status.busy": "2023-04-15T09:32:47.577061Z",
     "iopub.status.idle": "2023-04-15T09:32:47.753782Z",
     "shell.execute_reply": "2023-04-15T09:32:47.752163Z"
    }
   },
   "outputs": [
    {
     "name": "stdout",
     "output_type": "stream",
     "text": [
      "This notebook contains 0 KSTets: combined Chi2/nDoF = -0 / 0, and combined __p-Value = 0__\n"
     ]
    }
   ],
   "source": [
    "%%cpp\n",
    "\n",
    "KSTestSummary::getInstance()->make_summary_txt(\"QA-Distortions.txt\");"
   ]
  },
  {
   "cell_type": "code",
   "execution_count": 16,
   "metadata": {
    "execution": {
     "iopub.execute_input": "2023-04-15T09:32:47.760484Z",
     "iopub.status.busy": "2023-04-15T09:32:47.759840Z",
     "iopub.status.idle": "2023-04-15T09:32:48.057885Z",
     "shell.execute_reply": "2023-04-15T09:32:48.056831Z"
    }
   },
   "outputs": [
    {
     "data": {
      "text/html": [
       "\n",
       "\n",
       "<div id=\"root_plot_1681551168030\"\n",
       "     style=\"width: 946px; height: 572px\">\n",
       "</div>\n",
       "<script>\n",
       "\n",
       "function display_root_plot_1681551168030(Core) {\n",
       "   let obj = Core.parse({\"_typename\":\"TCanvas\",\"fUniqueID\":0,\"fBits\":3342344,\"fLineColor\":1,\"fLineStyle\":1,\"fLineWidth\":1,\"fFillColor\":0,\"fFillStyle\":1001,\"fLeftMargin\":0.16,\"fRightMargin\":0.05,\"fBottomMargin\":0.16,\"fTopMargin\":0.05,\"fXfile\":2,\"fYfile\":2,\"fAfile\":1,\"fXstat\":0.99,\"fYstat\":0.99,\"fAstat\":2,\"fFrameFillColor\":0,\"fFrameLineColor\":1,\"fFrameFillStyle\":1001,\"fFrameLineStyle\":1,\"fFrameLineWidth\":1,\"fFrameBorderSize\":1,\"fFrameBorderMode\":0,\"fX1\":0,\"fY1\":0,\"fX2\":1,\"fY2\":1,\"fXtoAbsPixelk\":5e-5,\"fXtoPixelk\":5e-5,\"fXtoPixel\":946,\"fYtoAbsPixelk\":572.00005,\"fYtoPixelk\":572.00005,\"fYtoPixel\":-572,\"fUtoAbsPixelk\":5e-5,\"fUtoPixelk\":5e-5,\"fUtoPixel\":946,\"fVtoAbsPixelk\":572.00005,\"fVtoPixelk\":572,\"fVtoPixel\":-572,\"fAbsPixeltoXk\":0,\"fPixeltoXk\":0,\"fPixeltoX\":0.00105708245243129,\"fAbsPixeltoYk\":1,\"fPixeltoYk\":0,\"fPixeltoY\":-0.00174825174825175,\"fXlowNDC\":0,\"fYlowNDC\":0,\"fXUpNDC\":1,\"fYUpNDC\":1,\"fWNDC\":1,\"fHNDC\":1,\"fAbsXlowNDC\":0,\"fAbsYlowNDC\":0,\"fAbsWNDC\":1,\"fAbsHNDC\":1,\"fUxmin\":0,\"fUymin\":0,\"fUxmax\":1,\"fUymax\":1,\"fTheta\":30,\"fPhi\":30,\"fAspectRatio\":0,\"fNumber\":0,\"fTickx\":1,\"fTicky\":1,\"fLogx\":0,\"fLogy\":0,\"fLogz\":0,\"fPadPaint\":0,\"fCrosshair\":0,\"fCrosshairPos\":0,\"fBorderSize\":2,\"fBorderMode\":0,\"fModified\":false,\"fGridx\":false,\"fGridy\":false,\"fAbsCoord\":false,\"fEditable\":true,\"fFixedAspectRatio\":false,\"fPrimitives\":{\"_typename\":\"TList\",\"name\":\"TList\",\"arr\":[{\"_typename\":\"TPad\",\"fUniqueID\":0,\"fBits\":9,\"fLineColor\":1,\"fLineStyle\":1,\"fLineWidth\":1,\"fFillColor\":0,\"fFillStyle\":1001,\"fLeftMargin\":0.16,\"fRightMargin\":0.05,\"fBottomMargin\":0.16,\"fTopMargin\":0.05,\"fXfile\":2,\"fYfile\":2,\"fAfile\":1,\"fXstat\":0.99,\"fYstat\":0.99,\"fAstat\":2,\"fFrameFillColor\":0,\"fFrameLineColor\":1,\"fFrameFillStyle\":1001,\"fFrameLineStyle\":1,\"fFrameLineWidth\":1,\"fFrameBorderSize\":1,\"fFrameBorderMode\":0,\"fX1\":-0.202531635682106,\"fY1\":-0.21265821731868,\"fX2\":1.06329113857719,\"fY2\":1.11645569538776,\"fXtoAbsPixelk\":82.1128469149076,\"fXtoPixelk\":72.6528471263551,\"fXtoPixel\":358.723203324102,\"fYtoAbsPixelk\":476.590453762257,\"fYtoPixelk\":470.870453890109,\"fYtoPixel\":-421.754670458796,\"fUtoAbsPixelk\":9.46004978855252,\"fUtoPixelk\":5e-5,\"fUtoPixel\":454.080000422895,\"fVtoAbsPixelk\":566.280050127852,\"fVtoPixelk\":560.560000255704,\"fVtoPixel\":-560.560000255704,\"fAbsPixeltoXk\":-0.22890294286517,\"fPixeltoXk\":-0.202531635682106,\"fPixeltoX\":0.00278766466939835,\"fAbsPixeltoYk\":1.13001808194278,\"fPixeltoYk\":-0.21265821731868,\"fPixeltoY\":-0.00237104665352531,\"fXlowNDC\":0.00999999977648258,\"fYlowNDC\":0.00999999977648258,\"fXUpNDC\":0.490000000223517,\"fYUpNDC\":0.990000000223517,\"fWNDC\":0.480000000447035,\"fHNDC\":0.980000000447035,\"fAbsXlowNDC\":0.00999999977648258,\"fAbsYlowNDC\":0.00999999977648258,\"fAbsWNDC\":0.480000000447035,\"fAbsHNDC\":0.980000000447035,\"fUxmin\":-1e-10,\"fUymin\":0,\"fUxmax\":1.0000000001,\"fUymax\":1.05,\"fTheta\":30,\"fPhi\":30,\"fAspectRatio\":0,\"fNumber\":1,\"fTickx\":1,\"fTicky\":1,\"fLogx\":0,\"fLogy\":0,\"fLogz\":0,\"fPadPaint\":0,\"fCrosshair\":0,\"fCrosshairPos\":0,\"fBorderSize\":2,\"fBorderMode\":0,\"fModified\":false,\"fGridx\":false,\"fGridy\":false,\"fAbsCoord\":false,\"fEditable\":true,\"fFixedAspectRatio\":false,\"fPrimitives\":{\"_typename\":\"TList\",\"name\":\"TList\",\"arr\":[{\"_typename\":\"TFrame\",\"fUniqueID\":0,\"fBits\":8,\"fLineColor\":1,\"fLineStyle\":1,\"fLineWidth\":1,\"fFillColor\":0,\"fFillStyle\":1001,\"fX1\":-1e-10,\"fY1\":0,\"fX2\":1.0000000001,\"fY2\":1.05,\"fBorderSize\":1,\"fBorderMode\":0},{\"_typename\":\"TH1F\",\"fUniqueID\":0,\"fBits\":520,\"fName\":\"h_pValue\",\"fTitle\":\"p-Value Summary\",\"fLineColor\":1,\"fLineStyle\":1,\"fLineWidth\":2,\"fFillColor\":598,\"fFillStyle\":1001,\"fMarkerColor\":1,\"fMarkerStyle\":20,\"fMarkerSize\":1.2,\"fNcells\":52,\"fXaxis\":{\"_typename\":\"TAxis\",\"fUniqueID\":0,\"fBits\":0,\"fName\":\"xaxis\",\"fTitle\":\"p-Value\",\"fNdivisions\":510,\"fAxisColor\":1,\"fLabelColor\":1,\"fLabelFont\":42,\"fLabelOffset\":0.005,\"fLabelSize\":0.05,\"fTickLength\":0.03,\"fTitleOffset\":1.4,\"fTitleSize\":0.05,\"fTitleColor\":1,\"fTitleFont\":42,\"fNbins\":50,\"fXmin\":-1e-10,\"fXmax\":1.0000000001,\"fXbins\":[],\"fFirst\":0,\"fLast\":0,\"fBits2\":0,\"fTimeDisplay\":false,\"fTimeFormat\":\"\",\"fLabels\":null,\"fModLabs\":null},\"fYaxis\":{\"_typename\":\"TAxis\",\"fUniqueID\":0,\"fBits\":0,\"fName\":\"yaxis\",\"fTitle\":\"Count of plots\",\"fNdivisions\":510,\"fAxisColor\":1,\"fLabelColor\":1,\"fLabelFont\":42,\"fLabelOffset\":0.005,\"fLabelSize\":0.05,\"fTickLength\":0.03,\"fTitleOffset\":1.4,\"fTitleSize\":0.05,\"fTitleColor\":1,\"fTitleFont\":42,\"fNbins\":1,\"fXmin\":0,\"fXmax\":1,\"fXbins\":[],\"fFirst\":0,\"fLast\":0,\"fBits2\":0,\"fTimeDisplay\":false,\"fTimeFormat\":\"\",\"fLabels\":null,\"fModLabs\":null},\"fZaxis\":{\"_typename\":\"TAxis\",\"fUniqueID\":0,\"fBits\":0,\"fName\":\"zaxis\",\"fTitle\":\"\",\"fNdivisions\":510,\"fAxisColor\":1,\"fLabelColor\":1,\"fLabelFont\":42,\"fLabelOffset\":0.005,\"fLabelSize\":0.05,\"fTickLength\":0.03,\"fTitleOffset\":1,\"fTitleSize\":0.05,\"fTitleColor\":1,\"fTitleFont\":42,\"fNbins\":1,\"fXmin\":0,\"fXmax\":1,\"fXbins\":[],\"fFirst\":0,\"fLast\":0,\"fBits2\":0,\"fTimeDisplay\":false,\"fTimeFormat\":\"\",\"fLabels\":null,\"fModLabs\":null},\"fBarOffset\":0,\"fBarWidth\":1000,\"fEntries\":0,\"fTsumw\":0,\"fTsumw2\":0,\"fTsumwx\":0,\"fTsumwx2\":0,\"fMaximum\":-1111,\"fMinimum\":-1111,\"fNormFactor\":0,\"fContour\":[],\"fSumw2\":[],\"fOption\":\"\",\"fFunctions\":{\"_typename\":\"TList\",\"name\":\"TList\",\"arr\":[],\"opt\":[]},\"fBufferSize\":0,\"fBuffer\":[],\"fBinStatErrOpt\":0,\"fStatOverflows\":2,\"fArray\":{\"$arr\":\"Float32\",\"len\":52}}],\"opt\":[\"\",\"\"]},\"fExecs\":{\"_typename\":\"TList\",\"name\":\"TList\",\"arr\":[],\"opt\":[]},\"fName\":\"Summary_1\",\"fTitle\":\"Summary_1\",\"fNumPaletteColor\":0,\"fNextPaletteColor\":0},{\"_typename\":\"TPad\",\"fUniqueID\":0,\"fBits\":9,\"fLineColor\":1,\"fLineStyle\":1,\"fLineWidth\":1,\"fFillColor\":0,\"fFillStyle\":1001,\"fLeftMargin\":0.16,\"fRightMargin\":0.05,\"fBottomMargin\":0.16,\"fTopMargin\":0.05,\"fXfile\":2,\"fYfile\":2,\"fAfile\":1,\"fXstat\":0.99,\"fYstat\":0.99,\"fAstat\":2,\"fFrameFillColor\":0,\"fFrameLineColor\":1,\"fFrameFillStyle\":1001,\"fFrameLineStyle\":1,\"fFrameLineWidth\":1,\"fFrameBorderSize\":1,\"fFrameBorderMode\":0,\"fX1\":-24.0506327108522,\"fY1\":-3.02580543227988,\"fX2\":1.2658227693969,\"fY2\":1.50404123219442,\"fXtoAbsPixelk\":913.836050273088,\"fXtoPixelk\":431.376050484536,\"fXtoPixel\":17.9361601697026,\"fYtoAbsPixelk\":191.842321982509,\"fYtoPixelk\":186.12232211036,\"fYtoPixel\":-123.748118154184,\"fUtoAbsPixelk\":482.460049788553,\"fUtoPixelk\":5e-5,\"fUtoPixel\":454.080000422895,\"fVtoAbsPixelk\":566.280050127852,\"fVtoPixelk\":560.560000255704,\"fVtoPixel\":-560.560000255704,\"fAbsPixeltoXk\":-50.9493666217767,\"fPixeltoXk\":-24.0506327108522,\"fPixeltoX\":0.0557532933770951,\"fAbsPixeltoYk\":1.55026415628787,\"fPixeltoYk\":-3.02580543227988,\"fPixeltoY\":-0.00808093096619092,\"fXlowNDC\":0.509999999776483,\"fYlowNDC\":0.00999999977648258,\"fXUpNDC\":0.990000000223517,\"fYUpNDC\":0.990000000223517,\"fWNDC\":0.480000000447035,\"fHNDC\":0.980000000447035,\"fAbsXlowNDC\":0.509999999776483,\"fAbsYlowNDC\":0.00999999977648258,\"fAbsWNDC\":0.480000000447035,\"fAbsHNDC\":0.980000000447035,\"fUxmin\":-20,\"fUymin\":-2.30102999566398,\"fUxmax\":9.99994531625248e-11,\"fUymax\":1.27754889981446,\"fTheta\":30,\"fPhi\":30,\"fAspectRatio\":0,\"fNumber\":2,\"fTickx\":1,\"fTicky\":1,\"fLogx\":0,\"fLogy\":1,\"fLogz\":0,\"fPadPaint\":0,\"fCrosshair\":0,\"fCrosshairPos\":0,\"fBorderSize\":2,\"fBorderMode\":0,\"fModified\":false,\"fGridx\":false,\"fGridy\":false,\"fAbsCoord\":false,\"fEditable\":true,\"fFixedAspectRatio\":false,\"fPrimitives\":{\"_typename\":\"TList\",\"name\":\"TList\",\"arr\":[{\"_typename\":\"TFrame\",\"fUniqueID\":0,\"fBits\":8,\"fLineColor\":1,\"fLineStyle\":1,\"fLineWidth\":1,\"fFillColor\":0,\"fFillStyle\":1001,\"fX1\":-20,\"fY1\":-2.30102999566398,\"fX2\":9.99994531625248e-11,\"fY2\":1.27754889981446,\"fBorderSize\":1,\"fBorderMode\":0},{\"_typename\":\"TH1F\",\"fUniqueID\":0,\"fBits\":520,\"fName\":\"h_Log_pValue\",\"fTitle\":\"Log p-Value Summary\",\"fLineColor\":1,\"fLineStyle\":1,\"fLineWidth\":2,\"fFillColor\":598,\"fFillStyle\":1001,\"fMarkerColor\":1,\"fMarkerStyle\":20,\"fMarkerSize\":1.2,\"fNcells\":52,\"fXaxis\":{\"_typename\":\"TAxis\",\"fUniqueID\":0,\"fBits\":0,\"fName\":\"xaxis\",\"fTitle\":\"Log[p-Value]\",\"fNdivisions\":510,\"fAxisColor\":1,\"fLabelColor\":1,\"fLabelFont\":42,\"fLabelOffset\":0.005,\"fLabelSize\":0.05,\"fTickLength\":0.03,\"fTitleOffset\":1.4,\"fTitleSize\":0.05,\"fTitleColor\":1,\"fTitleFont\":42,\"fNbins\":50,\"fXmin\":-20,\"fXmax\":1e-10,\"fXbins\":[],\"fFirst\":0,\"fLast\":0,\"fBits2\":0,\"fTimeDisplay\":false,\"fTimeFormat\":\"\",\"fLabels\":null,\"fModLabs\":null},\"fYaxis\":{\"_typename\":\"TAxis\",\"fUniqueID\":0,\"fBits\":0,\"fName\":\"yaxis\",\"fTitle\":\"Count of plots\",\"fNdivisions\":510,\"fAxisColor\":1,\"fLabelColor\":1,\"fLabelFont\":42,\"fLabelOffset\":0.005,\"fLabelSize\":0.05,\"fTickLength\":0.03,\"fTitleOffset\":1.4,\"fTitleSize\":0.05,\"fTitleColor\":1,\"fTitleFont\":42,\"fNbins\":1,\"fXmin\":0,\"fXmax\":1,\"fXbins\":[],\"fFirst\":0,\"fLast\":0,\"fBits2\":0,\"fTimeDisplay\":false,\"fTimeFormat\":\"\",\"fLabels\":null,\"fModLabs\":null},\"fZaxis\":{\"_typename\":\"TAxis\",\"fUniqueID\":0,\"fBits\":0,\"fName\":\"zaxis\",\"fTitle\":\"\",\"fNdivisions\":510,\"fAxisColor\":1,\"fLabelColor\":1,\"fLabelFont\":42,\"fLabelOffset\":0.005,\"fLabelSize\":0.05,\"fTickLength\":0.03,\"fTitleOffset\":1,\"fTitleSize\":0.05,\"fTitleColor\":1,\"fTitleFont\":42,\"fNbins\":1,\"fXmin\":0,\"fXmax\":1,\"fXbins\":[],\"fFirst\":0,\"fLast\":0,\"fBits2\":0,\"fTimeDisplay\":false,\"fTimeFormat\":\"\",\"fLabels\":null,\"fModLabs\":null},\"fBarOffset\":0,\"fBarWidth\":1000,\"fEntries\":0,\"fTsumw\":0,\"fTsumw2\":0,\"fTsumwx\":0,\"fTsumwx2\":0,\"fMaximum\":-1111,\"fMinimum\":-1111,\"fNormFactor\":0,\"fContour\":[],\"fSumw2\":[],\"fOption\":\"\",\"fFunctions\":{\"_typename\":\"TList\",\"name\":\"TList\",\"arr\":[],\"opt\":[]},\"fBufferSize\":0,\"fBuffer\":[],\"fBinStatErrOpt\":0,\"fStatOverflows\":2,\"fArray\":{\"$arr\":\"Float32\",\"len\":52}}],\"opt\":[\"\",\"\"]},\"fExecs\":{\"_typename\":\"TList\",\"name\":\"TList\",\"arr\":[],\"opt\":[]},\"fName\":\"Summary_2\",\"fTitle\":\"Summary_2\",\"fNumPaletteColor\":0,\"fNextPaletteColor\":0},{\"_typename\":\"TStyle\",\"fUniqueID\":0,\"fBits\":0,\"fName\":\"sPHENIX\",\"fTitle\":\"sPHENIX style\",\"fLineColor\":1,\"fLineStyle\":1,\"fLineWidth\":1,\"fFillColor\":19,\"fFillStyle\":1001,\"fMarkerColor\":1,\"fMarkerStyle\":20,\"fMarkerSize\":1.2,\"fTextAngle\":0,\"fTextSize\":0.05,\"fTextAlign\":11,\"fTextColor\":1,\"fTextFont\":42,\"fXaxis\":{\"_typename\":\"TAttAxis\",\"fNdivisions\":510,\"fAxisColor\":1,\"fLabelColor\":1,\"fLabelFont\":42,\"fLabelOffset\":0.005,\"fLabelSize\":0.05,\"fTickLength\":0.03,\"fTitleOffset\":1.4,\"fTitleSize\":0.05,\"fTitleColor\":1,\"fTitleFont\":42},\"fYaxis\":{\"_typename\":\"TAttAxis\",\"fNdivisions\":510,\"fAxisColor\":1,\"fLabelColor\":1,\"fLabelFont\":42,\"fLabelOffset\":0.005,\"fLabelSize\":0.05,\"fTickLength\":0.03,\"fTitleOffset\":1.4,\"fTitleSize\":0.05,\"fTitleColor\":1,\"fTitleFont\":42},\"fZaxis\":{\"_typename\":\"TAttAxis\",\"fNdivisions\":510,\"fAxisColor\":1,\"fLabelColor\":1,\"fLabelFont\":42,\"fLabelOffset\":0.005,\"fLabelSize\":0.05,\"fTickLength\":0.03,\"fTitleOffset\":1,\"fTitleSize\":0.05,\"fTitleColor\":1,\"fTitleFont\":42},\"fBarWidth\":1,\"fBarOffset\":0,\"fColorModelPS\":0,\"fDrawBorder\":0,\"fOptLogx\":0,\"fOptLogy\":0,\"fOptLogz\":0,\"fOptDate\":0,\"fOptStat\":0,\"fOptTitle\":0,\"fOptFile\":0,\"fOptFit\":0,\"fShowEventStatus\":0,\"fShowEditor\":0,\"fShowToolBar\":0,\"fNumberContours\":80,\"fAttDate\":{\"_typename\":\"TAttText\",\"fTextAngle\":0,\"fTextSize\":0.025,\"fTextAlign\":11,\"fTextColor\":1,\"fTextFont\":62},\"fDateX\":0.01,\"fDateY\":0.01,\"fEndErrorSize\":0,\"fErrorX\":0.5,\"fFuncColor\":1,\"fFuncStyle\":1,\"fFuncWidth\":3,\"fGridColor\":0,\"fGridStyle\":3,\"fGridWidth\":1,\"fLegendBorderSize\":0,\"fLegendFillColor\":0,\"fLegendFont\":42,\"fLegendTextSize\":0.05,\"fHatchesLineWidth\":1,\"fHatchesSpacing\":1,\"fFrameFillColor\":0,\"fFrameLineColor\":1,\"fFrameFillStyle\":1001,\"fFrameLineStyle\":1,\"fFrameLineWidth\":1,\"fFrameBorderSize\":1,\"fFrameBorderMode\":0,\"fHistFillColor\":0,\"fHistLineColor\":1,\"fHistFillStyle\":1001,\"fHistLineStyle\":1,\"fHistLineWidth\":2,\"fHistMinimumZero\":false,\"fHistTopMargin\":0.05,\"fCanvasPreferGL\":false,\"fCanvasColor\":0,\"fCanvasBorderSize\":2,\"fCanvasBorderMode\":0,\"fCanvasDefH\":500,\"fCanvasDefW\":700,\"fCanvasDefX\":10,\"fCanvasDefY\":10,\"fPadColor\":0,\"fPadBorderSize\":2,\"fPadBorderMode\":0,\"fPadBottomMargin\":0.16,\"fPadTopMargin\":0.05,\"fPadLeftMargin\":0.16,\"fPadRightMargin\":0.05,\"fPadGridX\":false,\"fPadGridY\":false,\"fPadTickX\":1,\"fPadTickY\":1,\"fPaperSizeX\":20,\"fPaperSizeY\":26,\"fScreenFactor\":1,\"fStatColor\":0,\"fStatTextColor\":1,\"fStatBorderSize\":2,\"fStatFont\":62,\"fStatFontSize\":0,\"fStatStyle\":1001,\"fStatFormat\":\"6.4g\",\"fStatX\":0.98,\"fStatY\":0.995,\"fStatW\":0.2,\"fStatH\":0.16,\"fStripDecimals\":true,\"fTitleAlign\":13,\"fTitleColor\":19,\"fTitleTextColor\":1,\"fTitleBorderSize\":2,\"fTitleFont\":62,\"fTitleFontSize\":0,\"fTitleStyle\":1001,\"fTitleX\":0.01,\"fTitleY\":0.995,\"fTitleW\":0,\"fTitleH\":0,\"fLegoInnerR\":0.5,\"fLineStyles\":[\"\",\"  \",\"  12 12 \",\" 4 8\",\" 12 16 4 16\",\" 20 12 4 12\",\" 20 12 4 12 4 12 4 12\",\" 20 20\",\" 20 12 4 12 4 12\",\" 80 20\",\" 80 40 4 40\",\"  \",\"  \",\"  \",\"  \",\"  \",\"  \",\"  \",\"  \",\"  \",\"  \",\"  \",\"  \",\"  \",\"  \",\"  \",\"  \",\"  \",\"  \",\"  \"],\"fHeaderPS\":\"\",\"fTitlePS\":\"\",\"fFitFormat\":\"5.4g\",\"fPaintTextFormat\":\"g\",\"fLineScalePS\":3,\"fJoinLinePS\":0,\"fCapLinePS\":0,\"fTimeOffset\":788918400,\"fImageScaling\":1}],\"opt\":[\"\",\"\",\"\"]},\"fExecs\":null,\"fName\":\"Summary\",\"fTitle\":\"Summary\",\"fNumPaletteColor\":0,\"fNextPaletteColor\":0,\"fDISPLAY\":\"$DISPLAY\",\"fDoubleBuffer\":0,\"fRetained\":true,\"fXsizeUser\":0,\"fYsizeUser\":0,\"fXsizeReal\":20,\"fYsizeReal\":12.63158,\"fWindowTopX\":0,\"fWindowTopY\":0,\"fWindowWidth\":0,\"fWindowHeight\":0,\"fCw\":946,\"fCh\":572,\"fCatt\":{\"_typename\":\"TAttCanvas\",\"fXBetween\":2,\"fYBetween\":2,\"fTitleFromTop\":1.2,\"fXdate\":0.2,\"fYdate\":0.3,\"fAdate\":1},\"kMoveOpaque\":true,\"kResizeOpaque\":true,\"fHighLightColor\":2,\"fBatch\":true,\"kShowEventStatus\":false,\"kAutoExec\":true,\"kMenuBar\":true});\n",
       "   Core.settings.HandleKeys = false;\n",
       "   Core.draw(\"root_plot_1681551168030\", obj, \"\");\n",
       "}\n",
       "\n",
       "function script_load_root_plot_1681551168030(src, on_error) {\n",
       "    let script = document.createElement('script');\n",
       "    script.src = src;\n",
       "    script.onload = function() { display_root_plot_1681551168030(JSROOT); };\n",
       "    script.onerror = function() { script.remove(); on_error(); };\n",
       "    document.head.appendChild(script);\n",
       "}\n",
       "\n",
       "if (typeof requirejs !== 'undefined') {\n",
       "\n",
       "    // We are in jupyter notebooks, use require.js which should be configured already\n",
       "    requirejs.config({\n",
       "       paths: { 'JSRootCore' : [ 'scripts/JSRoot.core', 'https://root.cern/js/6.1.1/scripts/JSRoot.core.min', 'https://jsroot.gsi.de/6.1.1/scripts/JSRoot.core.min' ] }\n",
       "    })(['JSRootCore'],  function(Core) {\n",
       "       display_root_plot_1681551168030(Core);\n",
       "    });\n",
       "\n",
       "} else if (typeof JSROOT !== 'undefined') {\n",
       "\n",
       "   // JSROOT already loaded, just use it\n",
       "   display_root_plot_1681551168030(JSROOT);\n",
       "\n",
       "} else {\n",
       "\n",
       "    // We are in jupyterlab without require.js, directly loading jsroot\n",
       "    // Jupyterlab might be installed in a different base_url so we need to know it.\n",
       "    try {\n",
       "        var base_url = JSON.parse(document.getElementById('jupyter-config-data').innerHTML).baseUrl;\n",
       "    } catch(_) {\n",
       "        var base_url = '/';\n",
       "    }\n",
       "\n",
       "    // Try loading a local version of requirejs and fallback to cdn if not possible.\n",
       "    script_load_root_plot_1681551168030(base_url + 'static/scripts/JSRoot.core.js', function(){\n",
       "        console.error('Fail to load JSROOT locally, please check your jupyter_notebook_config.py file');\n",
       "        script_load_root_plot_1681551168030('https://root.cern/js/6.1.1/scripts/JSRoot.core.min.js', function(){\n",
       "            document.getElementById(\"root_plot_1681551168030\").innerHTML = \"Failed to load JSROOT\";\n",
       "        });\n",
       "    });\n",
       "}\n",
       "\n",
       "</script>\n"
      ],
      "text/plain": [
       "<IPython.core.display.HTML object>"
      ]
     },
     "metadata": {},
     "output_type": "display_data"
    }
   ],
   "source": [
    "%%cpp\n",
    "\n",
    "KSTestSummary::getInstance()->make_summary_TCanvas() -> Draw();"
   ]
  },
  {
   "cell_type": "code",
   "execution_count": null,
   "metadata": {},
   "outputs": [],
   "source": []
  }
 ],
 "metadata": {
  "kernelspec": {
   "display_name": "Python (sPHENIX)",
   "language": "python",
   "name": "sphenix-env"
  },
  "language_info": {
   "codemirror_mode": {
    "name": "ipython",
    "version": 3
   },
   "file_extension": ".py",
   "mimetype": "text/x-python",
   "name": "python",
   "nbconvert_exporter": "python",
   "pygments_lexer": "ipython3",
   "version": "3.10.8"
  }
 },
 "nbformat": 4,
 "nbformat_minor": 4
}
