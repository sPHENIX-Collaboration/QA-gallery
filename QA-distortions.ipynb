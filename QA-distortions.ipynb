{
 "cells": [
  {
   "cell_type": "markdown",
   "metadata": {},
   "source": [
    "# Introduction\n",
    "\n",
    "QA plots for the generic distortions reconstruction performance"
   ]
  },
  {
   "cell_type": "code",
   "execution_count": 1,
   "metadata": {
    "execution": {
     "iopub.execute_input": "2024-10-02T00:34:23.357355Z",
     "iopub.status.busy": "2024-10-02T00:34:23.356809Z",
     "iopub.status.idle": "2024-10-02T00:34:23.369064Z",
     "shell.execute_reply": "2024-10-02T00:34:23.368040Z"
    },
    "jupyter": {
     "source_hidden": true
    },
    "tags": []
   },
   "outputs": [],
   "source": [
    "# imports to write dynamic markdown contents\n",
    "import os\n",
    "from IPython.display import display, Markdown, Latex\n",
    "from IPython.display import HTML"
   ]
  },
  {
   "cell_type": "code",
   "execution_count": 2,
   "metadata": {
    "execution": {
     "iopub.execute_input": "2024-10-02T00:34:23.373018Z",
     "iopub.status.busy": "2024-10-02T00:34:23.372624Z",
     "iopub.status.idle": "2024-10-02T00:34:23.385386Z",
     "shell.execute_reply": "2024-10-02T00:34:23.384186Z"
    },
    "tags": []
   },
   "outputs": [
    {
     "data": {
      "text/markdown": [
       "*For the result HTML page:* "
      ],
      "text/plain": [
       "<IPython.core.display.Markdown object>"
      ]
     },
     "metadata": {},
     "output_type": "display_data"
    },
    {
     "data": {
      "text/html": [
       "<script>\n",
       "code_show=true; \n",
       "function code_toggle() {\n",
       " if (code_show){\n",
       " $('div.input').hide();\n",
       " $('div.jp-CodeMirrorEditor').hide(); // for newer versions of nbviewer.org\n",
       " } else {\n",
       " $('div.input').show();\n",
       " $('div.jp-CodeMirrorEditor').show(); // for newer versions of nbviewer.org\n",
       " }\n",
       " code_show = !code_show\n",
       "} \n",
       "$( document ).ready(code_toggle);\n",
       "</script>\n",
       "<form action=\"javascript:code_toggle()\"><input type=\"submit\" value=\"Click here to toggle on/off the raw code.\"></form>"
      ],
      "text/plain": [
       "<IPython.core.display.HTML object>"
      ]
     },
     "execution_count": 2,
     "metadata": {},
     "output_type": "execute_result"
    }
   ],
   "source": [
    "# turn off/on code for the result HTML page\n",
    "\n",
    "display(Markdown('*For the result HTML page:* '))\n",
    "    \n",
    "HTML('''<script>\n",
    "code_show=true; \n",
    "function code_toggle() {\n",
    " if (code_show){\n",
    " $('div.input').hide();\n",
    " $('div.jp-CodeMirrorEditor').hide(); // for newer versions of nbviewer.org\n",
    " } else {\n",
    " $('div.input').show();\n",
    " $('div.jp-CodeMirrorEditor').show(); // for newer versions of nbviewer.org\n",
    " }\n",
    " code_show = !code_show\n",
    "} \n",
    "$( document ).ready(code_toggle);\n",
    "</script>\n",
    "<form action=\"javascript:code_toggle()\"><input type=\"submit\" value=\"Click here to toggle on/off the raw code.\"></form>''')"
   ]
  },
  {
   "cell_type": "code",
   "execution_count": 3,
   "metadata": {
    "execution": {
     "iopub.execute_input": "2024-10-02T00:34:23.425621Z",
     "iopub.status.busy": "2024-10-02T00:34:23.424537Z",
     "iopub.status.idle": "2024-10-02T00:34:23.433663Z",
     "shell.execute_reply": "2024-10-02T00:34:23.432654Z"
    }
   },
   "outputs": [
    {
     "data": {
      "text/markdown": [
       "[//]: # (This section starts with a 2nd level heading and get embedded in the result QA report at https://github.com/sPHENIX-Collaboration/QA-gallery/tree/QA-tracking-low-occupancy)\n",
       "\n",
       "## Tracking Distortions\n",
       "\n",
       "Test tracking QA distortions\n",
       "\n",
       "The source code of the macro can be found at https://github.com/sPHENIX-Collaboration/macros/tree/QA-tracking-distortions or [comparing it to the master branch](https://github.com/sPHENIX-Collaboration/macros/compare/QA-tracking-distortions?expand=1).\n"
      ],
      "text/plain": [
       "<IPython.core.display.Markdown object>"
      ]
     },
     "metadata": {},
     "output_type": "display_data"
    }
   ],
   "source": [
    "import os.path\n",
    "\n",
    "# readme file of the macros, available if run under JenkinsCI\n",
    "# https://github.com/sPHENIX-Collaboration/utilities/blob/master/jenkins/built-test/test-tracking-qa.sh \n",
    "\n",
    "macro_markdown = 'Fun4All-macros-README.md'\n",
    "\n",
    "\n",
    "if os.path.isfile(macro_markdown) :\n",
    "    with open(macro_markdown, 'r') as file:\n",
    "        display(Markdown(file.read()))"
   ]
  },
  {
   "cell_type": "markdown",
   "metadata": {},
   "source": [
    "## `pyROOT` env check"
   ]
  },
  {
   "cell_type": "code",
   "execution_count": 4,
   "metadata": {
    "execution": {
     "iopub.execute_input": "2024-10-02T00:34:23.437174Z",
     "iopub.status.busy": "2024-10-02T00:34:23.436743Z",
     "iopub.status.idle": "2024-10-02T00:34:26.498619Z",
     "shell.execute_reply": "2024-10-02T00:34:26.496796Z"
    },
    "tags": []
   },
   "outputs": [
    {
     "name": "stdout",
     "output_type": "stream",
     "text": [
      "Welcome to JupyROOT 6.26/06\n"
     ]
    },
    {
     "data": {
      "text/markdown": [
       "via sPHENIX software distribution at `/var/lib/jenkins/workspace/sPHENIX/Build-Master-gcc12@3/build/new/install.1`"
      ],
      "text/plain": [
       "<IPython.core.display.Markdown object>"
      ]
     },
     "metadata": {},
     "output_type": "display_data"
    }
   ],
   "source": [
    "import ROOT\n",
    "\n",
    "OFFLINE_MAIN = os.getenv(\"OFFLINE_MAIN\")\n",
    "if OFFLINE_MAIN is not None:\n",
    "    display(Markdown(f\"via sPHENIX software distribution at `{OFFLINE_MAIN}`\"))"
   ]
  },
  {
   "cell_type": "markdown",
   "metadata": {},
   "source": [
    "## Plotting source code"
   ]
  },
  {
   "cell_type": "code",
   "execution_count": 5,
   "metadata": {
    "execution": {
     "iopub.execute_input": "2024-10-02T00:34:26.503521Z",
     "iopub.status.busy": "2024-10-02T00:34:26.503216Z",
     "iopub.status.idle": "2024-10-02T00:34:26.637351Z",
     "shell.execute_reply": "2024-10-02T00:34:26.635495Z"
    }
   },
   "outputs": [
    {
     "data": {
      "text/markdown": [
       "View the source code repository at https://github.com/sPHENIX-Collaboration/QA-gallery.git"
      ],
      "text/plain": [
       "<IPython.core.display.Markdown object>"
      ]
     },
     "metadata": {},
     "output_type": "display_data"
    }
   ],
   "source": [
    "import subprocess\n",
    "\n",
    "try:\n",
    "    git_url = \\\n",
    "        subprocess.run(['git','remote','get-url','origin'], stdout=subprocess.PIPE)\\\n",
    "        .stdout.decode('utf-8').strip()\\\n",
    "        .replace('git@github.com:','https://github.com/')\n",
    "\n",
    "    display(Markdown(f\"View the source code repository at {git_url}\"))\n",
    "except: # catch *all* exceptions\n",
    "    #     well do nothing\n",
    "    pass"
   ]
  },
  {
   "cell_type": "raw",
   "metadata": {},
   "source": [
    "## JenkinsCI information (if available)"
   ]
  },
  {
   "cell_type": "code",
   "execution_count": 6,
   "metadata": {
    "execution": {
     "iopub.execute_input": "2024-10-02T00:34:26.642514Z",
     "iopub.status.busy": "2024-10-02T00:34:26.641827Z",
     "iopub.status.idle": "2024-10-02T00:34:26.769067Z",
     "shell.execute_reply": "2024-10-02T00:34:26.767550Z"
    }
   },
   "outputs": [
    {
     "data": {
      "text/markdown": [
       "Some further details about the QA run, if executed under the Jenkins CI:"
      ],
      "text/plain": [
       "<IPython.core.display.Markdown object>"
      ]
     },
     "metadata": {},
     "output_type": "display_data"
    },
    {
     "data": {
      "text/markdown": [
       "* The commit being checked is sPHENIX-Collaboration/coresoftware/bbe70dd664145ebf2f26fb3b4d9c5e7987a674b9"
      ],
      "text/plain": [
       "<IPython.core.display.Markdown object>"
      ]
     },
     "metadata": {},
     "output_type": "display_data"
    },
    {
     "data": {
      "text/markdown": [
       "* Link to the pull request: https://github.com/sPHENIX-Collaboration/coresoftware/pull/3166"
      ],
      "text/plain": [
       "<IPython.core.display.Markdown object>"
      ]
     },
     "metadata": {},
     "output_type": "display_data"
    },
    {
     "data": {
      "text/markdown": [
       "* Link to the build: https://web.sdcc.bnl.gov/jenkins-sphenix/job/sPHENIX/job/test-tracking-distortions-qa/2549/"
      ],
      "text/plain": [
       "<IPython.core.display.Markdown object>"
      ]
     },
     "metadata": {},
     "output_type": "display_data"
    },
    {
     "data": {
      "text/markdown": [
       "* Git repo for macros: https://github.com/sPHENIX-Collaboration/macros.git , which merges `master` and the QA tracking branch"
      ],
      "text/plain": [
       "<IPython.core.display.Markdown object>"
      ]
     },
     "metadata": {},
     "output_type": "display_data"
    },
    {
     "data": {
      "text/markdown": [
       "* Download the QA ROOT files: https://web.sdcc.bnl.gov/jenkins-sphenix/job/sPHENIX/job/test-tracking-distortions-qa/2549/display/redirect?page=artifacts"
      ],
      "text/plain": [
       "<IPython.core.display.Markdown object>"
      ]
     },
     "metadata": {},
     "output_type": "display_data"
    },
    {
     "data": {
      "text/markdown": [
       "Automatically generated by [sPHENIX Jenkins continuous integration](https://web.sdcc.bnl.gov/jenkins-sphenix/) [![sPHENIX](https://raw.githubusercontent.com/sPHENIX-Collaboration/utilities/master/jenkins/material/sphenix-logo-white-bg-72p.png)](https://www.sphenix.bnl.gov/web/) &nbsp; &nbsp; &nbsp; &nbsp; &nbsp; &nbsp; [![jenkins.io](https://raw.githubusercontent.com/sPHENIX-Collaboration/utilities/master/jenkins/material/jenkins_logo_title-72p.png)](https://jenkins.io/)"
      ],
      "text/plain": [
       "<IPython.core.display.Markdown object>"
      ]
     },
     "metadata": {},
     "output_type": "display_data"
    }
   ],
   "source": [
    "display(Markdown('Some further details about the QA run, if executed under the Jenkins CI:'))\n",
    "\n",
    "checkrun_repo_commit = os.getenv(\"checkrun_repo_commit\")\n",
    "if checkrun_repo_commit is not None:\n",
    "    display(Markdown(f\"* The commit being checked is {checkrun_repo_commit}\"))\n",
    "        \n",
    "ghprbPullLink = os.getenv(\"ghprbPullLink\")\n",
    "if ghprbPullLink is not None:\n",
    "    display(Markdown(f\"* Link to the pull request: {ghprbPullLink}\"))\n",
    "\n",
    "BUILD_URL =  os.getenv(\"BUILD_URL\")\n",
    "if BUILD_URL is not None:\n",
    "    display(Markdown(f\"* Link to the build: {BUILD_URL}\"))\n",
    "\n",
    "git_url_macros =  os.getenv(\"git_url_macros\")\n",
    "sha_macros =  os.getenv(\"sha_macros\")\n",
    "if git_url_macros is not None:\n",
    "    display(Markdown(f\"* Git repo for macros: {git_url_macros} , which merges `{sha_macros}` and the QA tracking branch\"))\n",
    "\n",
    "RUN_ARTIFACTS_DISPLAY_URL = os.getenv(\"RUN_ARTIFACTS_DISPLAY_URL\")\n",
    "if RUN_ARTIFACTS_DISPLAY_URL is not None:\n",
    "    display(Markdown(f\"* Download the QA ROOT files: {RUN_ARTIFACTS_DISPLAY_URL}\"))\n",
    "\n",
    "JENKINS_URL  = os.getenv(\"JENKINS_URL\")\n",
    "if JENKINS_URL is not None:\n",
    "    display(Markdown(f\"Automatically generated by [sPHENIX Jenkins continuous integration]({JENKINS_URL}) [![sPHENIX](https://raw.githubusercontent.com/sPHENIX-Collaboration/utilities/master/jenkins/material/sphenix-logo-white-bg-72p.png)](https://www.sphenix.bnl.gov/web/) &nbsp; &nbsp; &nbsp; &nbsp; &nbsp; &nbsp; [![jenkins.io](https://raw.githubusercontent.com/sPHENIX-Collaboration/utilities/master/jenkins/material/jenkins_logo_title-72p.png)](https://jenkins.io/)\"))"
   ]
  },
  {
   "cell_type": "markdown",
   "metadata": {},
   "source": [
    "\n",
    "# Initialization"
   ]
  },
  {
   "cell_type": "code",
   "execution_count": 7,
   "metadata": {
    "execution": {
     "iopub.execute_input": "2024-10-02T00:34:26.774233Z",
     "iopub.status.busy": "2024-10-02T00:34:26.773845Z",
     "iopub.status.idle": "2024-10-02T00:34:27.468263Z",
     "shell.execute_reply": "2024-10-02T00:34:27.466548Z"
    },
    "scrolled": true,
    "tags": []
   },
   "outputs": [],
   "source": [
    "%%cpp -d\n",
    "\n",
    "#include \"QA_Draw_Utility.C\"\n",
    "\n",
    "#include <sPhenixStyle.C>\n",
    "\n",
    "#include <TFile.h>\n",
    "#include <TLine.h>\n",
    "#include <TString.h>\n",
    "#include <TTree.h>\n",
    "#include <cassert>\n",
    "#include <cmath>"
   ]
  },
  {
   "cell_type": "code",
   "execution_count": 8,
   "metadata": {
    "execution": {
     "iopub.execute_input": "2024-10-02T00:34:27.473410Z",
     "iopub.status.busy": "2024-10-02T00:34:27.472848Z",
     "iopub.status.idle": "2024-10-02T00:34:27.829301Z",
     "shell.execute_reply": "2024-10-02T00:34:27.827977Z"
    }
   },
   "outputs": [
    {
     "name": "stdout",
     "output_type": "stream",
     "text": [
      "sPhenixStyle: Applying nominal settings.\n",
      "sPhenixStyle: ROOT6 mode\n"
     ]
    }
   ],
   "source": [
    "%%cpp\n",
    "\n",
    "SetsPhenixStyle();\n",
    "TVirtualFitter::SetDefaultFitter(\"Minuit2\");"
   ]
  },
  {
   "cell_type": "code",
   "execution_count": 9,
   "metadata": {
    "execution": {
     "iopub.execute_input": "2024-10-02T00:34:27.833370Z",
     "iopub.status.busy": "2024-10-02T00:34:27.833089Z",
     "iopub.status.idle": "2024-10-02T00:34:27.982939Z",
     "shell.execute_reply": "2024-10-02T00:34:27.981420Z"
    }
   },
   "outputs": [],
   "source": [
    "%jsroot on"
   ]
  },
  {
   "cell_type": "markdown",
   "metadata": {},
   "source": [
    "## Inputs and file checks"
   ]
  },
  {
   "cell_type": "code",
   "execution_count": 10,
   "metadata": {
    "execution": {
     "iopub.execute_input": "2024-10-02T00:34:27.987608Z",
     "iopub.status.busy": "2024-10-02T00:34:27.987301Z",
     "iopub.status.idle": "2024-10-02T00:34:28.096996Z",
     "shell.execute_reply": "2024-10-02T00:34:28.095276Z"
    }
   },
   "outputs": [],
   "source": [
    "\n",
    "qa_file_name_new = os.getenv(\"qa_file_name_new\")\n",
    "if qa_file_name_new is None:\n",
    "    qa_file_name_new = \"G4sPHENIX_test-tracking_Event500_Sum5_qa.root\"\n",
    "    display(Markdown(f\"`qa_file_name_new` env not set. use the default `qa_file_name_new={qa_file_name_new}`\"))\n",
    "\n",
    "qa_file_name_ref = os.getenv(\"qa_file_name_ref\")\n",
    "if qa_file_name_ref is None:\n",
    "    qa_file_name_ref = qa_file_name_new\n",
    "    display(Markdown(f\"`qa_file_name_ref` env not set. use the default same as new file `qa_file_name_ref={qa_file_name_ref}`\"))\n",
    "elif qa_file_name_ref == 'None':\n",
    "    qa_file_name_ref = qa_file_name_new\n",
    "    display(Markdown(f\"`qa_file_name_ref` env not set. use the default same as new file `qa_file_name_ref={qa_file_name_ref}`\"))\n",
    "    \n"
   ]
  },
  {
   "cell_type": "code",
   "execution_count": 11,
   "metadata": {
    "execution": {
     "iopub.execute_input": "2024-10-02T00:34:28.100590Z",
     "iopub.status.busy": "2024-10-02T00:34:28.100011Z",
     "iopub.status.idle": "2024-10-02T00:34:28.296042Z",
     "shell.execute_reply": "2024-10-02T00:34:28.294263Z"
    }
   },
   "outputs": [
    {
     "data": {
      "text/markdown": [
       "Opening QA file at `G4sPHENIX_test-tracking_Event700_Sum3_qa.root`"
      ],
      "text/plain": [
       "<IPython.core.display.Markdown object>"
      ]
     },
     "metadata": {},
     "output_type": "display_data"
    },
    {
     "data": {
      "text/markdown": [
       "Opening QA reference file at `reference/G4sPHENIX_test-tracking_Event700_Sum3_qa.root`"
      ],
      "text/plain": [
       "<IPython.core.display.Markdown object>"
      ]
     },
     "metadata": {},
     "output_type": "display_data"
    }
   ],
   "source": [
    "# qa_file_new = ROOT.TFile.Open(qa_file_name_new);\n",
    "\n",
    "# assert qa_file_new.IsOpen()\n",
    "# qa_file_new.ls()\n",
    "display(Markdown(f\"Opening QA file at `{qa_file_name_new}`\"))\n",
    "ROOT.gInterpreter.ProcessLine(f\"TFile *qa_file_new = new TFile(\\\"{qa_file_name_new}\\\");\")\n",
    "ROOT.gInterpreter.ProcessLine(f\"const char * qa_file_name_new = \\\"{qa_file_name_new}\\\";\")\n",
    "\n",
    "if qa_file_name_ref is not None:\n",
    "#     qa_file_ref = ROOT.TFile.Open(qa_file_name_ref);\n",
    "\n",
    "#     assert qa_file_ref.IsOpen()\n",
    "    display(Markdown(f\"Opening QA reference file at `{qa_file_name_ref}`\"))\n",
    "    ROOT.gInterpreter.ProcessLine(f\"TFile *qa_file_ref = new TFile(\\\"{qa_file_name_ref}\\\");\")\n",
    "    ROOT.gInterpreter.ProcessLine(f\"const char *  qa_file_name_ref = \\\"{qa_file_name_ref}\\\";\")\n",
    "else:\n",
    "    ROOT.gInterpreter.ProcessLine(f\"TFile *qa_file_ref = nullptr;\")\n",
    "    ROOT.gInterpreter.ProcessLine(f\"const char *  qa_file_name_ref = nullptr;\")\n"
   ]
  },
  {
   "cell_type": "code",
   "execution_count": 12,
   "metadata": {
    "execution": {
     "iopub.execute_input": "2024-10-02T00:34:28.299620Z",
     "iopub.status.busy": "2024-10-02T00:34:28.299039Z",
     "iopub.status.idle": "2024-10-02T00:34:28.428706Z",
     "shell.execute_reply": "2024-10-02T00:34:28.427032Z"
    },
    "scrolled": true,
    "tags": []
   },
   "outputs": [],
   "source": [
    "%%cpp\n",
    "\n",
    "if (qa_file_new == nullptr) \n",
    "{\n",
    "    cout <<\"Error, can not open QA root file\"<<qa_file_name_new<<endl;\n",
    "    exit(1);\n",
    "}\n",
    "\n",
    "if (qa_file_ref == nullptr) \n",
    "{\n",
    "    cout <<\"Error, can not open ref QA root file\"<<qa_file_name_ref<<endl;\n",
    "    exit(1);\n",
    "}\n",
    "\n",
    "if (not qa_file_new->IsOpen()) \n",
    "{\n",
    "    cout <<\"Error, can not open QA root file\"<<qa_file_name_new<<endl;\n",
    "    exit(1);\n",
    "}\n",
    "\n",
    "if (not qa_file_ref->IsOpen()) \n",
    "{\n",
    "    cout <<\"Error, can not open ref QA root file\"<<qa_file_name_ref<<endl;\n",
    "    exit(1);\n",
    "}"
   ]
  },
  {
   "cell_type": "markdown",
   "metadata": {
    "tags": []
   },
   "source": [
    "# Delta Rphi residuals (track - cluster) vs layer number"
   ]
  },
  {
   "cell_type": "code",
   "execution_count": 13,
   "metadata": {
    "execution": {
     "iopub.execute_input": "2024-10-02T00:34:28.433779Z",
     "iopub.status.busy": "2024-10-02T00:34:28.433221Z",
     "iopub.status.idle": "2024-10-02T00:34:29.022430Z",
     "shell.execute_reply": "2024-10-02T00:34:29.020949Z"
    },
    "tags": []
   },
   "outputs": [
    {
     "name": "stderr",
     "output_type": "stream",
     "text": [
      "Warning in <TFile::Append>: Replacing existing TH1: h_QAG4SimulationDistortions_deltarphi_layer_FitResolution (Potential memory leak).\n",
      "Warning in <TFile::Append>: Replacing existing TH1: h_QAG4SimulationDistortions_deltarphi_layer_FitResolution (Potential memory leak).\n",
      "Warning in <TFile::Append>: Replacing existing TH1: h_QAG4SimulationDistortions_deltarphi_layer_FitResolution (Potential memory leak).\n"
     ]
    },
    {
     "data": {
      "text/html": [
       "\n",
       "\n",
       "<div id=\"root_plot_1727829268990\"\n",
       "     style=\"width: 1196px; height: 472px\">\n",
       "</div>\n",
       "<script>\n",
       "\n",
       "function display_root_plot_1727829268990(Core) {\n",
       "   let obj = Core.parse({\"_typename\":\"TCanvas\",\"fUniqueID\":0,\"fBits\":3342344,\"fLineColor\":1,\"fLineStyle\":1,\"fLineWidth\":1,\"fFillColor\":0,\"fFillStyle\":1001,\"fLeftMargin\":0.16,\"fRightMargin\":0.05,\"fBottomMargin\":0.16,\"fTopMargin\":0.05,\"fXfile\":2,\"fYfile\":2,\"fAfile\":1,\"fXstat\":0.99,\"fYstat\":0.99,\"fAstat\":2,\"fFrameFillColor\":0,\"fFrameLineColor\":1,\"fFrameFillStyle\":1001,\"fFrameLineStyle\":1,\"fFrameLineWidth\":1,\"fFrameBorderSize\":1,\"fFrameBorderMode\":0,\"fX1\":0,\"fY1\":0,\"fX2\":1,\"fY2\":1,\"fXtoAbsPixelk\":5e-5,\"fXtoPixelk\":5e-5,\"fXtoPixel\":1196,\"fYtoAbsPixelk\":472.00005,\"fYtoPixelk\":472.00005,\"fYtoPixel\":-472,\"fUtoAbsPixelk\":5e-5,\"fUtoPixelk\":5e-5,\"fUtoPixel\":1196,\"fVtoAbsPixelk\":472.00005,\"fVtoPixelk\":472,\"fVtoPixel\":-472,\"fAbsPixeltoXk\":0,\"fPixeltoXk\":0,\"fPixeltoX\":8.36120401337793e-4,\"fAbsPixeltoYk\":1,\"fPixeltoYk\":0,\"fPixeltoY\":-0.00211864406779661,\"fXlowNDC\":0,\"fYlowNDC\":0,\"fXUpNDC\":1,\"fYUpNDC\":1,\"fWNDC\":1,\"fHNDC\":1,\"fAbsXlowNDC\":0,\"fAbsYlowNDC\":0,\"fAbsWNDC\":1,\"fAbsHNDC\":1,\"fUxmin\":0,\"fUymin\":0,\"fUxmax\":1,\"fUymax\":1,\"fTheta\":30,\"fPhi\":30,\"fAspectRatio\":0,\"fNumber\":0,\"fTickx\":1,\"fTicky\":1,\"fLogx\":0,\"fLogy\":0,\"fLogz\":0,\"fPadPaint\":0,\"fCrosshair\":0,\"fCrosshairPos\":0,\"fBorderSize\":2,\"fBorderMode\":0,\"fModified\":false,\"fGridx\":false,\"fGridy\":false,\"fAbsCoord\":false,\"fEditable\":true,\"fFixedAspectRatio\":false,\"fPrimitives\":{\"_typename\":\"TList\",\"name\":\"TList\",\"arr\":[{\"_typename\":\"TPad\",\"fUniqueID\":0,\"fBits\":9,\"fLineColor\":1,\"fLineStyle\":1,\"fLineWidth\":1,\"fFillColor\":0,\"fFillStyle\":1001,\"fLeftMargin\":0.16,\"fRightMargin\":0.05,\"fBottomMargin\":0.16,\"fTopMargin\":0.14,\"fXfile\":2,\"fYfile\":2,\"fAfile\":1,\"fXstat\":0.99,\"fYstat\":0.99,\"fAstat\":2,\"fFrameFillColor\":0,\"fFrameLineColor\":1,\"fFrameFillStyle\":1001,\"fFrameLineStyle\":1,\"fFrameLineWidth\":1,\"fFrameBorderSize\":1,\"fFrameBorderMode\":0,\"fX1\":-11.5443032258712,\"fY1\":-145.714281578453,\"fX2\":60.6075948924781,\"fY2\":139.999997445515,\"fXtoAbsPixelk\":103.812846054256,\"fXtoPixelk\":91.8528463215829,\"fXtoPixel\":7.95654744374156,\"fYtoAbsPixelk\":231.374451169646,\"fYtoPixelk\":226.654451275146,\"fYtoPixel\":-1.61896003864825,\"fUtoAbsPixelk\":11.9600497326732,\"fUtoPixelk\":5e-5,\"fUtoPixel\":574.080000534654,\"fVtoAbsPixelk\":467.2800501055,\"fVtoPixelk\":462.560000211,\"fVtoPixel\":-462.560000211,\"fAbsPixeltoXk\":-13.0474677350052,\"fPixeltoXk\":-11.5443032258712,\"fPixeltoX\":0.125682654074611,\"fAbsPixeltoYk\":142.915449205795,\"fPixeltoYk\":-145.714281578453,\"fPixeltoY\":-0.617680471492645,\"fXlowNDC\":0.00999999977648258,\"fYlowNDC\":0.00999999977648258,\"fXUpNDC\":0.490000000223517,\"fYUpNDC\":0.990000000223517,\"fWNDC\":0.480000000447035,\"fHNDC\":0.980000000447035,\"fAbsXlowNDC\":0.00999999977648258,\"fAbsYlowNDC\":0.00999999977648258,\"fAbsWNDC\":0.480000000447035,\"fAbsHNDC\":0.980000000447035,\"fUxmin\":0,\"fUymin\":-100,\"fUxmax\":57,\"fUymax\":100,\"fTheta\":30,\"fPhi\":30,\"fAspectRatio\":0,\"fNumber\":1,\"fTickx\":1,\"fTicky\":1,\"fLogx\":0,\"fLogy\":0,\"fLogz\":0,\"fPadPaint\":0,\"fCrosshair\":0,\"fCrosshairPos\":0,\"fBorderSize\":2,\"fBorderMode\":0,\"fModified\":false,\"fGridx\":false,\"fGridy\":false,\"fAbsCoord\":false,\"fEditable\":true,\"fFixedAspectRatio\":false,\"fPrimitives\":{\"_typename\":\"TList\",\"name\":\"TList\",\"arr\":[{\"_typename\":\"TFrame\",\"fUniqueID\":0,\"fBits\":8,\"fLineColor\":1,\"fLineStyle\":1,\"fLineWidth\":1,\"fFillColor\":0,\"fFillStyle\":1001,\"fX1\":0,\"fY1\":-100,\"fX2\":57,\"fY2\":100,\"fBorderSize\":1,\"fBorderMode\":0},{\"_typename\":\"TH1F\",\"fUniqueID\":0,\"fBits\":520,\"fName\":\"h_QAG4SimulationDistortions_deltarphi_layer_FitResolution\",\"fTitle\":\"\",\"fLineColor\":603,\"fLineStyle\":1,\"fLineWidth\":2,\"fFillColor\":0,\"fFillStyle\":1001,\"fMarkerColor\":603,\"fMarkerStyle\":20,\"fMarkerSize\":1.2,\"fNcells\":59,\"fXaxis\":{\"_typename\":\"TAxis\",\"fUniqueID\":0,\"fBits\":0,\"fName\":\"xaxis\",\"fTitle\":\"layer\",\"fNdivisions\":510,\"fAxisColor\":1,\"fLabelColor\":1,\"fLabelFont\":42,\"fLabelOffset\":0.005,\"fLabelSize\":0.05,\"fTickLength\":0.03,\"fTitleOffset\":1.4,\"fTitleSize\":0.05,\"fTitleColor\":1,\"fTitleFont\":42,\"fNbins\":57,\"fXmin\":0,\"fXmax\":57,\"fXbins\":[],\"fFirst\":0,\"fLast\":0,\"fBits2\":0,\"fTimeDisplay\":false,\"fTimeFormat\":\"\",\"fLabels\":null,\"fModLabs\":null},\"fYaxis\":{\"_typename\":\"TAxis\",\"fUniqueID\":0,\"fBits\":0,\"fName\":\"yaxis\",\"fTitle\":\"#LT#Delta r#phi#GT (#mum)\",\"fNdivisions\":510,\"fAxisColor\":1,\"fLabelColor\":1,\"fLabelFont\":42,\"fLabelOffset\":0.005,\"fLabelSize\":0.05,\"fTickLength\":0.03,\"fTitleOffset\":1.4,\"fTitleSize\":0.05,\"fTitleColor\":1,\"fTitleFont\":42,\"fNbins\":1,\"fXmin\":0,\"fXmax\":1,\"fXbins\":[],\"fFirst\":0,\"fLast\":0,\"fBits2\":0,\"fTimeDisplay\":false,\"fTimeFormat\":\"\",\"fLabels\":null,\"fModLabs\":null},\"fZaxis\":{\"_typename\":\"TAxis\",\"fUniqueID\":0,\"fBits\":0,\"fName\":\"zaxis\",\"fTitle\":\"\",\"fNdivisions\":510,\"fAxisColor\":1,\"fLabelColor\":1,\"fLabelFont\":42,\"fLabelOffset\":0.005,\"fLabelSize\":0.05,\"fTickLength\":0.03,\"fTitleOffset\":1,\"fTitleSize\":0.05,\"fTitleColor\":1,\"fTitleFont\":42,\"fNbins\":1,\"fXmin\":0,\"fXmax\":1,\"fXbins\":[],\"fFirst\":0,\"fLast\":0,\"fBits2\":0,\"fTimeDisplay\":false,\"fTimeFormat\":\"\",\"fLabels\":null,\"fModLabs\":null},\"fBarOffset\":0,\"fBarWidth\":1000,\"fEntries\":48,\"fTsumw\":-3115996.44705653,\"fTsumw2\":4421832292284.9,\"fTsumwx\":-129453655.740991,\"fTsumwx2\":-5149859045.63617,\"fMaximum\":100,\"fMinimum\":-100,\"fNormFactor\":0,\"fContour\":[],\"fSumw2\":{\"$arr\":\"Float64\",\"len\":59,\"p\":8,\"v\":[932.866878990465,743.079212964111,840.503277879859,673.986001316101,1134.47484604923,883.762134975402,806.283025572426,991.909755161025,671.98148957487,877.630520587267,885.204400844807,930.210128022888,1106.57596495299,1252.2284637273,1058.22605388335,1044.95585632453,1362.31789899765,907.725807028502,1008.47209446902,1076.36227338313,1184.15227220173,1131.8815325745,987.293516853535,945.04017626246,1000.52749200947,1035.91812067001,1098.26834009145,1159.10431440727,841.013417930133,1048.1182839385,831.674670638973,1389.53433772162,1900.11400985151,1075.89680052788,867.091318098878,907.377846082792,792.040228163751,850.584063902761,758.274520320577,710.198578704319,748.169904043275,668.626424966738,751.129426070653,479.996011231899,466.298893784156,445.30292033887,502.698322296013,453.241094460322]},\"fOption\":\"\",\"fFunctions\":{\"_typename\":\"TList\",\"name\":\"TList\",\"arr\":[],\"opt\":[]},\"fBufferSize\":0,\"fBuffer\":[],\"fBinStatErrOpt\":0,\"fStatOverflows\":2,\"fArray\":{\"$arr\":\"Float32\",\"len\":59,\"p\":8,\"v\":[1.466252,-13.52027,17.8101,0.3942013,30.11629,-12.57432,19.33684,-35.16447,-6.643755,8.481191,40.90292,31.20386,39.62498,17.34747,-31.23376,-11.63327,-10.79793,-29.77649,-5.122406,-33.15598,-34.88226,36.72343,-16.68791,-26.25506,-37.33843,-5.811368,-32.19118,-9.352729,-0.1794338,-22.06611,-16.67591,-32.09041,-29.16277,-22.56742,-40.76632,18.9489,20.05124,-51.79975,-3.349503,17.97811,2.816028,7.965274,-60.48526,57.3077,-54.10054,38.77602,-12.66699,-20.79845]}},{\"_typename\":\"TH1F\",\"fUniqueID\":0,\"fBits\":520,\"fName\":\"h_QAG4SimulationDistortions_deltarphi_layer_FitResolution\",\"fTitle\":\"\",\"fLineColor\":417,\"fLineStyle\":0,\"fLineWidth\":0,\"fFillColor\":417,\"fFillStyle\":1001,\"fMarkerColor\":417,\"fMarkerStyle\":1,\"fMarkerSize\":0,\"fNcells\":59,\"fXaxis\":{\"_typename\":\"TAxis\",\"fUniqueID\":0,\"fBits\":0,\"fName\":\"xaxis\",\"fTitle\":\"\",\"fNdivisions\":510,\"fAxisColor\":1,\"fLabelColor\":1,\"fLabelFont\":42,\"fLabelOffset\":0.005,\"fLabelSize\":0.05,\"fTickLength\":0.03,\"fTitleOffset\":1.4,\"fTitleSize\":0.05,\"fTitleColor\":1,\"fTitleFont\":42,\"fNbins\":57,\"fXmin\":0,\"fXmax\":57,\"fXbins\":[],\"fFirst\":0,\"fLast\":0,\"fBits2\":0,\"fTimeDisplay\":false,\"fTimeFormat\":\"\",\"fLabels\":null,\"fModLabs\":null},\"fYaxis\":{\"_typename\":\"TAxis\",\"fUniqueID\":0,\"fBits\":0,\"fName\":\"yaxis\",\"fTitle\":\"\",\"fNdivisions\":510,\"fAxisColor\":1,\"fLabelColor\":1,\"fLabelFont\":42,\"fLabelOffset\":0.005,\"fLabelSize\":0.05,\"fTickLength\":0.03,\"fTitleOffset\":1.4,\"fTitleSize\":0.05,\"fTitleColor\":1,\"fTitleFont\":42,\"fNbins\":1,\"fXmin\":0,\"fXmax\":1,\"fXbins\":[],\"fFirst\":0,\"fLast\":0,\"fBits2\":0,\"fTimeDisplay\":false,\"fTimeFormat\":\"\",\"fLabels\":null,\"fModLabs\":null},\"fZaxis\":{\"_typename\":\"TAxis\",\"fUniqueID\":0,\"fBits\":0,\"fName\":\"zaxis\",\"fTitle\":\"\",\"fNdivisions\":510,\"fAxisColor\":1,\"fLabelColor\":1,\"fLabelFont\":42,\"fLabelOffset\":0.005,\"fLabelSize\":0.05,\"fTickLength\":0.03,\"fTitleOffset\":1,\"fTitleSize\":0.05,\"fTitleColor\":1,\"fTitleFont\":42,\"fNbins\":1,\"fXmin\":0,\"fXmax\":1,\"fXbins\":[],\"fFirst\":0,\"fLast\":0,\"fBits2\":0,\"fTimeDisplay\":false,\"fTimeFormat\":\"\",\"fLabels\":null,\"fModLabs\":null},\"fBarOffset\":0,\"fBarWidth\":1000,\"fEntries\":48,\"fTsumw\":4876629.00358438,\"fTsumw2\":3828555915927.42,\"fTsumwx\":96727341.7030275,\"fTsumwx2\":1522713569.01802,\"fMaximum\":-1111,\"fMinimum\":-1111,\"fNormFactor\":0,\"fContour\":[],\"fSumw2\":{\"$arr\":\"Float64\",\"len\":59,\"p\":8,\"v\":[886.942590823979,725.559591413388,604.666058440004,712.713684210136,672.946555370766,816.476640124175,777.942134485158,729.342745199779,707.576694358027,736.762165720306,773.561801719698,799.219960574777,813.198014234523,767.562361679408,831.565798784323,731.595581985766,1499.25470788755,800.763625328873,884.564141312824,856.868080881308,868.351539625406,946.059707936686,988.237251679841,975.769718346902,886.490319496736,970.015880181667,966.278193711913,986.352027985655,987.69228348082,1084.44544487858,875.1355274926,1063.4759149463,1715.11595395406,762.158815093179,769.701984976213,761.935155310857,794.91505898425,715.691885441082,603.288047114142,586.546553361591,630.880918272103,596.981841450198,480.580838463134,487.726928736904,472.289947958701,468.831579229455,372.198972064667,339.327934565817]},\"fOption\":\"\",\"fFunctions\":{\"_typename\":\"TList\",\"name\":\"TList\",\"arr\":[],\"opt\":[]},\"fBufferSize\":0,\"fBuffer\":[],\"fBinStatErrOpt\":0,\"fStatOverflows\":2,\"fArray\":{\"$arr\":\"Float32\",\"len\":59,\"p\":8,\"v\":[-18.02831,-8.748424,-1.194491,47.25101,62.82343,14.44294,0.8347344,-35.87677,9.031626,19.96115,46.38388,8.365199,29.62645,3.25237,-8.707889,14.54052,31.14259,27.79243,25.32172,49.5131,40.4897,33.91048,46.19251,10.67932,63.11009,18.03472,26.758,18.74588,-10.35174,64.40411,4.181806,20.40805,-20.58901,-13.45142,-22.77179,-20.87166,-17.73789,-13.69223,-12.05363,5.178341,-41.72819,21.11103,-0.3449604,-1.946928,-12.88066,-20.17198,14.07565,-8.751944]}},{\"$ref\":5},{\"_typename\":\"TLegend\",\"fUniqueID\":0,\"fBits\":8,\"fLineColor\":1,\"fLineStyle\":1,\"fLineWidth\":1,\"fFillColor\":0,\"fFillStyle\":1001,\"fX1\":-11.5443032258712,\"fY1\":119.999997913838,\"fX2\":-11.5443032258712,\"fY2\":139.999997445515,\"fX1NDC\":0,\"fY1NDC\":0.93,\"fX2NDC\":0,\"fY2NDC\":1,\"fBorderSize\":0,\"fInit\":1,\"fShadowColor\":1,\"fCornerRadius\":0,\"fOption\":\"NB NDC\",\"fName\":\"TPave\",\"fTextAngle\":0,\"fTextSize\":0,\"fTextAlign\":12,\"fTextColor\":1,\"fTextFont\":42,\"fPrimitives\":{\"_typename\":\"TList\",\"name\":\"TList\",\"arr\":[],\"opt\":[]},\"fEntrySeparation\":0.1,\"fMargin\":0.25,\"fNColumns\":1,\"fColumnSeparation\":0},{\"_typename\":\"TLegend\",\"fUniqueID\":0,\"fBits\":8,\"fLineColor\":1,\"fLineStyle\":1,\"fLineWidth\":1,\"fFillColor\":0,\"fFillStyle\":1001,\"fX1\":-11.5443032258712,\"fY1\":99.9999983821597,\"fX2\":10.1012662096336,\"fY2\":119.999997913838,\"fX1NDC\":0,\"fY1NDC\":0.86,\"fX2NDC\":0.3,\"fY2NDC\":0.93,\"fBorderSize\":0,\"fInit\":1,\"fShadowColor\":1,\"fCornerRadius\":0,\"fOption\":\"NB NDC\",\"fName\":\"TPave\",\"fTextAngle\":0,\"fTextSize\":0,\"fTextAlign\":12,\"fTextColor\":1,\"fTextFont\":42,\"fPrimitives\":{\"_typename\":\"TList\",\"name\":\"TList\",\"arr\":[{\"_typename\":\"TLegendEntry\",\"fUniqueID\":0,\"fBits\":0,\"fTextAngle\":0,\"fTextSize\":0,\"fTextAlign\":0,\"fTextColor\":0,\"fTextFont\":42,\"fLineColor\":417,\"fLineStyle\":0,\"fLineWidth\":0,\"fFillColor\":417,\"fFillStyle\":1001,\"fMarkerColor\":1,\"fMarkerStyle\":21,\"fMarkerSize\":1,\"fObject\":{\"$ref\":10},\"fLabel\":\"Reference\",\"fOption\":\"f\"}],\"opt\":[\"f\"]},\"fEntrySeparation\":0.1,\"fMargin\":0.25,\"fNColumns\":1,\"fColumnSeparation\":0},{\"_typename\":\"TLegend\",\"fUniqueID\":0,\"fBits\":8,\"fLineColor\":1,\"fLineStyle\":1,\"fLineWidth\":1,\"fFillColor\":0,\"fFillStyle\":1001,\"fX1\":10.1012662096336,\"fY1\":99.9999983821597,\"fX2\":60.6075948924781,\"fY2\":119.999997913838,\"fX1NDC\":0.3,\"fY1NDC\":0.86,\"fX2NDC\":1,\"fY2NDC\":0.93,\"fBorderSize\":0,\"fInit\":1,\"fShadowColor\":1,\"fCornerRadius\":0,\"fOption\":\"NB NDC\",\"fName\":\"TPave\",\"fTextAngle\":0,\"fTextSize\":0,\"fTextAlign\":12,\"fTextColor\":1,\"fTextFont\":42,\"fPrimitives\":{\"_typename\":\"TList\",\"name\":\"TList\",\"arr\":[{\"_typename\":\"TLegendEntry\",\"fUniqueID\":0,\"fBits\":0,\"fTextAngle\":0,\"fTextSize\":0,\"fTextAlign\":0,\"fTextColor\":401,\"fTextFont\":42,\"fLineColor\":603,\"fLineStyle\":1,\"fLineWidth\":2,\"fFillColor\":0,\"fFillStyle\":0,\"fMarkerColor\":603,\"fMarkerStyle\":20,\"fMarkerSize\":1.2,\"fObject\":{\"$ref\":5},\"fLabel\":\"New: KS-Test P=0.139\",\"fOption\":\"lpe\"}],\"opt\":[\"lpe\"]},\"fEntrySeparation\":0.1,\"fMargin\":0.25,\"fNColumns\":1,\"fColumnSeparation\":0},{\"_typename\":\"TLine\",\"fUniqueID\":0,\"fBits\":8,\"fLineColor\":1,\"fLineStyle\":2,\"fLineWidth\":1,\"fX1\":0,\"fY1\":0,\"fX2\":57,\"fY2\":0}],\"opt\":[\"\",\"\",\"HIST same\",\"same\",\"\",\"\",\"\",\"\"]},\"fExecs\":{\"_typename\":\"TList\",\"name\":\"TList\",\"arr\":[],\"opt\":[]},\"fName\":\"QA_Draw_rphi_residuals_QAG4SimulationDistortions_1\",\"fTitle\":\"QA_Draw_rphi_residuals_QAG4SimulationDistortions_1\",\"fNumPaletteColor\":0,\"fNextPaletteColor\":0},{\"_typename\":\"TPad\",\"fUniqueID\":0,\"fBits\":9,\"fLineColor\":1,\"fLineStyle\":1,\"fLineWidth\":1,\"fFillColor\":0,\"fFillStyle\":1001,\"fLeftMargin\":0.16,\"fRightMargin\":0.05,\"fBottomMargin\":0.16,\"fTopMargin\":0.14,\"fXfile\":2,\"fYfile\":2,\"fAfile\":1,\"fXstat\":0.99,\"fYstat\":0.99,\"fAstat\":2,\"fFrameFillColor\":0,\"fFrameLineColor\":1,\"fFrameFillStyle\":1001,\"fFrameLineStyle\":1,\"fFrameLineWidth\":1,\"fFrameBorderSize\":1,\"fFrameBorderMode\":0,\"fX1\":-11.5443032258712,\"fY1\":-274.285689470721,\"fX2\":60.6075948924781,\"fY2\":1439.99998467309,\"fXtoAbsPixelk\":701.812846054256,\"fXtoPixelk\":91.8528463215829,\"fXtoPixel\":7.95654744374156,\"fYtoAbsPixelk\":393.27045503447,\"fYtoPixelk\":388.550455139971,\"fYtoPixel\":-0.269826673108041,\"fUtoAbsPixelk\":609.960049732673,\"fUtoPixelk\":5e-5,\"fUtoPixel\":574.080000534654,\"fVtoAbsPixelk\":467.2800501055,\"fVtoPixelk\":462.560000211,\"fVtoPixel\":-462.560000211,\"fAbsPixeltoXk\":-88.2056948716225,\"fPixeltoXk\":-11.5443032258712,\"fPixeltoX\":0.125682654074611,\"fAbsPixeltoYk\":1457.49269523477,\"fPixeltoYk\":-274.285689470721,\"fPixeltoY\":-3.70608282895587,\"fXlowNDC\":0.509999999776483,\"fYlowNDC\":0.00999999977648258,\"fXUpNDC\":0.990000000223517,\"fYUpNDC\":0.990000000223517,\"fWNDC\":0.480000000447035,\"fHNDC\":0.980000000447035,\"fAbsXlowNDC\":0.509999999776483,\"fAbsYlowNDC\":0.00999999977648258,\"fAbsWNDC\":0.480000000447035,\"fAbsHNDC\":0.980000000447035,\"fUxmin\":0,\"fUymin\":0,\"fUxmax\":57,\"fUymax\":1200,\"fTheta\":30,\"fPhi\":30,\"fAspectRatio\":0,\"fNumber\":2,\"fTickx\":1,\"fTicky\":1,\"fLogx\":0,\"fLogy\":0,\"fLogz\":0,\"fPadPaint\":0,\"fCrosshair\":0,\"fCrosshairPos\":0,\"fBorderSize\":2,\"fBorderMode\":0,\"fModified\":false,\"fGridx\":false,\"fGridy\":false,\"fAbsCoord\":false,\"fEditable\":true,\"fFixedAspectRatio\":false,\"fPrimitives\":{\"_typename\":\"TList\",\"name\":\"TList\",\"arr\":[{\"_typename\":\"TFrame\",\"fUniqueID\":0,\"fBits\":8,\"fLineColor\":1,\"fLineStyle\":1,\"fLineWidth\":1,\"fFillColor\":0,\"fFillStyle\":1001,\"fX1\":0,\"fY1\":0,\"fX2\":57,\"fY2\":1200,\"fBorderSize\":1,\"fBorderMode\":0},{\"_typename\":\"TH1F\",\"fUniqueID\":0,\"fBits\":520,\"fName\":\"h_QAG4SimulationDistortions_deltarphi_layer_FitResolution\",\"fTitle\":\"\",\"fLineColor\":603,\"fLineStyle\":1,\"fLineWidth\":2,\"fFillColor\":0,\"fFillStyle\":1001,\"fMarkerColor\":603,\"fMarkerStyle\":20,\"fMarkerSize\":1.2,\"fNcells\":59,\"fXaxis\":{\"_typename\":\"TAxis\",\"fUniqueID\":0,\"fBits\":0,\"fName\":\"xaxis\",\"fTitle\":\"layer\",\"fNdivisions\":510,\"fAxisColor\":1,\"fLabelColor\":1,\"fLabelFont\":42,\"fLabelOffset\":0.005,\"fLabelSize\":0.05,\"fTickLength\":0.03,\"fTitleOffset\":1.4,\"fTitleSize\":0.05,\"fTitleColor\":1,\"fTitleFont\":42,\"fNbins\":57,\"fXmin\":0,\"fXmax\":57,\"fXbins\":[],\"fFirst\":0,\"fLast\":0,\"fBits2\":0,\"fTimeDisplay\":false,\"fTimeFormat\":\"\",\"fLabels\":null,\"fModLabs\":null},\"fYaxis\":{\"_typename\":\"TAxis\",\"fUniqueID\":0,\"fBits\":0,\"fName\":\"yaxis\",\"fTitle\":\"RMS(#Delta r#phi) (#mum)\",\"fNdivisions\":510,\"fAxisColor\":1,\"fLabelColor\":1,\"fLabelFont\":42,\"fLabelOffset\":0.005,\"fLabelSize\":0.05,\"fTickLength\":0.03,\"fTitleOffset\":1.4,\"fTitleSize\":0.05,\"fTitleColor\":1,\"fTitleFont\":42,\"fNbins\":1,\"fXmin\":0,\"fXmax\":1,\"fXbins\":[],\"fFirst\":0,\"fLast\":0,\"fBits2\":0,\"fTimeDisplay\":false,\"fTimeFormat\":\"\",\"fLabels\":null,\"fModLabs\":null},\"fZaxis\":{\"_typename\":\"TAxis\",\"fUniqueID\":0,\"fBits\":0,\"fName\":\"zaxis\",\"fTitle\":\"\",\"fNdivisions\":510,\"fAxisColor\":1,\"fLabelColor\":1,\"fLabelFont\":42,\"fLabelOffset\":0.005,\"fLabelSize\":0.05,\"fTickLength\":0.03,\"fTitleOffset\":1,\"fTitleSize\":0.05,\"fTitleColor\":1,\"fTitleFont\":42,\"fNbins\":1,\"fXmin\":0,\"fXmax\":1,\"fXbins\":[],\"fFirst\":0,\"fLast\":0,\"fBits2\":0,\"fTimeDisplay\":false,\"fTimeFormat\":\"\",\"fLabels\":null,\"fModLabs\":null},\"fBarOffset\":0,\"fBarWidth\":1000,\"fEntries\":48,\"fTsumw\":295448439.025879,\"fTsumw2\":4514296508494.37,\"fTsumwx\":9026757953.03345,\"fTsumwx2\":327732530355.606,\"fMaximum\":1200,\"fMinimum\":0,\"fNormFactor\":0,\"fContour\":[],\"fSumw2\":{\"$arr\":\"Float64\",\"len\":59,\"p\":8,\"v\":[1094.22352893808,679.193139259023,750.110311810892,792.037776466555,1079.31049270877,869.067060459042,1023.67827098712,889.054658501695,725.72597591174,838.592448675538,855.048407425526,906.529042279679,943.297069632559,1141.27017669629,1097.34446571143,1268.83481216244,1722.3498850021,860.354242999171,958.466331621969,1485.80392661679,1373.74855559248,1123.88577299426,946.796106121831,833.315323587362,909.697383980405,1083.3156622758,1272.55218150639,1151.90577890128,864.83068112546,883.480045485856,661.333563880704,1822.62631916274,2017.71592956139,1036.25263313253,845.920662190458,893.346294604433,744.002984066529,687.137350074003,714.563187852946,728.890310603655,830.049004768806,622.692287403975,813.984088788877,420.156550428538,634.903109643544,365.592174262621,492.795651124338,387.18346795606]},\"fOption\":\"\",\"fFunctions\":{\"_typename\":\"TList\",\"name\":\"TList\",\"arr\":[],\"opt\":[]},\"fBufferSize\":0,\"fBuffer\":[],\"fBinStatErrOpt\":0,\"fStatOverflows\":2,\"fArray\":{\"$arr\":\"Float32\",\"len\":59,\"p\":8,\"v\":[623.0803,556.3199,584.3647,530.1869,629.5338,615.2927,565.4424,640.6611,494.9451,608.2274,593.1573,599.0731,640.7783,678.8435,618.7697,668.957,753.4932,626.7728,655.4036,677.7036,701.2036,683.8978,663.4066,648.7576,650.3406,667.2848,685.8588,698.2059,608.1867,675.8019,604.7685,761.9758,878.7892,695.705,600.2452,591.7559,593.9614,609.1782,568.9127,561.9895,553.5779,561.5385,570.542,473.4435,464.0984,437.9839,495.8986,476.5291]}},{\"_typename\":\"TH1F\",\"fUniqueID\":0,\"fBits\":520,\"fName\":\"h_QAG4SimulationDistortions_deltarphi_layer_FitResolution\",\"fTitle\":\"\",\"fLineColor\":417,\"fLineStyle\":0,\"fLineWidth\":0,\"fFillColor\":417,\"fFillStyle\":1001,\"fMarkerColor\":417,\"fMarkerStyle\":1,\"fMarkerSize\":0,\"fNcells\":59,\"fXaxis\":{\"_typename\":\"TAxis\",\"fUniqueID\":0,\"fBits\":0,\"fName\":\"xaxis\",\"fTitle\":\"\",\"fNdivisions\":510,\"fAxisColor\":1,\"fLabelColor\":1,\"fLabelFont\":42,\"fLabelOffset\":0.005,\"fLabelSize\":0.05,\"fTickLength\":0.03,\"fTitleOffset\":1.4,\"fTitleSize\":0.05,\"fTitleColor\":1,\"fTitleFont\":42,\"fNbins\":57,\"fXmin\":0,\"fXmax\":57,\"fXbins\":[],\"fFirst\":0,\"fLast\":0,\"fBits2\":0,\"fTimeDisplay\":false,\"fTimeFormat\":\"\",\"fLabels\":null,\"fModLabs\":null},\"fYaxis\":{\"_typename\":\"TAxis\",\"fUniqueID\":0,\"fBits\":0,\"fName\":\"yaxis\",\"fTitle\":\"\",\"fNdivisions\":510,\"fAxisColor\":1,\"fLabelColor\":1,\"fLabelFont\":42,\"fLabelOffset\":0.005,\"fLabelSize\":0.05,\"fTickLength\":0.03,\"fTitleOffset\":1.4,\"fTitleSize\":0.05,\"fTitleColor\":1,\"fTitleFont\":42,\"fNbins\":1,\"fXmin\":0,\"fXmax\":1,\"fXbins\":[],\"fFirst\":0,\"fLast\":0,\"fBits2\":0,\"fTimeDisplay\":false,\"fTimeFormat\":\"\",\"fLabels\":null,\"fModLabs\":null},\"fZaxis\":{\"_typename\":\"TAxis\",\"fUniqueID\":0,\"fBits\":0,\"fName\":\"zaxis\",\"fTitle\":\"\",\"fNdivisions\":510,\"fAxisColor\":1,\"fLabelColor\":1,\"fLabelFont\":42,\"fLabelOffset\":0.005,\"fLabelSize\":0.05,\"fTickLength\":0.03,\"fTitleOffset\":1,\"fTitleSize\":0.05,\"fTitleColor\":1,\"fTitleFont\":42,\"fNbins\":1,\"fXmin\":0,\"fXmax\":1,\"fXbins\":[],\"fFirst\":0,\"fLast\":0,\"fBits2\":0,\"fTimeDisplay\":false,\"fTimeFormat\":\"\",\"fLabels\":null,\"fModLabs\":null},\"fBarOffset\":0,\"fBarWidth\":1000,\"fEntries\":48,\"fTsumw\":291463770.141602,\"fTsumw2\":3187905568056.36,\"fTsumwx\":8897679459.83887,\"fTsumwx2\":322408589667.511,\"fMaximum\":-1111,\"fMinimum\":-1111,\"fNormFactor\":0,\"fContour\":[],\"fSumw2\":{\"$arr\":\"Float64\",\"len\":59,\"p\":8,\"v\":[748.238203643227,679.540732428474,537.840260610202,662.452316118364,510.602282846208,745.286695654763,646.084001764777,890.228521125622,481.854309348216,574.707697256276,580.79552501161,611.358036184879,696.033218262149,574.144217728473,601.430289223345,614.01757427772,1508.99411051535,495.620668436331,759.082972343067,688.675513687198,787.775654118466,697.450732316388,1000.08766586345,861.558295215942,680.832467410398,740.29096371351,714.571360611483,899.594915363014,866.468463398473,1007.60673696425,617.130861204159,931.976988755906,1461.25740378217,628.519333787172,591.754904933048,535.098728466726,617.072263758559,548.394768450137,428.870976452769,585.873028124728,470.709630895116,640.083719432581,372.264457218873,374.271028295785,309.124504065208,362.857102517084,311.682736505633,228.888842476305]},\"fOption\":\"\",\"fFunctions\":{\"_typename\":\"TList\",\"name\":\"TList\",\"arr\":[],\"opt\":[]},\"fBufferSize\":0,\"fBuffer\":[],\"fBinStatErrOpt\":0,\"fStatOverflows\":2,\"fArray\":{\"$arr\":\"Float32\",\"len\":59,\"p\":8,\"v\":[613.954,568.1702,526.5787,572.0646,540.1388,612.118,591.9324,575.7573,573.4365,598.889,597.7437,622.8437,632.6019,602.3813,634.0147,577.4373,784.619,628.2455,651.3943,642.5068,641.6553,674.5671,678.9553,670.8787,650.3895,683.2011,678.0595,695.6079,671.9011,691.1151,653.0231,714.8523,862.9559,607.1779,607.0278,596.1124,627.8049,602.2155,543.9739,533.0291,561.678,537.3544,488.5886,501.381,493.4439,477.2919,440.9991,414.3092]}},{\"$ref\":28},{\"_typename\":\"TLegend\",\"fUniqueID\":0,\"fBits\":8,\"fLineColor\":1,\"fLineStyle\":1,\"fLineWidth\":1,\"fFillColor\":0,\"fFillStyle\":1001,\"fX1\":-11.5443032258712,\"fY1\":1319.99998748303,\"fX2\":-11.5443032258712,\"fY2\":1439.99998467309,\"fX1NDC\":0,\"fY1NDC\":0.93,\"fX2NDC\":0,\"fY2NDC\":1,\"fBorderSize\":0,\"fInit\":1,\"fShadowColor\":1,\"fCornerRadius\":0,\"fOption\":\"NB NDC\",\"fName\":\"TPave\",\"fTextAngle\":0,\"fTextSize\":0,\"fTextAlign\":12,\"fTextColor\":1,\"fTextFont\":42,\"fPrimitives\":{\"_typename\":\"TList\",\"name\":\"TList\",\"arr\":[],\"opt\":[]},\"fEntrySeparation\":0.1,\"fMargin\":0.25,\"fNColumns\":1,\"fColumnSeparation\":0},{\"_typename\":\"TLegend\",\"fUniqueID\":0,\"fBits\":8,\"fLineColor\":1,\"fLineStyle\":1,\"fLineWidth\":1,\"fFillColor\":0,\"fFillStyle\":1001,\"fX1\":-11.5443032258712,\"fY1\":1199.99999029296,\"fX2\":10.1012662096336,\"fY2\":1319.99998748303,\"fX1NDC\":0,\"fY1NDC\":0.86,\"fX2NDC\":0.3,\"fY2NDC\":0.93,\"fBorderSize\":0,\"fInit\":1,\"fShadowColor\":1,\"fCornerRadius\":0,\"fOption\":\"NB NDC\",\"fName\":\"TPave\",\"fTextAngle\":0,\"fTextSize\":0,\"fTextAlign\":12,\"fTextColor\":1,\"fTextFont\":42,\"fPrimitives\":{\"_typename\":\"TList\",\"name\":\"TList\",\"arr\":[{\"_typename\":\"TLegendEntry\",\"fUniqueID\":0,\"fBits\":0,\"fTextAngle\":0,\"fTextSize\":0,\"fTextAlign\":0,\"fTextColor\":0,\"fTextFont\":42,\"fLineColor\":417,\"fLineStyle\":0,\"fLineWidth\":0,\"fFillColor\":417,\"fFillStyle\":1001,\"fMarkerColor\":1,\"fMarkerStyle\":21,\"fMarkerSize\":1,\"fObject\":{\"$ref\":33},\"fLabel\":\"Reference\",\"fOption\":\"f\"}],\"opt\":[\"f\"]},\"fEntrySeparation\":0.1,\"fMargin\":0.25,\"fNColumns\":1,\"fColumnSeparation\":0},{\"_typename\":\"TLegend\",\"fUniqueID\":0,\"fBits\":8,\"fLineColor\":1,\"fLineStyle\":1,\"fLineWidth\":1,\"fFillColor\":0,\"fFillStyle\":1001,\"fX1\":10.1012662096336,\"fY1\":1199.99999029296,\"fX2\":60.6075948924781,\"fY2\":1319.99998748303,\"fX1NDC\":0.3,\"fY1NDC\":0.86,\"fX2NDC\":1,\"fY2NDC\":0.93,\"fBorderSize\":0,\"fInit\":1,\"fShadowColor\":1,\"fCornerRadius\":0,\"fOption\":\"NB NDC\",\"fName\":\"TPave\",\"fTextAngle\":0,\"fTextSize\":0,\"fTextAlign\":12,\"fTextColor\":1,\"fTextFont\":42,\"fPrimitives\":{\"_typename\":\"TList\",\"name\":\"TList\",\"arr\":[{\"_typename\":\"TLegendEntry\",\"fUniqueID\":0,\"fBits\":0,\"fTextAngle\":0,\"fTextSize\":0,\"fTextAlign\":0,\"fTextColor\":418,\"fTextFont\":42,\"fLineColor\":603,\"fLineStyle\":1,\"fLineWidth\":2,\"fFillColor\":0,\"fFillStyle\":0,\"fMarkerColor\":603,\"fMarkerStyle\":20,\"fMarkerSize\":1.2,\"fObject\":{\"$ref\":28},\"fLabel\":\"New: KS-Test P=0.919\",\"fOption\":\"lpe\"}],\"opt\":[\"lpe\"]},\"fEntrySeparation\":0.1,\"fMargin\":0.25,\"fNColumns\":1,\"fColumnSeparation\":0}],\"opt\":[\"\",\"\",\"HIST same\",\"same\",\"\",\"\",\"\"]},\"fExecs\":{\"_typename\":\"TList\",\"name\":\"TList\",\"arr\":[],\"opt\":[]},\"fName\":\"QA_Draw_rphi_residuals_QAG4SimulationDistortions_2\",\"fTitle\":\"QA_Draw_rphi_residuals_QAG4SimulationDistortions_2\",\"fNumPaletteColor\":0,\"fNextPaletteColor\":0},{\"_typename\":\"TStyle\",\"fUniqueID\":0,\"fBits\":0,\"fName\":\"sPHENIX\",\"fTitle\":\"sPHENIX style\",\"fLineColor\":1,\"fLineStyle\":1,\"fLineWidth\":1,\"fFillColor\":19,\"fFillStyle\":1001,\"fMarkerColor\":1,\"fMarkerStyle\":20,\"fMarkerSize\":1.2,\"fTextAngle\":0,\"fTextSize\":0.05,\"fTextAlign\":11,\"fTextColor\":1,\"fTextFont\":42,\"fXaxis\":{\"_typename\":\"TAttAxis\",\"fNdivisions\":510,\"fAxisColor\":1,\"fLabelColor\":1,\"fLabelFont\":42,\"fLabelOffset\":0.005,\"fLabelSize\":0.05,\"fTickLength\":0.03,\"fTitleOffset\":1.4,\"fTitleSize\":0.05,\"fTitleColor\":1,\"fTitleFont\":42},\"fYaxis\":{\"_typename\":\"TAttAxis\",\"fNdivisions\":510,\"fAxisColor\":1,\"fLabelColor\":1,\"fLabelFont\":42,\"fLabelOffset\":0.005,\"fLabelSize\":0.05,\"fTickLength\":0.03,\"fTitleOffset\":1.4,\"fTitleSize\":0.05,\"fTitleColor\":1,\"fTitleFont\":42},\"fZaxis\":{\"_typename\":\"TAttAxis\",\"fNdivisions\":510,\"fAxisColor\":1,\"fLabelColor\":1,\"fLabelFont\":42,\"fLabelOffset\":0.005,\"fLabelSize\":0.05,\"fTickLength\":0.03,\"fTitleOffset\":1,\"fTitleSize\":0.05,\"fTitleColor\":1,\"fTitleFont\":42},\"fBarWidth\":1,\"fBarOffset\":0,\"fColorModelPS\":0,\"fDrawBorder\":0,\"fOptLogx\":0,\"fOptLogy\":0,\"fOptLogz\":0,\"fOptDate\":0,\"fOptStat\":0,\"fOptTitle\":0,\"fOptFile\":0,\"fOptFit\":0,\"fShowEventStatus\":0,\"fShowEditor\":0,\"fShowToolBar\":0,\"fNumberContours\":80,\"fAttDate\":{\"_typename\":\"TAttText\",\"fTextAngle\":0,\"fTextSize\":0.025,\"fTextAlign\":11,\"fTextColor\":1,\"fTextFont\":62},\"fDateX\":0.01,\"fDateY\":0.01,\"fEndErrorSize\":0,\"fErrorX\":0.5,\"fFuncColor\":1,\"fFuncStyle\":1,\"fFuncWidth\":3,\"fGridColor\":0,\"fGridStyle\":3,\"fGridWidth\":1,\"fLegendBorderSize\":0,\"fLegendFillColor\":0,\"fLegendFont\":42,\"fLegendTextSize\":0.05,\"fHatchesLineWidth\":1,\"fHatchesSpacing\":1,\"fFrameFillColor\":0,\"fFrameLineColor\":1,\"fFrameFillStyle\":1001,\"fFrameLineStyle\":1,\"fFrameLineWidth\":1,\"fFrameBorderSize\":1,\"fFrameBorderMode\":0,\"fHistFillColor\":0,\"fHistLineColor\":1,\"fHistFillStyle\":1001,\"fHistLineStyle\":1,\"fHistLineWidth\":2,\"fHistMinimumZero\":false,\"fHistTopMargin\":0.05,\"fCanvasPreferGL\":false,\"fCanvasColor\":0,\"fCanvasBorderSize\":2,\"fCanvasBorderMode\":0,\"fCanvasDefH\":500,\"fCanvasDefW\":700,\"fCanvasDefX\":10,\"fCanvasDefY\":10,\"fPadColor\":0,\"fPadBorderSize\":2,\"fPadBorderMode\":0,\"fPadBottomMargin\":0.16,\"fPadTopMargin\":0.05,\"fPadLeftMargin\":0.16,\"fPadRightMargin\":0.05,\"fPadGridX\":false,\"fPadGridY\":false,\"fPadTickX\":1,\"fPadTickY\":1,\"fPaperSizeX\":20,\"fPaperSizeY\":26,\"fScreenFactor\":1,\"fStatColor\":0,\"fStatTextColor\":1,\"fStatBorderSize\":2,\"fStatFont\":62,\"fStatFontSize\":0,\"fStatStyle\":1001,\"fStatFormat\":\"6.4g\",\"fStatX\":0.98,\"fStatY\":0.995,\"fStatW\":0.2,\"fStatH\":0.16,\"fStripDecimals\":true,\"fTitleAlign\":13,\"fTitleColor\":19,\"fTitleTextColor\":1,\"fTitleBorderSize\":2,\"fTitleFont\":62,\"fTitleFontSize\":0,\"fTitleStyle\":1001,\"fTitleX\":0.01,\"fTitleY\":0.995,\"fTitleW\":0,\"fTitleH\":0,\"fLegoInnerR\":0.5,\"fLineStyles\":[\"\",\"  \",\"  12 12 \",\" 4 8\",\" 12 16 4 16\",\" 20 12 4 12\",\" 20 12 4 12 4 12 4 12\",\" 20 20\",\" 20 12 4 12 4 12\",\" 80 20\",\" 80 40 4 40\",\"  \",\"  \",\"  \",\"  \",\"  \",\"  \",\"  \",\"  \",\"  \",\"  \",\"  \",\"  \",\"  \",\"  \",\"  \",\"  \",\"  \",\"  \",\"  \"],\"fHeaderPS\":\"\",\"fTitlePS\":\"\",\"fFitFormat\":\"5.4g\",\"fPaintTextFormat\":\"g\",\"fLineScalePS\":3,\"fJoinLinePS\":0,\"fCapLinePS\":0,\"fTimeOffset\":788918400,\"fImageScaling\":1}],\"opt\":[\"\",\"\",\"\"]},\"fExecs\":null,\"fName\":\"QA_Draw_rphi_residuals_QAG4SimulationDistortions\",\"fTitle\":\"QA_Draw_rphi_residuals_QAG4SimulationDistortions\",\"fNumPaletteColor\":0,\"fNextPaletteColor\":0,\"fDISPLAY\":\"$DISPLAY\",\"fDoubleBuffer\":0,\"fRetained\":true,\"fXsizeUser\":0,\"fYsizeUser\":0,\"fXsizeReal\":20,\"fYsizeReal\":8.333333,\"fWindowTopX\":0,\"fWindowTopY\":0,\"fWindowWidth\":0,\"fWindowHeight\":0,\"fCw\":1196,\"fCh\":472,\"fCatt\":{\"_typename\":\"TAttCanvas\",\"fXBetween\":2,\"fYBetween\":2,\"fTitleFromTop\":1.2,\"fXdate\":0.2,\"fYdate\":0.3,\"fAdate\":1},\"kMoveOpaque\":true,\"kResizeOpaque\":true,\"fHighLightColor\":2,\"fBatch\":true,\"kShowEventStatus\":false,\"kAutoExec\":true,\"kMenuBar\":true});\n",
       "   Core.settings.HandleKeys = false;\n",
       "   Core.draw(\"root_plot_1727829268990\", obj, \"\");\n",
       "}\n",
       "\n",
       "function script_load_root_plot_1727829268990(src, on_error) {\n",
       "    let script = document.createElement('script');\n",
       "    script.src = src;\n",
       "    script.onload = function() { display_root_plot_1727829268990(JSROOT); };\n",
       "    script.onerror = function() { script.remove(); on_error(); };\n",
       "    document.head.appendChild(script);\n",
       "}\n",
       "\n",
       "if (typeof requirejs !== 'undefined') {\n",
       "\n",
       "    // We are in jupyter notebooks, use require.js which should be configured already\n",
       "    requirejs.config({\n",
       "       paths: { 'JSRootCore' : [ 'scripts/JSRoot.core', 'https://root.cern/js/6.1.1/scripts/JSRoot.core.min', 'https://jsroot.gsi.de/6.1.1/scripts/JSRoot.core.min' ] }\n",
       "    })(['JSRootCore'],  function(Core) {\n",
       "       display_root_plot_1727829268990(Core);\n",
       "    });\n",
       "\n",
       "} else if (typeof JSROOT !== 'undefined') {\n",
       "\n",
       "   // JSROOT already loaded, just use it\n",
       "   display_root_plot_1727829268990(JSROOT);\n",
       "\n",
       "} else {\n",
       "\n",
       "    // We are in jupyterlab without require.js, directly loading jsroot\n",
       "    // Jupyterlab might be installed in a different base_url so we need to know it.\n",
       "    try {\n",
       "        var base_url = JSON.parse(document.getElementById('jupyter-config-data').innerHTML).baseUrl;\n",
       "    } catch(_) {\n",
       "        var base_url = '/';\n",
       "    }\n",
       "\n",
       "    // Try loading a local version of requirejs and fallback to cdn if not possible.\n",
       "    script_load_root_plot_1727829268990(base_url + 'static/scripts/JSRoot.core.js', function(){\n",
       "        console.error('Fail to load JSROOT locally, please check your jupyter_notebook_config.py file');\n",
       "        script_load_root_plot_1727829268990('https://root.cern/js/6.1.1/scripts/JSRoot.core.min.js', function(){\n",
       "            document.getElementById(\"root_plot_1727829268990\").innerHTML = \"Failed to load JSROOT\";\n",
       "        });\n",
       "    });\n",
       "}\n",
       "\n",
       "</script>\n"
      ],
      "text/plain": [
       "<IPython.core.display.HTML object>"
      ]
     },
     "metadata": {},
     "output_type": "display_data"
    }
   ],
   "source": [
    "%%cpp\n",
    "    const char *hist_name_prefix = \"QAG4SimulationDistortions\";\n",
    "    TString prefix = TString(\"h_\") + hist_name_prefix + TString(\"_\");\n",
    "    \n",
    "    TCanvas *cv_deltarphi_layer = new TCanvas(TString(\"QA_Draw_rphi_residuals\") + TString(\"_\") + hist_name_prefix,\n",
    "                                     TString(\"QA_Draw_rphi_residuals\") + TString(\"_\") + hist_name_prefix,\n",
    "                                     1200,500);\n",
    "    cv_deltarphi_layer->Divide(2, 1);\n",
    "        \n",
    "    auto h_deltarphi_layer_ref = (TH2F *)qa_file_ref->GetObjectChecked(prefix + \"deltarphi_layer\", \"TH2\");\n",
    "    if( !h_deltarphi_layer_ref )\n",
    "    { \n",
    "        std::cout << \"h_deltarphi_layer_ref not found. doing nothing.\" << std::endl;\n",
    "        return;\n",
    "    }\n",
    "    h_deltarphi_layer_ref->SetDirectory(nullptr);\n",
    "\n",
    "    auto h_deltarphi_layer_new = (TH2F *)qa_file_new->GetObjectChecked(prefix + \"deltarphi_layer\", \"TH2\");\n",
    "    if( !h_deltarphi_layer_new )\n",
    "    { \n",
    "        std::cout << \"h_deltarphi_layer_new not found. doing nothing.\" << std::endl;\n",
    "        return;\n",
    "    }\n",
    "    \n",
    "    {\n",
    "        auto newScale = FitResolution_hist(h_deltarphi_layer_new, false, 1);\n",
    "        newScale->GetXaxis()->SetTitle(\"layer\");\n",
    "        newScale->GetYaxis()->SetTitle(\"#LT#Delta r#phi#GT (#mum)\");\n",
    "        newScale->Scale(1e4);\n",
    "        newScale->SetMinimum(-100);\n",
    "        newScale->SetMaximum(100);\n",
    "\n",
    "        auto refScale = FitResolution_hist(h_deltarphi_layer_ref, false, 1);\n",
    "        refScale->Scale(1e4);\n",
    "\n",
    "        cv_deltarphi_layer->cd(1);\n",
    "        DrawReference(newScale, refScale);\n",
    "        \n",
    "        // Draw line at zero\n",
    "        auto line = HorizontalLine( gPad, 0 );\n",
    "        line->Draw();\n",
    "    }\n",
    "    \n",
    "    {\n",
    "        auto newRMS = FitResolution_hist(h_deltarphi_layer_new, false, 2);\n",
    "        newRMS->GetXaxis()->SetTitle(\"layer\");\n",
    "        newRMS->GetYaxis()->SetTitle(\"RMS(#Delta r#phi) (#mum)\");\n",
    "        newRMS->Scale(1e4);\n",
    "        newRMS->SetMinimum(0);\n",
    "        newRMS->SetMaximum(1200);\n",
    "        \n",
    "        auto refRMS = FitResolution_hist(h_deltarphi_layer_ref, false, 2);\n",
    "        refRMS->Scale(1e4);\n",
    "        \n",
    "        cv_deltarphi_layer->cd(2);\n",
    "        DrawReference(newRMS, refRMS);\n",
    "    }\n",
    "    \n",
    "    \n",
    "    cv_deltarphi_layer->Draw();\n",
    "    "
   ]
  },
  {
   "cell_type": "markdown",
   "metadata": {
    "tags": []
   },
   "source": [
    "# Delta z residuals (track - cluster) vs layer number"
   ]
  },
  {
   "cell_type": "code",
   "execution_count": 14,
   "metadata": {
    "execution": {
     "iopub.execute_input": "2024-10-02T00:34:29.034160Z",
     "iopub.status.busy": "2024-10-02T00:34:29.033901Z",
     "iopub.status.idle": "2024-10-02T00:34:29.270250Z",
     "shell.execute_reply": "2024-10-02T00:34:29.269026Z"
    },
    "tags": []
   },
   "outputs": [
    {
     "name": "stderr",
     "output_type": "stream",
     "text": [
      "Warning in <TFile::Append>: Replacing existing TH1: h_QAG4SimulationDistortions_deltaz_layer_FitResolution (Potential memory leak).\n",
      "Warning in <TFile::Append>: Replacing existing TH1: h_QAG4SimulationDistortions_deltaz_layer_FitResolution (Potential memory leak).\n",
      "Warning in <TFile::Append>: Replacing existing TH1: h_QAG4SimulationDistortions_deltaz_layer_FitResolution (Potential memory leak).\n"
     ]
    },
    {
     "data": {
      "text/html": [
       "\n",
       "\n",
       "<div id=\"root_plot_1727829269260\"\n",
       "     style=\"width: 1196px; height: 472px\">\n",
       "</div>\n",
       "<script>\n",
       "\n",
       "function display_root_plot_1727829269260(Core) {\n",
       "   let obj = Core.parse({\"_typename\":\"TCanvas\",\"fUniqueID\":0,\"fBits\":3342344,\"fLineColor\":1,\"fLineStyle\":1,\"fLineWidth\":1,\"fFillColor\":0,\"fFillStyle\":1001,\"fLeftMargin\":0.16,\"fRightMargin\":0.05,\"fBottomMargin\":0.16,\"fTopMargin\":0.05,\"fXfile\":2,\"fYfile\":2,\"fAfile\":1,\"fXstat\":0.99,\"fYstat\":0.99,\"fAstat\":2,\"fFrameFillColor\":0,\"fFrameLineColor\":1,\"fFrameFillStyle\":1001,\"fFrameLineStyle\":1,\"fFrameLineWidth\":1,\"fFrameBorderSize\":1,\"fFrameBorderMode\":0,\"fX1\":0,\"fY1\":0,\"fX2\":1,\"fY2\":1,\"fXtoAbsPixelk\":5e-5,\"fXtoPixelk\":5e-5,\"fXtoPixel\":1196,\"fYtoAbsPixelk\":472.00005,\"fYtoPixelk\":472.00005,\"fYtoPixel\":-472,\"fUtoAbsPixelk\":5e-5,\"fUtoPixelk\":5e-5,\"fUtoPixel\":1196,\"fVtoAbsPixelk\":472.00005,\"fVtoPixelk\":472,\"fVtoPixel\":-472,\"fAbsPixeltoXk\":0,\"fPixeltoXk\":0,\"fPixeltoX\":8.36120401337793e-4,\"fAbsPixeltoYk\":1,\"fPixeltoYk\":0,\"fPixeltoY\":-0.00211864406779661,\"fXlowNDC\":0,\"fYlowNDC\":0,\"fXUpNDC\":1,\"fYUpNDC\":1,\"fWNDC\":1,\"fHNDC\":1,\"fAbsXlowNDC\":0,\"fAbsYlowNDC\":0,\"fAbsWNDC\":1,\"fAbsHNDC\":1,\"fUxmin\":0,\"fUymin\":0,\"fUxmax\":1,\"fUymax\":1,\"fTheta\":30,\"fPhi\":30,\"fAspectRatio\":0,\"fNumber\":0,\"fTickx\":1,\"fTicky\":1,\"fLogx\":0,\"fLogy\":0,\"fLogz\":0,\"fPadPaint\":0,\"fCrosshair\":0,\"fCrosshairPos\":0,\"fBorderSize\":2,\"fBorderMode\":0,\"fModified\":false,\"fGridx\":false,\"fGridy\":false,\"fAbsCoord\":false,\"fEditable\":true,\"fFixedAspectRatio\":false,\"fPrimitives\":{\"_typename\":\"TList\",\"name\":\"TList\",\"arr\":[{\"_typename\":\"TPad\",\"fUniqueID\":0,\"fBits\":9,\"fLineColor\":1,\"fLineStyle\":1,\"fLineWidth\":1,\"fFillColor\":0,\"fFillStyle\":1001,\"fLeftMargin\":0.16,\"fRightMargin\":0.05,\"fBottomMargin\":0.16,\"fTopMargin\":0.14,\"fXfile\":2,\"fYfile\":2,\"fAfile\":1,\"fXstat\":0.99,\"fYstat\":0.99,\"fAstat\":2,\"fFrameFillColor\":0,\"fFrameLineColor\":1,\"fFrameFillStyle\":1001,\"fFrameLineStyle\":1,\"fFrameLineWidth\":1,\"fFrameBorderSize\":1,\"fFrameBorderMode\":0,\"fX1\":-11.5443032258712,\"fY1\":-145.714281578453,\"fX2\":60.6075948924781,\"fY2\":139.999997445515,\"fXtoAbsPixelk\":103.812846054256,\"fXtoPixelk\":91.8528463215829,\"fXtoPixel\":7.95654744374156,\"fYtoAbsPixelk\":231.374451169646,\"fYtoPixelk\":226.654451275146,\"fYtoPixel\":-1.61896003864825,\"fUtoAbsPixelk\":11.9600497326732,\"fUtoPixelk\":5e-5,\"fUtoPixel\":574.080000534654,\"fVtoAbsPixelk\":467.2800501055,\"fVtoPixelk\":462.560000211,\"fVtoPixel\":-462.560000211,\"fAbsPixeltoXk\":-13.0474677350052,\"fPixeltoXk\":-11.5443032258712,\"fPixeltoX\":0.125682654074611,\"fAbsPixeltoYk\":142.915449205795,\"fPixeltoYk\":-145.714281578453,\"fPixeltoY\":-0.617680471492645,\"fXlowNDC\":0.00999999977648258,\"fYlowNDC\":0.00999999977648258,\"fXUpNDC\":0.490000000223517,\"fYUpNDC\":0.990000000223517,\"fWNDC\":0.480000000447035,\"fHNDC\":0.980000000447035,\"fAbsXlowNDC\":0.00999999977648258,\"fAbsYlowNDC\":0.00999999977648258,\"fAbsWNDC\":0.480000000447035,\"fAbsHNDC\":0.980000000447035,\"fUxmin\":0,\"fUymin\":-100,\"fUxmax\":57,\"fUymax\":100,\"fTheta\":30,\"fPhi\":30,\"fAspectRatio\":0,\"fNumber\":1,\"fTickx\":1,\"fTicky\":1,\"fLogx\":0,\"fLogy\":0,\"fLogz\":0,\"fPadPaint\":0,\"fCrosshair\":0,\"fCrosshairPos\":0,\"fBorderSize\":2,\"fBorderMode\":0,\"fModified\":false,\"fGridx\":false,\"fGridy\":false,\"fAbsCoord\":false,\"fEditable\":true,\"fFixedAspectRatio\":false,\"fPrimitives\":{\"_typename\":\"TList\",\"name\":\"TList\",\"arr\":[{\"_typename\":\"TFrame\",\"fUniqueID\":0,\"fBits\":8,\"fLineColor\":1,\"fLineStyle\":1,\"fLineWidth\":1,\"fFillColor\":0,\"fFillStyle\":1001,\"fX1\":0,\"fY1\":-100,\"fX2\":57,\"fY2\":100,\"fBorderSize\":1,\"fBorderMode\":0},{\"_typename\":\"TH1F\",\"fUniqueID\":0,\"fBits\":520,\"fName\":\"h_QAG4SimulationDistortions_deltaz_layer_FitResolution\",\"fTitle\":\"\",\"fLineColor\":603,\"fLineStyle\":1,\"fLineWidth\":2,\"fFillColor\":0,\"fFillStyle\":1001,\"fMarkerColor\":603,\"fMarkerStyle\":20,\"fMarkerSize\":1.2,\"fNcells\":59,\"fXaxis\":{\"_typename\":\"TAxis\",\"fUniqueID\":0,\"fBits\":0,\"fName\":\"xaxis\",\"fTitle\":\"layer\",\"fNdivisions\":510,\"fAxisColor\":1,\"fLabelColor\":1,\"fLabelFont\":42,\"fLabelOffset\":0.005,\"fLabelSize\":0.05,\"fTickLength\":0.03,\"fTitleOffset\":1.4,\"fTitleSize\":0.05,\"fTitleColor\":1,\"fTitleFont\":42,\"fNbins\":57,\"fXmin\":0,\"fXmax\":57,\"fXbins\":[],\"fFirst\":0,\"fLast\":0,\"fBits2\":0,\"fTimeDisplay\":false,\"fTimeFormat\":\"\",\"fLabels\":null,\"fModLabs\":null},\"fYaxis\":{\"_typename\":\"TAxis\",\"fUniqueID\":0,\"fBits\":0,\"fName\":\"yaxis\",\"fTitle\":\"#LT#Delta z#GT (#mum)\",\"fNdivisions\":510,\"fAxisColor\":1,\"fLabelColor\":1,\"fLabelFont\":42,\"fLabelOffset\":0.005,\"fLabelSize\":0.05,\"fTickLength\":0.03,\"fTitleOffset\":1.4,\"fTitleSize\":0.05,\"fTitleColor\":1,\"fTitleFont\":42,\"fNbins\":1,\"fXmin\":0,\"fXmax\":1,\"fXbins\":[],\"fFirst\":0,\"fLast\":0,\"fBits2\":0,\"fTimeDisplay\":false,\"fTimeFormat\":\"\",\"fLabels\":null,\"fModLabs\":null},\"fZaxis\":{\"_typename\":\"TAxis\",\"fUniqueID\":0,\"fBits\":0,\"fName\":\"zaxis\",\"fTitle\":\"\",\"fNdivisions\":510,\"fAxisColor\":1,\"fLabelColor\":1,\"fLabelFont\":42,\"fLabelOffset\":0.005,\"fLabelSize\":0.05,\"fTickLength\":0.03,\"fTitleOffset\":1,\"fTitleSize\":0.05,\"fTitleColor\":1,\"fTitleFont\":42,\"fNbins\":1,\"fXmin\":0,\"fXmax\":1,\"fXbins\":[],\"fFirst\":0,\"fLast\":0,\"fBits2\":0,\"fTimeDisplay\":false,\"fTimeFormat\":\"\",\"fLabels\":null,\"fModLabs\":null},\"fBarOffset\":0,\"fBarWidth\":1000,\"fEntries\":48,\"fTsumw\":14214017.9568529,\"fTsumw2\":7853125498234.49,\"fTsumwx\":398531308.270991,\"fTsumwx2\":12845006791.2157,\"fMaximum\":100,\"fMinimum\":-100,\"fNormFactor\":0,\"fContour\":[],\"fSumw2\":{\"$arr\":\"Float64\",\"len\":59,\"p\":8,\"v\":[4822.96933404425,1355.82942509771,1701.29121224539,1659.84650844584,1900.49787795894,1348.94690382707,1737.94624199441,1621.63746708906,1754.58054631684,1358.11940895264,1630.43076811112,1600.73393418829,1698.95400821803,1623.05263432878,1736.44826234693,3893.22573892985,4039.87169604662,1337.15061135098,1236.25328676659,1306.27626956159,1243.85514150546,1394.54112598383,1224.35709538263,1147.70283037424,1444.46836740497,1175.89858298461,1232.19944313714,1113.69955639827,1091.19424436094,1213.36384292216,911.632204132157,3002.42939829905,4642.37503131202,1244.64587928847,1021.4098462975,1316.29499351159,1274.58218493531,1399.6560842692,1461.15481787809,1167.25751819393,1308.66041032378,1064.42152343733,1259.34256985024,1259.16529318146,1324.51926040945,1139.62763246448,1140.49124832793,948.246719957766]},\"fOption\":\"\",\"fFunctions\":{\"_typename\":\"TList\",\"name\":\"TList\",\"arr\":[],\"opt\":[]},\"fBufferSize\":0,\"fBuffer\":[],\"fBinStatErrOpt\":0,\"fStatOverflows\":2,\"fArray\":{\"$arr\":\"Float32\",\"len\":59,\"p\":8,\"v\":[-113.7575,19.04744,-3.771252,19.57175,78.15664,51.73124,60.82154,55.86862,80.23026,40.63776,-18.36028,19.78548,95.99091,45.49984,29.58513,143.8256,110.704,56.16646,37.56062,21.12621,5.207355,-7.139784,-7.275722,38.38817,128.9806,68.01362,23.74593,14.02419,24.95233,32.41143,-76.68493,98.50797,4.136586,42.80292,24.71585,43.27899,36.29788,-0.5747771,14.49809,-42.00702,30.33437,-10.65873,-56.77795,50.93501,42.31432,13.47532,-37.22252,92.30171]}},{\"_typename\":\"TH1F\",\"fUniqueID\":0,\"fBits\":520,\"fName\":\"h_QAG4SimulationDistortions_deltaz_layer_FitResolution\",\"fTitle\":\"\",\"fLineColor\":417,\"fLineStyle\":0,\"fLineWidth\":0,\"fFillColor\":417,\"fFillStyle\":1001,\"fMarkerColor\":417,\"fMarkerStyle\":1,\"fMarkerSize\":0,\"fNcells\":59,\"fXaxis\":{\"_typename\":\"TAxis\",\"fUniqueID\":0,\"fBits\":0,\"fName\":\"xaxis\",\"fTitle\":\"\",\"fNdivisions\":510,\"fAxisColor\":1,\"fLabelColor\":1,\"fLabelFont\":42,\"fLabelOffset\":0.005,\"fLabelSize\":0.05,\"fTickLength\":0.03,\"fTitleOffset\":1.4,\"fTitleSize\":0.05,\"fTitleColor\":1,\"fTitleFont\":42,\"fNbins\":57,\"fXmin\":0,\"fXmax\":57,\"fXbins\":[],\"fFirst\":0,\"fLast\":0,\"fBits2\":0,\"fTimeDisplay\":false,\"fTimeFormat\":\"\",\"fLabels\":null,\"fModLabs\":null},\"fYaxis\":{\"_typename\":\"TAxis\",\"fUniqueID\":0,\"fBits\":0,\"fName\":\"yaxis\",\"fTitle\":\"\",\"fNdivisions\":510,\"fAxisColor\":1,\"fLabelColor\":1,\"fLabelFont\":42,\"fLabelOffset\":0.005,\"fLabelSize\":0.05,\"fTickLength\":0.03,\"fTitleOffset\":1.4,\"fTitleSize\":0.05,\"fTitleColor\":1,\"fTitleFont\":42,\"fNbins\":1,\"fXmin\":0,\"fXmax\":1,\"fXbins\":[],\"fFirst\":0,\"fLast\":0,\"fBits2\":0,\"fTimeDisplay\":false,\"fTimeFormat\":\"\",\"fLabels\":null,\"fModLabs\":null},\"fZaxis\":{\"_typename\":\"TAxis\",\"fUniqueID\":0,\"fBits\":0,\"fName\":\"zaxis\",\"fTitle\":\"\",\"fNdivisions\":510,\"fAxisColor\":1,\"fLabelColor\":1,\"fLabelFont\":42,\"fLabelOffset\":0.005,\"fLabelSize\":0.05,\"fTickLength\":0.03,\"fTitleOffset\":1,\"fTitleSize\":0.05,\"fTitleColor\":1,\"fTitleFont\":42,\"fNbins\":1,\"fXmin\":0,\"fXmax\":1,\"fXbins\":[],\"fFirst\":0,\"fLast\":0,\"fBits2\":0,\"fTimeDisplay\":false,\"fTimeFormat\":\"\",\"fLabels\":null,\"fModLabs\":null},\"fBarOffset\":0,\"fBarWidth\":1000,\"fEntries\":48,\"fTsumw\":-1390046.87070847,\"fTsumw2\":5963260860436.3,\"fTsumwx\":-68423628.0405521,\"fTsumwx2\":-3228770866.73915,\"fMaximum\":-1111,\"fMinimum\":-1111,\"fNormFactor\":0,\"fContour\":[],\"fSumw2\":{\"$arr\":\"Float64\",\"len\":59,\"p\":8,\"v\":[4617.88628772686,965.739567024035,1071.7803852953,1127.43723410495,1239.39452432296,1041.46271799987,1364.63930880769,893.950439841139,954.327136481825,1012.33228668585,1085.47815616099,961.835305884342,1013.12116970317,1025.78306798832,1136.2244747089,3133.42245884518,4145.79245783885,959.445564114668,883.226920514431,937.416231171333,939.238660612571,1063.7489936147,918.334640522088,848.365435000397,888.804685129845,903.831955755178,860.204801188031,950.487282449399,858.82584670759,759.905300363049,890.661610030053,2181.5475329053,4661.55981954678,810.654697476259,926.076032642789,876.363632543431,780.616493265547,949.098829979646,885.457096637097,871.373810098295,921.592943615236,1019.04668648607,834.502067988061,947.116888947403,898.424240726261,837.199274961559,828.129743408936,950.743906540736]},\"fOption\":\"\",\"fFunctions\":{\"_typename\":\"TList\",\"name\":\"TList\",\"arr\":[],\"opt\":[]},\"fBufferSize\":0,\"fBuffer\":[],\"fBinStatErrOpt\":0,\"fStatOverflows\":2,\"fArray\":{\"$arr\":\"Float32\",\"len\":59,\"p\":8,\"v\":[10.66857,-12.29027,10.8011,22.58296,15.58853,-9.354843,-10.10667,-13.10989,17.08249,5.681634,-27.8626,-28.44586,1.972676,15.00675,40.77183,-6.783311,-15.76592,-26.40384,32.96537,-22.1571,-2.514879,-21.74561,-40.93557,44.13248,49.93725,-26.04786,-19.02052,-20.14519,3.388505,-45.05177,46.89067,53.28942,37.22164,-22.87431,10.38191,-31.62238,-78.23201,9.680909,18.67956,-9.32183,-26.81913,-45.83826,-32.89846,25.25657,4.768491,14.56291,3.161078,-38.1299]}},{\"$ref\":5},{\"_typename\":\"TLegend\",\"fUniqueID\":0,\"fBits\":8,\"fLineColor\":1,\"fLineStyle\":1,\"fLineWidth\":1,\"fFillColor\":0,\"fFillStyle\":1001,\"fX1\":-11.5443032258712,\"fY1\":119.999997913838,\"fX2\":-11.5443032258712,\"fY2\":139.999997445515,\"fX1NDC\":0,\"fY1NDC\":0.93,\"fX2NDC\":0,\"fY2NDC\":1,\"fBorderSize\":0,\"fInit\":1,\"fShadowColor\":1,\"fCornerRadius\":0,\"fOption\":\"NB NDC\",\"fName\":\"TPave\",\"fTextAngle\":0,\"fTextSize\":0,\"fTextAlign\":12,\"fTextColor\":1,\"fTextFont\":42,\"fPrimitives\":{\"_typename\":\"TList\",\"name\":\"TList\",\"arr\":[],\"opt\":[]},\"fEntrySeparation\":0.1,\"fMargin\":0.25,\"fNColumns\":1,\"fColumnSeparation\":0},{\"_typename\":\"TLegend\",\"fUniqueID\":0,\"fBits\":8,\"fLineColor\":1,\"fLineStyle\":1,\"fLineWidth\":1,\"fFillColor\":0,\"fFillStyle\":1001,\"fX1\":-11.5443032258712,\"fY1\":99.9999983821597,\"fX2\":10.1012662096336,\"fY2\":119.999997913838,\"fX1NDC\":0,\"fY1NDC\":0.86,\"fX2NDC\":0.3,\"fY2NDC\":0.93,\"fBorderSize\":0,\"fInit\":1,\"fShadowColor\":1,\"fCornerRadius\":0,\"fOption\":\"NB NDC\",\"fName\":\"TPave\",\"fTextAngle\":0,\"fTextSize\":0,\"fTextAlign\":12,\"fTextColor\":1,\"fTextFont\":42,\"fPrimitives\":{\"_typename\":\"TList\",\"name\":\"TList\",\"arr\":[{\"_typename\":\"TLegendEntry\",\"fUniqueID\":0,\"fBits\":0,\"fTextAngle\":0,\"fTextSize\":0,\"fTextAlign\":0,\"fTextColor\":0,\"fTextFont\":42,\"fLineColor\":417,\"fLineStyle\":0,\"fLineWidth\":0,\"fFillColor\":417,\"fFillStyle\":1001,\"fMarkerColor\":1,\"fMarkerStyle\":21,\"fMarkerSize\":1,\"fObject\":{\"$ref\":10},\"fLabel\":\"Reference\",\"fOption\":\"f\"}],\"opt\":[\"f\"]},\"fEntrySeparation\":0.1,\"fMargin\":0.25,\"fNColumns\":1,\"fColumnSeparation\":0},{\"_typename\":\"TLegend\",\"fUniqueID\":0,\"fBits\":8,\"fLineColor\":1,\"fLineStyle\":1,\"fLineWidth\":1,\"fFillColor\":0,\"fFillStyle\":1001,\"fX1\":10.1012662096336,\"fY1\":99.9999983821597,\"fX2\":60.6075948924781,\"fY2\":119.999997913838,\"fX1NDC\":0.3,\"fY1NDC\":0.86,\"fX2NDC\":1,\"fY2NDC\":0.93,\"fBorderSize\":0,\"fInit\":1,\"fShadowColor\":1,\"fCornerRadius\":0,\"fOption\":\"NB NDC\",\"fName\":\"TPave\",\"fTextAngle\":0,\"fTextSize\":0,\"fTextAlign\":12,\"fTextColor\":1,\"fTextFont\":42,\"fPrimitives\":{\"_typename\":\"TList\",\"name\":\"TList\",\"arr\":[{\"_typename\":\"TLegendEntry\",\"fUniqueID\":0,\"fBits\":0,\"fTextAngle\":0,\"fTextSize\":0,\"fTextAlign\":0,\"fTextColor\":418,\"fTextFont\":42,\"fLineColor\":603,\"fLineStyle\":1,\"fLineWidth\":2,\"fFillColor\":0,\"fFillStyle\":0,\"fMarkerColor\":603,\"fMarkerStyle\":20,\"fMarkerSize\":1.2,\"fObject\":{\"$ref\":5},\"fLabel\":\"New: KS-Test P=0.688\",\"fOption\":\"lpe\"}],\"opt\":[\"lpe\"]},\"fEntrySeparation\":0.1,\"fMargin\":0.25,\"fNColumns\":1,\"fColumnSeparation\":0},{\"_typename\":\"TLine\",\"fUniqueID\":0,\"fBits\":8,\"fLineColor\":1,\"fLineStyle\":2,\"fLineWidth\":1,\"fX1\":0,\"fY1\":0,\"fX2\":57,\"fY2\":0}],\"opt\":[\"\",\"\",\"HIST same\",\"same\",\"\",\"\",\"\",\"\"]},\"fExecs\":{\"_typename\":\"TList\",\"name\":\"TList\",\"arr\":[],\"opt\":[]},\"fName\":\"QA_Draw_z_residuals_QAG4SimulationDistortions_1\",\"fTitle\":\"QA_Draw_z_residuals_QAG4SimulationDistortions_1\",\"fNumPaletteColor\":0,\"fNextPaletteColor\":0},{\"_typename\":\"TPad\",\"fUniqueID\":0,\"fBits\":9,\"fLineColor\":1,\"fLineStyle\":1,\"fLineWidth\":1,\"fFillColor\":0,\"fFillStyle\":1001,\"fLeftMargin\":0.16,\"fRightMargin\":0.05,\"fBottomMargin\":0.16,\"fTopMargin\":0.14,\"fXfile\":2,\"fYfile\":2,\"fAfile\":1,\"fXstat\":0.99,\"fYstat\":0.99,\"fAstat\":2,\"fFrameFillColor\":0,\"fFrameLineColor\":1,\"fFrameFillStyle\":1001,\"fFrameLineStyle\":1,\"fFrameLineWidth\":1,\"fFrameBorderSize\":1,\"fFrameBorderMode\":0,\"fX1\":-11.5443032258712,\"fY1\":-457.142815784535,\"fX2\":60.6075948924781,\"fY2\":2399.99997445515,\"fXtoAbsPixelk\":701.812846054256,\"fXtoPixelk\":91.8528463215829,\"fXtoPixel\":7.95654744374156,\"fYtoAbsPixelk\":393.27045503447,\"fYtoPixelk\":388.550455139971,\"fYtoPixel\":-0.161896003864825,\"fUtoAbsPixelk\":609.960049732673,\"fUtoPixelk\":5e-5,\"fUtoPixel\":574.080000534654,\"fVtoAbsPixelk\":467.2800501055,\"fVtoPixelk\":462.560000211,\"fVtoPixel\":-462.560000211,\"fAbsPixeltoXk\":-88.2056948716225,\"fPixeltoXk\":-11.5443032258712,\"fPixeltoX\":0.125682654074611,\"fAbsPixeltoYk\":2429.15449205795,\"fPixeltoYk\":-457.142815784535,\"fPixeltoY\":-6.17680471492645,\"fXlowNDC\":0.509999999776483,\"fYlowNDC\":0.00999999977648258,\"fXUpNDC\":0.990000000223517,\"fYUpNDC\":0.990000000223517,\"fWNDC\":0.480000000447035,\"fHNDC\":0.980000000447035,\"fAbsXlowNDC\":0.509999999776483,\"fAbsYlowNDC\":0.00999999977648258,\"fAbsWNDC\":0.480000000447035,\"fAbsHNDC\":0.980000000447035,\"fUxmin\":0,\"fUymin\":0,\"fUxmax\":57,\"fUymax\":2000,\"fTheta\":30,\"fPhi\":30,\"fAspectRatio\":0,\"fNumber\":2,\"fTickx\":1,\"fTicky\":1,\"fLogx\":0,\"fLogy\":0,\"fLogz\":0,\"fPadPaint\":0,\"fCrosshair\":0,\"fCrosshairPos\":0,\"fBorderSize\":2,\"fBorderMode\":0,\"fModified\":false,\"fGridx\":false,\"fGridy\":false,\"fAbsCoord\":false,\"fEditable\":true,\"fFixedAspectRatio\":false,\"fPrimitives\":{\"_typename\":\"TList\",\"name\":\"TList\",\"arr\":[{\"_typename\":\"TFrame\",\"fUniqueID\":0,\"fBits\":8,\"fLineColor\":1,\"fLineStyle\":1,\"fLineWidth\":1,\"fFillColor\":0,\"fFillStyle\":1001,\"fX1\":0,\"fY1\":0,\"fX2\":57,\"fY2\":2000,\"fBorderSize\":1,\"fBorderMode\":0},{\"_typename\":\"TH1F\",\"fUniqueID\":0,\"fBits\":520,\"fName\":\"h_QAG4SimulationDistortions_deltaz_layer_FitResolution\",\"fTitle\":\"\",\"fLineColor\":603,\"fLineStyle\":1,\"fLineWidth\":2,\"fFillColor\":0,\"fFillStyle\":1001,\"fMarkerColor\":603,\"fMarkerStyle\":20,\"fMarkerSize\":1.2,\"fNcells\":59,\"fXaxis\":{\"_typename\":\"TAxis\",\"fUniqueID\":0,\"fBits\":0,\"fName\":\"xaxis\",\"fTitle\":\"layer\",\"fNdivisions\":510,\"fAxisColor\":1,\"fLabelColor\":1,\"fLabelFont\":42,\"fLabelOffset\":0.005,\"fLabelSize\":0.05,\"fTickLength\":0.03,\"fTitleOffset\":1.4,\"fTitleSize\":0.05,\"fTitleColor\":1,\"fTitleFont\":42,\"fNbins\":57,\"fXmin\":0,\"fXmax\":57,\"fXbins\":[],\"fFirst\":0,\"fLast\":0,\"fBits2\":0,\"fTimeDisplay\":false,\"fTimeFormat\":\"\",\"fLabels\":null,\"fModLabs\":null},\"fYaxis\":{\"_typename\":\"TAxis\",\"fUniqueID\":0,\"fBits\":0,\"fName\":\"yaxis\",\"fTitle\":\"RMS(#Delta z) (#mum)\",\"fNdivisions\":510,\"fAxisColor\":1,\"fLabelColor\":1,\"fLabelFont\":42,\"fLabelOffset\":0.005,\"fLabelSize\":0.05,\"fTickLength\":0.03,\"fTitleOffset\":1.4,\"fTitleSize\":0.05,\"fTitleColor\":1,\"fTitleFont\":42,\"fNbins\":1,\"fXmin\":0,\"fXmax\":1,\"fXbins\":[],\"fFirst\":0,\"fLast\":0,\"fBits2\":0,\"fTimeDisplay\":false,\"fTimeFormat\":\"\",\"fLabels\":null,\"fModLabs\":null},\"fZaxis\":{\"_typename\":\"TAxis\",\"fUniqueID\":0,\"fBits\":0,\"fName\":\"zaxis\",\"fTitle\":\"\",\"fNdivisions\":510,\"fAxisColor\":1,\"fLabelColor\":1,\"fLabelFont\":42,\"fLabelOffset\":0.005,\"fLabelSize\":0.05,\"fTickLength\":0.03,\"fTitleOffset\":1,\"fTitleSize\":0.05,\"fTitleColor\":1,\"fTitleFont\":42,\"fNbins\":1,\"fXmin\":0,\"fXmax\":1,\"fXbins\":[],\"fFirst\":0,\"fLast\":0,\"fBits2\":0,\"fTimeDisplay\":false,\"fTimeFormat\":\"\",\"fLabels\":null,\"fModLabs\":null},\"fBarOffset\":0,\"fBarWidth\":1000,\"fEntries\":48,\"fTsumw\":416294779.663086,\"fTsumw2\":6406440948125.48,\"fTsumwx\":12534083207.7026,\"fTsumwx2\":457220304510.345,\"fMaximum\":2000,\"fMinimum\":0,\"fNormFactor\":0,\"fContour\":[],\"fSumw2\":{\"$arr\":\"Float64\",\"len\":59,\"p\":8,\"v\":[2816.82551232138,1037.00397897448,1196.26596091514,1397.20303409641,1151.97282293432,960.034954849804,1451.57858796397,1135.0532773348,1356.82902809104,876.720658949472,1353.19682204779,1029.76548089302,992.219270537927,1852.07845108678,1237.99522455208,3559.28694378863,2627.33003390855,1154.42840894746,951.718805657171,1141.68361137843,1042.13446240106,1389.77749735915,892.10659391557,827.106288345151,808.785418879,1083.61348230845,830.893469800297,711.957971081751,837.547956588808,1189.40070102579,1068.02016161932,3273.26077127138,3764.18323464583,861.871078129068,1061.58421962039,1458.3241143457,1260.12161648972,1268.89180288341,1730.56639669773,1030.18493836326,1090.94559356167,1031.89527548038,1083.36470335115,876.054029332155,1498.8123205291,988.725675469407,914.061761204226,911.02707732723]},\"fOption\":\"\",\"fFunctions\":{\"_typename\":\"TList\",\"name\":\"TList\",\"arr\":[],\"opt\":[]},\"fBufferSize\":0,\"fBuffer\":[],\"fBinStatErrOpt\":0,\"fStatOverflows\":2,\"fArray\":{\"$arr\":\"Float32\",\"len\":59,\"p\":8,\"v\":[1490.172,779.0233,870.382,880.0435,930.7015,816.4487,876.4929,876.9238,905.1247,812.8718,871.4391,862.8623,863.7415,865.7595,893.5245,1370.168,1375.923,817.0369,794.9037,794.8561,790.7698,840.948,793.2175,757.1343,806.0418,753.7689,744.3252,763.909,745.2175,776.5723,667.0135,1220.553,1493.843,786.4752,703.7798,807.6401,805.4544,824.5405,841.2032,767.4098,815.0272,723.7086,801.2892,798.0818,823.3954,764.5397,771.5587,693.6614]}},{\"_typename\":\"TH1F\",\"fUniqueID\":0,\"fBits\":520,\"fName\":\"h_QAG4SimulationDistortions_deltaz_layer_FitResolution\",\"fTitle\":\"\",\"fLineColor\":417,\"fLineStyle\":0,\"fLineWidth\":0,\"fFillColor\":417,\"fFillStyle\":1001,\"fMarkerColor\":417,\"fMarkerStyle\":1,\"fMarkerSize\":0,\"fNcells\":59,\"fXaxis\":{\"_typename\":\"TAxis\",\"fUniqueID\":0,\"fBits\":0,\"fName\":\"xaxis\",\"fTitle\":\"\",\"fNdivisions\":510,\"fAxisColor\":1,\"fLabelColor\":1,\"fLabelFont\":42,\"fLabelOffset\":0.005,\"fLabelSize\":0.05,\"fTickLength\":0.03,\"fTitleOffset\":1.4,\"fTitleSize\":0.05,\"fTitleColor\":1,\"fTitleFont\":42,\"fNbins\":57,\"fXmin\":0,\"fXmax\":57,\"fXbins\":[],\"fFirst\":0,\"fLast\":0,\"fBits2\":0,\"fTimeDisplay\":false,\"fTimeFormat\":\"\",\"fLabels\":null,\"fModLabs\":null},\"fYaxis\":{\"_typename\":\"TAxis\",\"fUniqueID\":0,\"fBits\":0,\"fName\":\"yaxis\",\"fTitle\":\"\",\"fNdivisions\":510,\"fAxisColor\":1,\"fLabelColor\":1,\"fLabelFont\":42,\"fLabelOffset\":0.005,\"fLabelSize\":0.05,\"fTickLength\":0.03,\"fTitleOffset\":1.4,\"fTitleSize\":0.05,\"fTitleColor\":1,\"fTitleFont\":42,\"fNbins\":1,\"fXmin\":0,\"fXmax\":1,\"fXbins\":[],\"fFirst\":0,\"fLast\":0,\"fBits2\":0,\"fTimeDisplay\":false,\"fTimeFormat\":\"\",\"fLabels\":null,\"fModLabs\":null},\"fZaxis\":{\"_typename\":\"TAxis\",\"fUniqueID\":0,\"fBits\":0,\"fName\":\"zaxis\",\"fTitle\":\"\",\"fNdivisions\":510,\"fAxisColor\":1,\"fLabelColor\":1,\"fLabelFont\":42,\"fLabelOffset\":0.005,\"fLabelSize\":0.05,\"fTickLength\":0.03,\"fTitleOffset\":1,\"fTitleSize\":0.05,\"fTitleColor\":1,\"fTitleFont\":42,\"fNbins\":1,\"fXmin\":0,\"fXmax\":1,\"fXbins\":[],\"fFirst\":0,\"fLast\":0,\"fBits2\":0,\"fTimeDisplay\":false,\"fTimeFormat\":\"\",\"fLabels\":null,\"fModLabs\":null},\"fBarOffset\":0,\"fBarWidth\":1000,\"fEntries\":48,\"fTsumw\":370903247.070312,\"fTsumw2\":4198216224651.57,\"fTsumwx\":11198067103.2715,\"fTsumwx2\":409455922373.047,\"fMaximum\":-1111,\"fMinimum\":-1111,\"fNormFactor\":0,\"fContour\":[],\"fSumw2\":{\"$arr\":\"Float64\",\"len\":59,\"p\":8,\"v\":[2437.67117538085,714.251627534769,647.419949749889,696.155844992624,775.54527566047,748.482550894996,784.263002672945,486.468834317315,570.114169990029,614.168845290437,698.340925580411,651.492156027741,579.566016867383,736.937457366524,693.47760246386,1885.0107198334,2756.19054292515,563.17674619259,674.593535913813,577.233792786602,764.758861532593,808.638800712026,842.462631314181,432.317493112621,763.889652595843,1203.41924743405,723.818704470282,669.630450508154,533.701826258056,471.896829516386,565.699185625177,1619.07844783415,2719.50783472523,629.894939620211,992.659262560326,692.880285994756,886.977938801629,675.732916527562,658.619128512934,762.874617422636,880.157990291356,764.965077967753,682.637643063298,772.25403896994,763.105439536373,875.314215328776,744.895009364208,789.813004473429]},\"fOption\":\"\",\"fFunctions\":{\"_typename\":\"TList\",\"name\":\"TList\",\"arr\":[],\"opt\":[]},\"fBufferSize\":0,\"fBuffer\":[],\"fBinStatErrOpt\":0,\"fStatOverflows\":2,\"fArray\":{\"$arr\":\"Float32\",\"len\":59,\"p\":8,\"v\":[1484.043,701.8682,754.9777,745.5815,801.9448,731.4377,759.076,690.9313,725.6385,743.1934,747.8821,718.5925,741.9512,738.4216,739.8231,1276.652,1405.509,670.9044,686.7117,711.0777,698.6422,745.7076,691.6468,663.8989,686.7665,691.9934,672.9615,711.8319,681.7438,638.3156,654.3765,1071.409,1561.457,652.363,696.5945,685.5189,636.3691,722.6898,691.7195,684.7339,686.5856,740.0764,673.0502,709.4787,696.8422,665.3906,677.6661,724.2773]}},{\"$ref\":28},{\"_typename\":\"TLegend\",\"fUniqueID\":0,\"fBits\":8,\"fLineColor\":1,\"fLineStyle\":1,\"fLineWidth\":1,\"fFillColor\":0,\"fFillStyle\":1001,\"fX1\":-11.5443032258712,\"fY1\":2199.99997913838,\"fX2\":-11.5443032258712,\"fY2\":2399.99997445515,\"fX1NDC\":0,\"fY1NDC\":0.93,\"fX2NDC\":0,\"fY2NDC\":1,\"fBorderSize\":0,\"fInit\":1,\"fShadowColor\":1,\"fCornerRadius\":0,\"fOption\":\"NB NDC\",\"fName\":\"TPave\",\"fTextAngle\":0,\"fTextSize\":0,\"fTextAlign\":12,\"fTextColor\":1,\"fTextFont\":42,\"fPrimitives\":{\"_typename\":\"TList\",\"name\":\"TList\",\"arr\":[],\"opt\":[]},\"fEntrySeparation\":0.1,\"fMargin\":0.25,\"fNColumns\":1,\"fColumnSeparation\":0},{\"_typename\":\"TLegend\",\"fUniqueID\":0,\"fBits\":8,\"fLineColor\":1,\"fLineStyle\":1,\"fLineWidth\":1,\"fFillColor\":0,\"fFillStyle\":1001,\"fX1\":-11.5443032258712,\"fY1\":1999.9999838216,\"fX2\":10.1012662096336,\"fY2\":2199.99997913838,\"fX1NDC\":0,\"fY1NDC\":0.86,\"fX2NDC\":0.3,\"fY2NDC\":0.93,\"fBorderSize\":0,\"fInit\":1,\"fShadowColor\":1,\"fCornerRadius\":0,\"fOption\":\"NB NDC\",\"fName\":\"TPave\",\"fTextAngle\":0,\"fTextSize\":0,\"fTextAlign\":12,\"fTextColor\":1,\"fTextFont\":42,\"fPrimitives\":{\"_typename\":\"TList\",\"name\":\"TList\",\"arr\":[{\"_typename\":\"TLegendEntry\",\"fUniqueID\":0,\"fBits\":0,\"fTextAngle\":0,\"fTextSize\":0,\"fTextAlign\":0,\"fTextColor\":0,\"fTextFont\":42,\"fLineColor\":417,\"fLineStyle\":0,\"fLineWidth\":0,\"fFillColor\":417,\"fFillStyle\":1001,\"fMarkerColor\":1,\"fMarkerStyle\":21,\"fMarkerSize\":1,\"fObject\":{\"$ref\":33},\"fLabel\":\"Reference\",\"fOption\":\"f\"}],\"opt\":[\"f\"]},\"fEntrySeparation\":0.1,\"fMargin\":0.25,\"fNColumns\":1,\"fColumnSeparation\":0},{\"_typename\":\"TLegend\",\"fUniqueID\":0,\"fBits\":8,\"fLineColor\":1,\"fLineStyle\":1,\"fLineWidth\":1,\"fFillColor\":0,\"fFillStyle\":1001,\"fX1\":10.1012662096336,\"fY1\":1999.9999838216,\"fX2\":60.6075948924781,\"fY2\":2199.99997913838,\"fX1NDC\":0.3,\"fY1NDC\":0.86,\"fX2NDC\":1,\"fY2NDC\":0.93,\"fBorderSize\":0,\"fInit\":1,\"fShadowColor\":1,\"fCornerRadius\":0,\"fOption\":\"NB NDC\",\"fName\":\"TPave\",\"fTextAngle\":0,\"fTextSize\":0,\"fTextAlign\":12,\"fTextColor\":1,\"fTextFont\":42,\"fPrimitives\":{\"_typename\":\"TList\",\"name\":\"TList\",\"arr\":[{\"_typename\":\"TLegendEntry\",\"fUniqueID\":0,\"fBits\":0,\"fTextAngle\":0,\"fTextSize\":0,\"fTextAlign\":0,\"fTextColor\":418,\"fTextFont\":42,\"fLineColor\":603,\"fLineStyle\":1,\"fLineWidth\":2,\"fFillColor\":0,\"fFillStyle\":0,\"fMarkerColor\":603,\"fMarkerStyle\":20,\"fMarkerSize\":1.2,\"fObject\":{\"$ref\":28},\"fLabel\":\"New: KS-Test P=0.334\",\"fOption\":\"lpe\"}],\"opt\":[\"lpe\"]},\"fEntrySeparation\":0.1,\"fMargin\":0.25,\"fNColumns\":1,\"fColumnSeparation\":0}],\"opt\":[\"\",\"\",\"HIST same\",\"same\",\"\",\"\",\"\"]},\"fExecs\":{\"_typename\":\"TList\",\"name\":\"TList\",\"arr\":[],\"opt\":[]},\"fName\":\"QA_Draw_z_residuals_QAG4SimulationDistortions_2\",\"fTitle\":\"QA_Draw_z_residuals_QAG4SimulationDistortions_2\",\"fNumPaletteColor\":0,\"fNextPaletteColor\":0},{\"_typename\":\"TStyle\",\"fUniqueID\":0,\"fBits\":0,\"fName\":\"sPHENIX\",\"fTitle\":\"sPHENIX style\",\"fLineColor\":1,\"fLineStyle\":1,\"fLineWidth\":1,\"fFillColor\":19,\"fFillStyle\":1001,\"fMarkerColor\":1,\"fMarkerStyle\":20,\"fMarkerSize\":1.2,\"fTextAngle\":0,\"fTextSize\":0.05,\"fTextAlign\":11,\"fTextColor\":1,\"fTextFont\":42,\"fXaxis\":{\"_typename\":\"TAttAxis\",\"fNdivisions\":510,\"fAxisColor\":1,\"fLabelColor\":1,\"fLabelFont\":42,\"fLabelOffset\":0.005,\"fLabelSize\":0.05,\"fTickLength\":0.03,\"fTitleOffset\":1.4,\"fTitleSize\":0.05,\"fTitleColor\":1,\"fTitleFont\":42},\"fYaxis\":{\"_typename\":\"TAttAxis\",\"fNdivisions\":510,\"fAxisColor\":1,\"fLabelColor\":1,\"fLabelFont\":42,\"fLabelOffset\":0.005,\"fLabelSize\":0.05,\"fTickLength\":0.03,\"fTitleOffset\":1.4,\"fTitleSize\":0.05,\"fTitleColor\":1,\"fTitleFont\":42},\"fZaxis\":{\"_typename\":\"TAttAxis\",\"fNdivisions\":510,\"fAxisColor\":1,\"fLabelColor\":1,\"fLabelFont\":42,\"fLabelOffset\":0.005,\"fLabelSize\":0.05,\"fTickLength\":0.03,\"fTitleOffset\":1,\"fTitleSize\":0.05,\"fTitleColor\":1,\"fTitleFont\":42},\"fBarWidth\":1,\"fBarOffset\":0,\"fColorModelPS\":0,\"fDrawBorder\":0,\"fOptLogx\":0,\"fOptLogy\":0,\"fOptLogz\":0,\"fOptDate\":0,\"fOptStat\":0,\"fOptTitle\":0,\"fOptFile\":0,\"fOptFit\":0,\"fShowEventStatus\":0,\"fShowEditor\":0,\"fShowToolBar\":0,\"fNumberContours\":80,\"fAttDate\":{\"_typename\":\"TAttText\",\"fTextAngle\":0,\"fTextSize\":0.025,\"fTextAlign\":11,\"fTextColor\":1,\"fTextFont\":62},\"fDateX\":0.01,\"fDateY\":0.01,\"fEndErrorSize\":0,\"fErrorX\":0.5,\"fFuncColor\":1,\"fFuncStyle\":1,\"fFuncWidth\":3,\"fGridColor\":0,\"fGridStyle\":3,\"fGridWidth\":1,\"fLegendBorderSize\":0,\"fLegendFillColor\":0,\"fLegendFont\":42,\"fLegendTextSize\":0.05,\"fHatchesLineWidth\":1,\"fHatchesSpacing\":1,\"fFrameFillColor\":0,\"fFrameLineColor\":1,\"fFrameFillStyle\":1001,\"fFrameLineStyle\":1,\"fFrameLineWidth\":1,\"fFrameBorderSize\":1,\"fFrameBorderMode\":0,\"fHistFillColor\":0,\"fHistLineColor\":1,\"fHistFillStyle\":1001,\"fHistLineStyle\":1,\"fHistLineWidth\":2,\"fHistMinimumZero\":false,\"fHistTopMargin\":0.05,\"fCanvasPreferGL\":false,\"fCanvasColor\":0,\"fCanvasBorderSize\":2,\"fCanvasBorderMode\":0,\"fCanvasDefH\":500,\"fCanvasDefW\":700,\"fCanvasDefX\":10,\"fCanvasDefY\":10,\"fPadColor\":0,\"fPadBorderSize\":2,\"fPadBorderMode\":0,\"fPadBottomMargin\":0.16,\"fPadTopMargin\":0.05,\"fPadLeftMargin\":0.16,\"fPadRightMargin\":0.05,\"fPadGridX\":false,\"fPadGridY\":false,\"fPadTickX\":1,\"fPadTickY\":1,\"fPaperSizeX\":20,\"fPaperSizeY\":26,\"fScreenFactor\":1,\"fStatColor\":0,\"fStatTextColor\":1,\"fStatBorderSize\":2,\"fStatFont\":62,\"fStatFontSize\":0,\"fStatStyle\":1001,\"fStatFormat\":\"6.4g\",\"fStatX\":0.98,\"fStatY\":0.995,\"fStatW\":0.2,\"fStatH\":0.16,\"fStripDecimals\":true,\"fTitleAlign\":13,\"fTitleColor\":19,\"fTitleTextColor\":1,\"fTitleBorderSize\":2,\"fTitleFont\":62,\"fTitleFontSize\":0,\"fTitleStyle\":1001,\"fTitleX\":0.01,\"fTitleY\":0.995,\"fTitleW\":0,\"fTitleH\":0,\"fLegoInnerR\":0.5,\"fLineStyles\":[\"\",\"  \",\"  12 12 \",\" 4 8\",\" 12 16 4 16\",\" 20 12 4 12\",\" 20 12 4 12 4 12 4 12\",\" 20 20\",\" 20 12 4 12 4 12\",\" 80 20\",\" 80 40 4 40\",\"  \",\"  \",\"  \",\"  \",\"  \",\"  \",\"  \",\"  \",\"  \",\"  \",\"  \",\"  \",\"  \",\"  \",\"  \",\"  \",\"  \",\"  \",\"  \"],\"fHeaderPS\":\"\",\"fTitlePS\":\"\",\"fFitFormat\":\"5.4g\",\"fPaintTextFormat\":\"g\",\"fLineScalePS\":3,\"fJoinLinePS\":0,\"fCapLinePS\":0,\"fTimeOffset\":788918400,\"fImageScaling\":1}],\"opt\":[\"\",\"\",\"\"]},\"fExecs\":null,\"fName\":\"QA_Draw_z_residuals_QAG4SimulationDistortions\",\"fTitle\":\"QA_Draw_z_residuals_QAG4SimulationDistortions\",\"fNumPaletteColor\":0,\"fNextPaletteColor\":0,\"fDISPLAY\":\"$DISPLAY\",\"fDoubleBuffer\":0,\"fRetained\":true,\"fXsizeUser\":0,\"fYsizeUser\":0,\"fXsizeReal\":20,\"fYsizeReal\":8.333333,\"fWindowTopX\":0,\"fWindowTopY\":0,\"fWindowWidth\":0,\"fWindowHeight\":0,\"fCw\":1196,\"fCh\":472,\"fCatt\":{\"_typename\":\"TAttCanvas\",\"fXBetween\":2,\"fYBetween\":2,\"fTitleFromTop\":1.2,\"fXdate\":0.2,\"fYdate\":0.3,\"fAdate\":1},\"kMoveOpaque\":true,\"kResizeOpaque\":true,\"fHighLightColor\":2,\"fBatch\":true,\"kShowEventStatus\":false,\"kAutoExec\":true,\"kMenuBar\":true});\n",
       "   Core.settings.HandleKeys = false;\n",
       "   Core.draw(\"root_plot_1727829269260\", obj, \"\");\n",
       "}\n",
       "\n",
       "function script_load_root_plot_1727829269260(src, on_error) {\n",
       "    let script = document.createElement('script');\n",
       "    script.src = src;\n",
       "    script.onload = function() { display_root_plot_1727829269260(JSROOT); };\n",
       "    script.onerror = function() { script.remove(); on_error(); };\n",
       "    document.head.appendChild(script);\n",
       "}\n",
       "\n",
       "if (typeof requirejs !== 'undefined') {\n",
       "\n",
       "    // We are in jupyter notebooks, use require.js which should be configured already\n",
       "    requirejs.config({\n",
       "       paths: { 'JSRootCore' : [ 'scripts/JSRoot.core', 'https://root.cern/js/6.1.1/scripts/JSRoot.core.min', 'https://jsroot.gsi.de/6.1.1/scripts/JSRoot.core.min' ] }\n",
       "    })(['JSRootCore'],  function(Core) {\n",
       "       display_root_plot_1727829269260(Core);\n",
       "    });\n",
       "\n",
       "} else if (typeof JSROOT !== 'undefined') {\n",
       "\n",
       "   // JSROOT already loaded, just use it\n",
       "   display_root_plot_1727829269260(JSROOT);\n",
       "\n",
       "} else {\n",
       "\n",
       "    // We are in jupyterlab without require.js, directly loading jsroot\n",
       "    // Jupyterlab might be installed in a different base_url so we need to know it.\n",
       "    try {\n",
       "        var base_url = JSON.parse(document.getElementById('jupyter-config-data').innerHTML).baseUrl;\n",
       "    } catch(_) {\n",
       "        var base_url = '/';\n",
       "    }\n",
       "\n",
       "    // Try loading a local version of requirejs and fallback to cdn if not possible.\n",
       "    script_load_root_plot_1727829269260(base_url + 'static/scripts/JSRoot.core.js', function(){\n",
       "        console.error('Fail to load JSROOT locally, please check your jupyter_notebook_config.py file');\n",
       "        script_load_root_plot_1727829269260('https://root.cern/js/6.1.1/scripts/JSRoot.core.min.js', function(){\n",
       "            document.getElementById(\"root_plot_1727829269260\").innerHTML = \"Failed to load JSROOT\";\n",
       "        });\n",
       "    });\n",
       "}\n",
       "\n",
       "</script>\n"
      ],
      "text/plain": [
       "<IPython.core.display.HTML object>"
      ]
     },
     "metadata": {},
     "output_type": "display_data"
    }
   ],
   "source": [
    "%%cpp\n",
    "    const char *hist_name_prefix = \"QAG4SimulationDistortions\";\n",
    "    TString prefix = TString(\"h_\") + hist_name_prefix + TString(\"_\");\n",
    "    \n",
    "    TCanvas *cv_deltaz_layer = new TCanvas(TString(\"QA_Draw_z_residuals\") + TString(\"_\") + hist_name_prefix,\n",
    "                                     TString(\"QA_Draw_z_residuals\") + TString(\"_\") + hist_name_prefix,\n",
    "                                     1200,500);\n",
    "    cv_deltaz_layer->Divide(2, 1);\n",
    "        \n",
    "    auto h_deltaz_layer_ref = (TH2F *)qa_file_ref->GetObjectChecked(prefix + \"deltaz_layer\", \"TH2\");\n",
    "    if( !h_deltaz_layer_ref )\n",
    "    { \n",
    "        std::cout << \"h_deltaz_layer_ref not found. doing nothing.\" << std::endl;\n",
    "        return;\n",
    "    }\n",
    "    h_deltaz_layer_ref->SetDirectory(nullptr);\n",
    "\n",
    "    auto h_deltaz_layer_new = (TH2F *)qa_file_new->GetObjectChecked(prefix + \"deltaz_layer\", \"TH2\");\n",
    "    if( !h_deltaz_layer_new )\n",
    "    { \n",
    "        std::cout << \"h_deltaz_layer_new not found. doing nothing.\" << std::endl;\n",
    "        return;\n",
    "    }\n",
    "    h_deltaz_layer_new->SetDirectory(nullptr);\n",
    "    \n",
    "    {\n",
    "        auto newScale = FitResolution_hist(h_deltaz_layer_new, false, 1);\n",
    "        newScale->GetXaxis()->SetTitle(\"layer\");\n",
    "        newScale->GetYaxis()->SetTitle(\"#LT#Delta z#GT (#mum)\");\n",
    "        newScale->Scale(1e4);\n",
    "        newScale->SetMinimum(-100);\n",
    "        newScale->SetMaximum(100);\n",
    "\n",
    "        auto refScale = FitResolution_hist(h_deltaz_layer_ref, false, 1);\n",
    "        refScale->Scale(1e4);\n",
    "\n",
    "        cv_deltaz_layer->cd(1);\n",
    "        DrawReference(newScale, refScale);\n",
    "        \n",
    "        // Draw line at zero\n",
    "        auto line = HorizontalLine( gPad, 0 );\n",
    "        line->Draw();\n",
    "    }\n",
    "    \n",
    "    {\n",
    "        auto newRMS = FitResolution_hist(h_deltaz_layer_new, false, 2);\n",
    "        newRMS->GetXaxis()->SetTitle(\"layer\");\n",
    "        newRMS->GetYaxis()->SetTitle(\"RMS(#Delta z) (#mum)\");\n",
    "        newRMS->Scale(1e4);\n",
    "        newRMS->SetMinimum(0);\n",
    "        newRMS->SetMaximum(2000);\n",
    "        \n",
    "        auto refRMS = FitResolution_hist(h_deltaz_layer_ref, false, 2);\n",
    "        refRMS->Scale(1e4);\n",
    "        \n",
    "        cv_deltaz_layer->cd(2);\n",
    "        DrawReference(newRMS, refRMS);\n",
    "    }\n",
    "    \n",
    "    cv_deltaz_layer->Draw();\n",
    "    "
   ]
  },
  {
   "cell_type": "code",
   "execution_count": 15,
   "metadata": {
    "execution": {
     "iopub.execute_input": "2024-10-02T00:34:29.273703Z",
     "iopub.status.busy": "2024-10-02T00:34:29.273445Z",
     "iopub.status.idle": "2024-10-02T00:34:29.434731Z",
     "shell.execute_reply": "2024-10-02T00:34:29.432927Z"
    }
   },
   "outputs": [
    {
     "name": "stdout",
     "output_type": "stream",
     "text": [
      "This notebook contains 4 KSTets: combined Chi2/nDoF = 7.04697 / 8, and combined __p-Value = 0.531574__\n"
     ]
    }
   ],
   "source": [
    "%%cpp\n",
    "\n",
    "KSTestSummary::getInstance()->make_summary_txt(\"QA-Distortions.txt\");"
   ]
  },
  {
   "cell_type": "code",
   "execution_count": 16,
   "metadata": {
    "execution": {
     "iopub.execute_input": "2024-10-02T00:34:29.439611Z",
     "iopub.status.busy": "2024-10-02T00:34:29.438637Z",
     "iopub.status.idle": "2024-10-02T00:34:29.573554Z",
     "shell.execute_reply": "2024-10-02T00:34:29.572291Z"
    }
   },
   "outputs": [
    {
     "data": {
      "text/html": [
       "\n",
       "\n",
       "<div id=\"root_plot_1727829269564\"\n",
       "     style=\"width: 946px; height: 572px\">\n",
       "</div>\n",
       "<script>\n",
       "\n",
       "function display_root_plot_1727829269564(Core) {\n",
       "   let obj = Core.parse({\"_typename\":\"TCanvas\",\"fUniqueID\":0,\"fBits\":3342344,\"fLineColor\":1,\"fLineStyle\":1,\"fLineWidth\":1,\"fFillColor\":0,\"fFillStyle\":1001,\"fLeftMargin\":0.16,\"fRightMargin\":0.05,\"fBottomMargin\":0.16,\"fTopMargin\":0.05,\"fXfile\":2,\"fYfile\":2,\"fAfile\":1,\"fXstat\":0.99,\"fYstat\":0.99,\"fAstat\":2,\"fFrameFillColor\":0,\"fFrameLineColor\":1,\"fFrameFillStyle\":1001,\"fFrameLineStyle\":1,\"fFrameLineWidth\":1,\"fFrameBorderSize\":1,\"fFrameBorderMode\":0,\"fX1\":0,\"fY1\":0,\"fX2\":1,\"fY2\":1,\"fXtoAbsPixelk\":5e-5,\"fXtoPixelk\":5e-5,\"fXtoPixel\":946,\"fYtoAbsPixelk\":572.00005,\"fYtoPixelk\":572.00005,\"fYtoPixel\":-572,\"fUtoAbsPixelk\":5e-5,\"fUtoPixelk\":5e-5,\"fUtoPixel\":946,\"fVtoAbsPixelk\":572.00005,\"fVtoPixelk\":572,\"fVtoPixel\":-572,\"fAbsPixeltoXk\":0,\"fPixeltoXk\":0,\"fPixeltoX\":0.00105708245243129,\"fAbsPixeltoYk\":1,\"fPixeltoYk\":0,\"fPixeltoY\":-0.00174825174825175,\"fXlowNDC\":0,\"fYlowNDC\":0,\"fXUpNDC\":1,\"fYUpNDC\":1,\"fWNDC\":1,\"fHNDC\":1,\"fAbsXlowNDC\":0,\"fAbsYlowNDC\":0,\"fAbsWNDC\":1,\"fAbsHNDC\":1,\"fUxmin\":0,\"fUymin\":0,\"fUxmax\":1,\"fUymax\":1,\"fTheta\":30,\"fPhi\":30,\"fAspectRatio\":0,\"fNumber\":0,\"fTickx\":1,\"fTicky\":1,\"fLogx\":0,\"fLogy\":0,\"fLogz\":0,\"fPadPaint\":0,\"fCrosshair\":0,\"fCrosshairPos\":0,\"fBorderSize\":2,\"fBorderMode\":0,\"fModified\":false,\"fGridx\":false,\"fGridy\":false,\"fAbsCoord\":false,\"fEditable\":true,\"fFixedAspectRatio\":false,\"fPrimitives\":{\"_typename\":\"TList\",\"name\":\"TList\",\"arr\":[{\"_typename\":\"TPad\",\"fUniqueID\":0,\"fBits\":9,\"fLineColor\":1,\"fLineStyle\":1,\"fLineWidth\":1,\"fFillColor\":0,\"fFillStyle\":1001,\"fLeftMargin\":0.16,\"fRightMargin\":0.05,\"fBottomMargin\":0.16,\"fTopMargin\":0.05,\"fXfile\":2,\"fYfile\":2,\"fAfile\":1,\"fXstat\":0.99,\"fYstat\":0.99,\"fAstat\":2,\"fFrameFillColor\":0,\"fFrameLineColor\":1,\"fFrameFillStyle\":1001,\"fFrameLineStyle\":1,\"fFrameLineWidth\":1,\"fFrameBorderSize\":1,\"fFrameBorderMode\":0,\"fX1\":-0.202531635682106,\"fY1\":-0.21265821731868,\"fX2\":1.06329113857719,\"fY2\":1.11645569538776,\"fXtoAbsPixelk\":82.1128469149076,\"fXtoPixelk\":72.6528471263551,\"fXtoPixel\":358.723203324102,\"fYtoAbsPixelk\":476.590453762257,\"fYtoPixelk\":470.870453890109,\"fYtoPixel\":-421.754670458796,\"fUtoAbsPixelk\":9.46004978855252,\"fUtoPixelk\":5e-5,\"fUtoPixel\":454.080000422895,\"fVtoAbsPixelk\":566.280050127852,\"fVtoPixelk\":560.560000255704,\"fVtoPixel\":-560.560000255704,\"fAbsPixeltoXk\":-0.22890294286517,\"fPixeltoXk\":-0.202531635682106,\"fPixeltoX\":0.00278766466939835,\"fAbsPixeltoYk\":1.13001808194278,\"fPixeltoYk\":-0.21265821731868,\"fPixeltoY\":-0.00237104665352531,\"fXlowNDC\":0.00999999977648258,\"fYlowNDC\":0.00999999977648258,\"fXUpNDC\":0.490000000223517,\"fYUpNDC\":0.990000000223517,\"fWNDC\":0.480000000447035,\"fHNDC\":0.980000000447035,\"fAbsXlowNDC\":0.00999999977648258,\"fAbsYlowNDC\":0.00999999977648258,\"fAbsWNDC\":0.480000000447035,\"fAbsHNDC\":0.980000000447035,\"fUxmin\":-1e-10,\"fUymin\":0,\"fUxmax\":1.0000000001,\"fUymax\":1.05,\"fTheta\":30,\"fPhi\":30,\"fAspectRatio\":0,\"fNumber\":1,\"fTickx\":1,\"fTicky\":1,\"fLogx\":0,\"fLogy\":0,\"fLogz\":0,\"fPadPaint\":0,\"fCrosshair\":0,\"fCrosshairPos\":0,\"fBorderSize\":2,\"fBorderMode\":0,\"fModified\":false,\"fGridx\":false,\"fGridy\":false,\"fAbsCoord\":false,\"fEditable\":true,\"fFixedAspectRatio\":false,\"fPrimitives\":{\"_typename\":\"TList\",\"name\":\"TList\",\"arr\":[{\"_typename\":\"TFrame\",\"fUniqueID\":0,\"fBits\":8,\"fLineColor\":1,\"fLineStyle\":1,\"fLineWidth\":1,\"fFillColor\":0,\"fFillStyle\":1001,\"fX1\":-1e-10,\"fY1\":0,\"fX2\":1.0000000001,\"fY2\":1.05,\"fBorderSize\":1,\"fBorderMode\":0},{\"_typename\":\"TH1F\",\"fUniqueID\":0,\"fBits\":520,\"fName\":\"h_pValue\",\"fTitle\":\"p-Value Summary\",\"fLineColor\":1,\"fLineStyle\":1,\"fLineWidth\":2,\"fFillColor\":598,\"fFillStyle\":1001,\"fMarkerColor\":1,\"fMarkerStyle\":20,\"fMarkerSize\":1.2,\"fNcells\":52,\"fXaxis\":{\"_typename\":\"TAxis\",\"fUniqueID\":0,\"fBits\":0,\"fName\":\"xaxis\",\"fTitle\":\"p-Value\",\"fNdivisions\":510,\"fAxisColor\":1,\"fLabelColor\":1,\"fLabelFont\":42,\"fLabelOffset\":0.005,\"fLabelSize\":0.05,\"fTickLength\":0.03,\"fTitleOffset\":1.4,\"fTitleSize\":0.05,\"fTitleColor\":1,\"fTitleFont\":42,\"fNbins\":50,\"fXmin\":-1e-10,\"fXmax\":1.0000000001,\"fXbins\":[],\"fFirst\":0,\"fLast\":0,\"fBits2\":0,\"fTimeDisplay\":false,\"fTimeFormat\":\"\",\"fLabels\":null,\"fModLabs\":null},\"fYaxis\":{\"_typename\":\"TAxis\",\"fUniqueID\":0,\"fBits\":0,\"fName\":\"yaxis\",\"fTitle\":\"Count of plots\",\"fNdivisions\":510,\"fAxisColor\":1,\"fLabelColor\":1,\"fLabelFont\":42,\"fLabelOffset\":0.005,\"fLabelSize\":0.05,\"fTickLength\":0.03,\"fTitleOffset\":1.4,\"fTitleSize\":0.05,\"fTitleColor\":1,\"fTitleFont\":42,\"fNbins\":1,\"fXmin\":0,\"fXmax\":1,\"fXbins\":[],\"fFirst\":0,\"fLast\":0,\"fBits2\":0,\"fTimeDisplay\":false,\"fTimeFormat\":\"\",\"fLabels\":null,\"fModLabs\":null},\"fZaxis\":{\"_typename\":\"TAxis\",\"fUniqueID\":0,\"fBits\":0,\"fName\":\"zaxis\",\"fTitle\":\"\",\"fNdivisions\":510,\"fAxisColor\":1,\"fLabelColor\":1,\"fLabelFont\":42,\"fLabelOffset\":0.005,\"fLabelSize\":0.05,\"fTickLength\":0.03,\"fTitleOffset\":1,\"fTitleSize\":0.05,\"fTitleColor\":1,\"fTitleFont\":42,\"fNbins\":1,\"fXmin\":0,\"fXmax\":1,\"fXbins\":[],\"fFirst\":0,\"fLast\":0,\"fBits2\":0,\"fTimeDisplay\":false,\"fTimeFormat\":\"\",\"fLabels\":null,\"fModLabs\":null},\"fBarOffset\":0,\"fBarWidth\":1000,\"fEntries\":4,\"fTsumw\":4,\"fTsumw2\":4,\"fTsumwx\":2.08106139145183,\"fTsumwx2\":1.44942357791785,\"fMaximum\":-1111,\"fMinimum\":-1111,\"fNormFactor\":0,\"fContour\":[],\"fSumw2\":[],\"fOption\":\"\",\"fFunctions\":{\"_typename\":\"TList\",\"name\":\"TList\",\"arr\":[],\"opt\":[]},\"fBufferSize\":0,\"fBuffer\":[],\"fBinStatErrOpt\":0,\"fStatOverflows\":2,\"fArray\":{\"$arr\":\"Float32\",\"len\":52,\"p\":7,\"v\":[1,0,0,0,0,0,0,0,0,0,1],\"p1\":35,\"v1\":1,\"p2\":46,\"v2\":1}}],\"opt\":[\"\",\"\"]},\"fExecs\":{\"_typename\":\"TList\",\"name\":\"TList\",\"arr\":[],\"opt\":[]},\"fName\":\"Summary_1\",\"fTitle\":\"Summary_1\",\"fNumPaletteColor\":0,\"fNextPaletteColor\":0},{\"_typename\":\"TPad\",\"fUniqueID\":0,\"fBits\":9,\"fLineColor\":1,\"fLineStyle\":1,\"fLineWidth\":1,\"fFillColor\":0,\"fFillStyle\":1001,\"fLeftMargin\":0.16,\"fRightMargin\":0.05,\"fBottomMargin\":0.16,\"fTopMargin\":0.05,\"fXfile\":2,\"fYfile\":2,\"fAfile\":1,\"fXstat\":0.99,\"fYstat\":0.99,\"fAstat\":2,\"fFrameFillColor\":0,\"fFrameLineColor\":1,\"fFrameFillStyle\":1001,\"fFrameLineStyle\":1,\"fFrameLineWidth\":1,\"fFrameBorderSize\":1,\"fFrameBorderMode\":0,\"fX1\":-24.0506327108522,\"fY1\":-0.479178623023989,\"fX2\":1.2658227693969,\"fY2\":0.634250343602365,\"fXtoAbsPixelk\":913.836050273088,\"fXtoPixelk\":431.376050484536,\"fXtoPixel\":17.9361601697026,\"fYtoAbsPixelk\":325.035770433272,\"fYtoPixelk\":319.315770561124,\"fYtoPixel\":-503.453760462312,\"fUtoAbsPixelk\":482.460049788553,\"fUtoPixelk\":5e-5,\"fUtoPixel\":454.080000422895,\"fVtoAbsPixelk\":566.280050127852,\"fVtoPixelk\":560.560000255704,\"fVtoPixel\":-560.560000255704,\"fAbsPixeltoXk\":-50.9493666217767,\"fPixeltoXk\":-24.0506327108522,\"fPixeltoX\":0.0557532933770951,\"fAbsPixeltoYk\":0.645611863410848,\"fPixeltoYk\":-0.479178623023989,\"fPixeltoY\":-0.00198627973119462,\"fXlowNDC\":0.509999999776483,\"fYlowNDC\":0.00999999977648258,\"fXUpNDC\":0.990000000223517,\"fYUpNDC\":0.990000000223517,\"fWNDC\":0.480000000447035,\"fHNDC\":0.980000000447035,\"fAbsXlowNDC\":0.509999999776483,\"fAbsYlowNDC\":0.00999999977648258,\"fAbsWNDC\":0.480000000447035,\"fAbsHNDC\":0.980000000447035,\"fUxmin\":-20,\"fUymin\":-0.301029995663981,\"fUxmax\":9.99994531625248e-11,\"fUymax\":0.57857889547844,\"fTheta\":30,\"fPhi\":30,\"fAspectRatio\":0,\"fNumber\":2,\"fTickx\":1,\"fTicky\":1,\"fLogx\":0,\"fLogy\":1,\"fLogz\":0,\"fPadPaint\":0,\"fCrosshair\":0,\"fCrosshairPos\":0,\"fBorderSize\":2,\"fBorderMode\":0,\"fModified\":false,\"fGridx\":false,\"fGridy\":false,\"fAbsCoord\":false,\"fEditable\":true,\"fFixedAspectRatio\":false,\"fPrimitives\":{\"_typename\":\"TList\",\"name\":\"TList\",\"arr\":[{\"_typename\":\"TFrame\",\"fUniqueID\":0,\"fBits\":8,\"fLineColor\":1,\"fLineStyle\":1,\"fLineWidth\":1,\"fFillColor\":0,\"fFillStyle\":1001,\"fX1\":-20,\"fY1\":-0.301029995663981,\"fX2\":9.99994531625248e-11,\"fY2\":0.57857889547844,\"fBorderSize\":1,\"fBorderMode\":0},{\"_typename\":\"TH1F\",\"fUniqueID\":0,\"fBits\":520,\"fName\":\"h_Log_pValue\",\"fTitle\":\"Log p-Value Summary\",\"fLineColor\":1,\"fLineStyle\":1,\"fLineWidth\":2,\"fFillColor\":598,\"fFillStyle\":1001,\"fMarkerColor\":1,\"fMarkerStyle\":20,\"fMarkerSize\":1.2,\"fNcells\":52,\"fXaxis\":{\"_typename\":\"TAxis\",\"fUniqueID\":0,\"fBits\":0,\"fName\":\"xaxis\",\"fTitle\":\"Log[p-Value]\",\"fNdivisions\":510,\"fAxisColor\":1,\"fLabelColor\":1,\"fLabelFont\":42,\"fLabelOffset\":0.005,\"fLabelSize\":0.05,\"fTickLength\":0.03,\"fTitleOffset\":1.4,\"fTitleSize\":0.05,\"fTitleColor\":1,\"fTitleFont\":42,\"fNbins\":50,\"fXmin\":-20,\"fXmax\":1e-10,\"fXbins\":[],\"fFirst\":0,\"fLast\":0,\"fBits2\":0,\"fTimeDisplay\":false,\"fTimeFormat\":\"\",\"fLabels\":null,\"fModLabs\":null},\"fYaxis\":{\"_typename\":\"TAxis\",\"fUniqueID\":0,\"fBits\":0,\"fName\":\"yaxis\",\"fTitle\":\"Count of plots\",\"fNdivisions\":510,\"fAxisColor\":1,\"fLabelColor\":1,\"fLabelFont\":42,\"fLabelOffset\":0.005,\"fLabelSize\":0.05,\"fTickLength\":0.03,\"fTitleOffset\":1.4,\"fTitleSize\":0.05,\"fTitleColor\":1,\"fTitleFont\":42,\"fNbins\":1,\"fXmin\":0,\"fXmax\":1,\"fXbins\":[],\"fFirst\":0,\"fLast\":0,\"fBits2\":0,\"fTimeDisplay\":false,\"fTimeFormat\":\"\",\"fLabels\":null,\"fModLabs\":null},\"fZaxis\":{\"_typename\":\"TAxis\",\"fUniqueID\":0,\"fBits\":0,\"fName\":\"zaxis\",\"fTitle\":\"\",\"fNdivisions\":510,\"fAxisColor\":1,\"fLabelColor\":1,\"fLabelFont\":42,\"fLabelOffset\":0.005,\"fLabelSize\":0.05,\"fTickLength\":0.03,\"fTitleOffset\":1,\"fTitleSize\":0.05,\"fTitleColor\":1,\"fTitleFont\":42,\"fNbins\":1,\"fXmin\":0,\"fXmax\":1,\"fXbins\":[],\"fFirst\":0,\"fLast\":0,\"fBits2\":0,\"fTimeDisplay\":false,\"fTimeFormat\":\"\",\"fLabels\":null,\"fModLabs\":null},\"fBarOffset\":0,\"fBarWidth\":1000,\"fEntries\":4,\"fTsumw\":4,\"fTsumw2\":4,\"fTsumwx\":-3.5234852136419,\"fTsumwx2\":5.22739036312984,\"fMaximum\":-1111,\"fMinimum\":-1111,\"fNormFactor\":0,\"fContour\":[],\"fSumw2\":[],\"fOption\":\"\",\"fFunctions\":{\"_typename\":\"TList\",\"name\":\"TList\",\"arr\":[],\"opt\":[]},\"fBufferSize\":0,\"fBuffer\":[],\"fBinStatErrOpt\":0,\"fStatOverflows\":2,\"fArray\":{\"$arr\":\"Float32\",\"len\":52,\"p\":46,\"v\":[1,0,1,0,2]}}],\"opt\":[\"\",\"\"]},\"fExecs\":{\"_typename\":\"TList\",\"name\":\"TList\",\"arr\":[],\"opt\":[]},\"fName\":\"Summary_2\",\"fTitle\":\"Summary_2\",\"fNumPaletteColor\":0,\"fNextPaletteColor\":0},{\"_typename\":\"TStyle\",\"fUniqueID\":0,\"fBits\":0,\"fName\":\"sPHENIX\",\"fTitle\":\"sPHENIX style\",\"fLineColor\":1,\"fLineStyle\":1,\"fLineWidth\":1,\"fFillColor\":19,\"fFillStyle\":1001,\"fMarkerColor\":1,\"fMarkerStyle\":20,\"fMarkerSize\":1.2,\"fTextAngle\":0,\"fTextSize\":0.05,\"fTextAlign\":11,\"fTextColor\":1,\"fTextFont\":42,\"fXaxis\":{\"_typename\":\"TAttAxis\",\"fNdivisions\":510,\"fAxisColor\":1,\"fLabelColor\":1,\"fLabelFont\":42,\"fLabelOffset\":0.005,\"fLabelSize\":0.05,\"fTickLength\":0.03,\"fTitleOffset\":1.4,\"fTitleSize\":0.05,\"fTitleColor\":1,\"fTitleFont\":42},\"fYaxis\":{\"_typename\":\"TAttAxis\",\"fNdivisions\":510,\"fAxisColor\":1,\"fLabelColor\":1,\"fLabelFont\":42,\"fLabelOffset\":0.005,\"fLabelSize\":0.05,\"fTickLength\":0.03,\"fTitleOffset\":1.4,\"fTitleSize\":0.05,\"fTitleColor\":1,\"fTitleFont\":42},\"fZaxis\":{\"_typename\":\"TAttAxis\",\"fNdivisions\":510,\"fAxisColor\":1,\"fLabelColor\":1,\"fLabelFont\":42,\"fLabelOffset\":0.005,\"fLabelSize\":0.05,\"fTickLength\":0.03,\"fTitleOffset\":1,\"fTitleSize\":0.05,\"fTitleColor\":1,\"fTitleFont\":42},\"fBarWidth\":1,\"fBarOffset\":0,\"fColorModelPS\":0,\"fDrawBorder\":0,\"fOptLogx\":0,\"fOptLogy\":0,\"fOptLogz\":0,\"fOptDate\":0,\"fOptStat\":0,\"fOptTitle\":0,\"fOptFile\":0,\"fOptFit\":0,\"fShowEventStatus\":0,\"fShowEditor\":0,\"fShowToolBar\":0,\"fNumberContours\":80,\"fAttDate\":{\"_typename\":\"TAttText\",\"fTextAngle\":0,\"fTextSize\":0.025,\"fTextAlign\":11,\"fTextColor\":1,\"fTextFont\":62},\"fDateX\":0.01,\"fDateY\":0.01,\"fEndErrorSize\":0,\"fErrorX\":0.5,\"fFuncColor\":1,\"fFuncStyle\":1,\"fFuncWidth\":3,\"fGridColor\":0,\"fGridStyle\":3,\"fGridWidth\":1,\"fLegendBorderSize\":0,\"fLegendFillColor\":0,\"fLegendFont\":42,\"fLegendTextSize\":0.05,\"fHatchesLineWidth\":1,\"fHatchesSpacing\":1,\"fFrameFillColor\":0,\"fFrameLineColor\":1,\"fFrameFillStyle\":1001,\"fFrameLineStyle\":1,\"fFrameLineWidth\":1,\"fFrameBorderSize\":1,\"fFrameBorderMode\":0,\"fHistFillColor\":0,\"fHistLineColor\":1,\"fHistFillStyle\":1001,\"fHistLineStyle\":1,\"fHistLineWidth\":2,\"fHistMinimumZero\":false,\"fHistTopMargin\":0.05,\"fCanvasPreferGL\":false,\"fCanvasColor\":0,\"fCanvasBorderSize\":2,\"fCanvasBorderMode\":0,\"fCanvasDefH\":500,\"fCanvasDefW\":700,\"fCanvasDefX\":10,\"fCanvasDefY\":10,\"fPadColor\":0,\"fPadBorderSize\":2,\"fPadBorderMode\":0,\"fPadBottomMargin\":0.16,\"fPadTopMargin\":0.05,\"fPadLeftMargin\":0.16,\"fPadRightMargin\":0.05,\"fPadGridX\":false,\"fPadGridY\":false,\"fPadTickX\":1,\"fPadTickY\":1,\"fPaperSizeX\":20,\"fPaperSizeY\":26,\"fScreenFactor\":1,\"fStatColor\":0,\"fStatTextColor\":1,\"fStatBorderSize\":2,\"fStatFont\":62,\"fStatFontSize\":0,\"fStatStyle\":1001,\"fStatFormat\":\"6.4g\",\"fStatX\":0.98,\"fStatY\":0.995,\"fStatW\":0.2,\"fStatH\":0.16,\"fStripDecimals\":true,\"fTitleAlign\":13,\"fTitleColor\":19,\"fTitleTextColor\":1,\"fTitleBorderSize\":2,\"fTitleFont\":62,\"fTitleFontSize\":0,\"fTitleStyle\":1001,\"fTitleX\":0.01,\"fTitleY\":0.995,\"fTitleW\":0,\"fTitleH\":0,\"fLegoInnerR\":0.5,\"fLineStyles\":[\"\",\"  \",\"  12 12 \",\" 4 8\",\" 12 16 4 16\",\" 20 12 4 12\",\" 20 12 4 12 4 12 4 12\",\" 20 20\",\" 20 12 4 12 4 12\",\" 80 20\",\" 80 40 4 40\",\"  \",\"  \",\"  \",\"  \",\"  \",\"  \",\"  \",\"  \",\"  \",\"  \",\"  \",\"  \",\"  \",\"  \",\"  \",\"  \",\"  \",\"  \",\"  \"],\"fHeaderPS\":\"\",\"fTitlePS\":\"\",\"fFitFormat\":\"5.4g\",\"fPaintTextFormat\":\"g\",\"fLineScalePS\":3,\"fJoinLinePS\":0,\"fCapLinePS\":0,\"fTimeOffset\":788918400,\"fImageScaling\":1}],\"opt\":[\"\",\"\",\"\"]},\"fExecs\":null,\"fName\":\"Summary\",\"fTitle\":\"Summary\",\"fNumPaletteColor\":0,\"fNextPaletteColor\":0,\"fDISPLAY\":\"$DISPLAY\",\"fDoubleBuffer\":0,\"fRetained\":true,\"fXsizeUser\":0,\"fYsizeUser\":0,\"fXsizeReal\":20,\"fYsizeReal\":12.63158,\"fWindowTopX\":0,\"fWindowTopY\":0,\"fWindowWidth\":0,\"fWindowHeight\":0,\"fCw\":946,\"fCh\":572,\"fCatt\":{\"_typename\":\"TAttCanvas\",\"fXBetween\":2,\"fYBetween\":2,\"fTitleFromTop\":1.2,\"fXdate\":0.2,\"fYdate\":0.3,\"fAdate\":1},\"kMoveOpaque\":true,\"kResizeOpaque\":true,\"fHighLightColor\":2,\"fBatch\":true,\"kShowEventStatus\":false,\"kAutoExec\":true,\"kMenuBar\":true});\n",
       "   Core.settings.HandleKeys = false;\n",
       "   Core.draw(\"root_plot_1727829269564\", obj, \"\");\n",
       "}\n",
       "\n",
       "function script_load_root_plot_1727829269564(src, on_error) {\n",
       "    let script = document.createElement('script');\n",
       "    script.src = src;\n",
       "    script.onload = function() { display_root_plot_1727829269564(JSROOT); };\n",
       "    script.onerror = function() { script.remove(); on_error(); };\n",
       "    document.head.appendChild(script);\n",
       "}\n",
       "\n",
       "if (typeof requirejs !== 'undefined') {\n",
       "\n",
       "    // We are in jupyter notebooks, use require.js which should be configured already\n",
       "    requirejs.config({\n",
       "       paths: { 'JSRootCore' : [ 'scripts/JSRoot.core', 'https://root.cern/js/6.1.1/scripts/JSRoot.core.min', 'https://jsroot.gsi.de/6.1.1/scripts/JSRoot.core.min' ] }\n",
       "    })(['JSRootCore'],  function(Core) {\n",
       "       display_root_plot_1727829269564(Core);\n",
       "    });\n",
       "\n",
       "} else if (typeof JSROOT !== 'undefined') {\n",
       "\n",
       "   // JSROOT already loaded, just use it\n",
       "   display_root_plot_1727829269564(JSROOT);\n",
       "\n",
       "} else {\n",
       "\n",
       "    // We are in jupyterlab without require.js, directly loading jsroot\n",
       "    // Jupyterlab might be installed in a different base_url so we need to know it.\n",
       "    try {\n",
       "        var base_url = JSON.parse(document.getElementById('jupyter-config-data').innerHTML).baseUrl;\n",
       "    } catch(_) {\n",
       "        var base_url = '/';\n",
       "    }\n",
       "\n",
       "    // Try loading a local version of requirejs and fallback to cdn if not possible.\n",
       "    script_load_root_plot_1727829269564(base_url + 'static/scripts/JSRoot.core.js', function(){\n",
       "        console.error('Fail to load JSROOT locally, please check your jupyter_notebook_config.py file');\n",
       "        script_load_root_plot_1727829269564('https://root.cern/js/6.1.1/scripts/JSRoot.core.min.js', function(){\n",
       "            document.getElementById(\"root_plot_1727829269564\").innerHTML = \"Failed to load JSROOT\";\n",
       "        });\n",
       "    });\n",
       "}\n",
       "\n",
       "</script>\n"
      ],
      "text/plain": [
       "<IPython.core.display.HTML object>"
      ]
     },
     "metadata": {},
     "output_type": "display_data"
    }
   ],
   "source": [
    "%%cpp\n",
    "\n",
    "KSTestSummary::getInstance()->make_summary_TCanvas() -> Draw();"
   ]
  },
  {
   "cell_type": "code",
   "execution_count": null,
   "metadata": {},
   "outputs": [],
   "source": []
  }
 ],
 "metadata": {
  "kernelspec": {
   "display_name": "Python (sPHENIX)",
   "language": "python",
   "name": "sphenix-env"
  },
  "language_info": {
   "codemirror_mode": {
    "name": "ipython",
    "version": 3
   },
   "file_extension": ".py",
   "mimetype": "text/x-python",
   "name": "python",
   "nbconvert_exporter": "python",
   "pygments_lexer": "ipython3",
   "version": "3.10.8"
  }
 },
 "nbformat": 4,
 "nbformat_minor": 4
}
