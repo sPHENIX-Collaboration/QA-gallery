{
 "cells": [
  {
   "cell_type": "markdown",
   "metadata": {},
   "source": [
    "# Introduction\n",
    "\n",
    "QA plots for the generic distortions reconstruction performance"
   ]
  },
  {
   "cell_type": "code",
   "execution_count": 1,
   "metadata": {
    "execution": {
     "iopub.execute_input": "2024-04-18T21:25:48.635470Z",
     "iopub.status.busy": "2024-04-18T21:25:48.634861Z",
     "iopub.status.idle": "2024-04-18T21:25:48.650783Z",
     "shell.execute_reply": "2024-04-18T21:25:48.649795Z"
    },
    "jupyter": {
     "source_hidden": true
    },
    "tags": []
   },
   "outputs": [],
   "source": [
    "# imports to write dynamic markdown contents\n",
    "import os\n",
    "from IPython.display import display, Markdown, Latex\n",
    "from IPython.display import HTML"
   ]
  },
  {
   "cell_type": "code",
   "execution_count": 2,
   "metadata": {
    "execution": {
     "iopub.execute_input": "2024-04-18T21:25:48.656137Z",
     "iopub.status.busy": "2024-04-18T21:25:48.655628Z",
     "iopub.status.idle": "2024-04-18T21:25:48.670807Z",
     "shell.execute_reply": "2024-04-18T21:25:48.669978Z"
    },
    "tags": []
   },
   "outputs": [
    {
     "data": {
      "text/markdown": [
       "*For the result HTML page:* "
      ],
      "text/plain": [
       "<IPython.core.display.Markdown object>"
      ]
     },
     "metadata": {},
     "output_type": "display_data"
    },
    {
     "data": {
      "text/html": [
       "<script>\n",
       "code_show=true; \n",
       "function code_toggle() {\n",
       " if (code_show){\n",
       " $('div.input').hide();\n",
       " $('div.jp-CodeMirrorEditor').hide(); // for newer versions of nbviewer.org\n",
       " } else {\n",
       " $('div.input').show();\n",
       " $('div.jp-CodeMirrorEditor').show(); // for newer versions of nbviewer.org\n",
       " }\n",
       " code_show = !code_show\n",
       "} \n",
       "$( document ).ready(code_toggle);\n",
       "</script>\n",
       "<form action=\"javascript:code_toggle()\"><input type=\"submit\" value=\"Click here to toggle on/off the raw code.\"></form>"
      ],
      "text/plain": [
       "<IPython.core.display.HTML object>"
      ]
     },
     "execution_count": 2,
     "metadata": {},
     "output_type": "execute_result"
    }
   ],
   "source": [
    "# turn off/on code for the result HTML page\n",
    "\n",
    "display(Markdown('*For the result HTML page:* '))\n",
    "    \n",
    "HTML('''<script>\n",
    "code_show=true; \n",
    "function code_toggle() {\n",
    " if (code_show){\n",
    " $('div.input').hide();\n",
    " $('div.jp-CodeMirrorEditor').hide(); // for newer versions of nbviewer.org\n",
    " } else {\n",
    " $('div.input').show();\n",
    " $('div.jp-CodeMirrorEditor').show(); // for newer versions of nbviewer.org\n",
    " }\n",
    " code_show = !code_show\n",
    "} \n",
    "$( document ).ready(code_toggle);\n",
    "</script>\n",
    "<form action=\"javascript:code_toggle()\"><input type=\"submit\" value=\"Click here to toggle on/off the raw code.\"></form>''')"
   ]
  },
  {
   "cell_type": "code",
   "execution_count": 3,
   "metadata": {
    "execution": {
     "iopub.execute_input": "2024-04-18T21:25:48.738761Z",
     "iopub.status.busy": "2024-04-18T21:25:48.737900Z",
     "iopub.status.idle": "2024-04-18T21:25:48.749416Z",
     "shell.execute_reply": "2024-04-18T21:25:48.748294Z"
    }
   },
   "outputs": [
    {
     "data": {
      "text/markdown": [
       "[//]: # (This section starts with a 2nd level heading and get embedded in the result QA report at https://github.com/sPHENIX-Collaboration/QA-gallery/tree/QA-tracking-low-occupancy)\n",
       "\n",
       "## Tracking Distortions\n",
       "\n",
       "Test tracking QA distortions\n",
       "\n",
       "The source code of the macro can be found at https://github.com/sPHENIX-Collaboration/macros/tree/QA-tracking-distortions or [comparing it to the master branch](https://github.com/sPHENIX-Collaboration/macros/compare/QA-tracking-distortions?expand=1).\n"
      ],
      "text/plain": [
       "<IPython.core.display.Markdown object>"
      ]
     },
     "metadata": {},
     "output_type": "display_data"
    }
   ],
   "source": [
    "import os.path\n",
    "\n",
    "# readme file of the macros, available if run under JenkinsCI\n",
    "# https://github.com/sPHENIX-Collaboration/utilities/blob/master/jenkins/built-test/test-tracking-qa.sh \n",
    "\n",
    "macro_markdown = 'Fun4All-macros-README.md'\n",
    "\n",
    "\n",
    "if os.path.isfile(macro_markdown) :\n",
    "    with open(macro_markdown, 'r') as file:\n",
    "        display(Markdown(file.read()))"
   ]
  },
  {
   "cell_type": "markdown",
   "metadata": {},
   "source": [
    "## `pyROOT` env check"
   ]
  },
  {
   "cell_type": "code",
   "execution_count": 4,
   "metadata": {
    "execution": {
     "iopub.execute_input": "2024-04-18T21:25:48.753833Z",
     "iopub.status.busy": "2024-04-18T21:25:48.753263Z",
     "iopub.status.idle": "2024-04-18T21:25:51.708729Z",
     "shell.execute_reply": "2024-04-18T21:25:51.707214Z"
    },
    "tags": []
   },
   "outputs": [
    {
     "name": "stdout",
     "output_type": "stream",
     "text": [
      "Welcome to JupyROOT 6.26/06\n"
     ]
    },
    {
     "data": {
      "text/markdown": [
       "via sPHENIX software distribution at `/var/lib/jenkins/workspace/sPHENIX/Build-Master-gcc12@3/build/new/install.1`"
      ],
      "text/plain": [
       "<IPython.core.display.Markdown object>"
      ]
     },
     "metadata": {},
     "output_type": "display_data"
    }
   ],
   "source": [
    "import ROOT\n",
    "\n",
    "OFFLINE_MAIN = os.getenv(\"OFFLINE_MAIN\")\n",
    "if OFFLINE_MAIN is not None:\n",
    "    display(Markdown(f\"via sPHENIX software distribution at `{OFFLINE_MAIN}`\"))"
   ]
  },
  {
   "cell_type": "markdown",
   "metadata": {},
   "source": [
    "## Plotting source code"
   ]
  },
  {
   "cell_type": "code",
   "execution_count": 5,
   "metadata": {
    "execution": {
     "iopub.execute_input": "2024-04-18T21:25:51.715970Z",
     "iopub.status.busy": "2024-04-18T21:25:51.715435Z",
     "iopub.status.idle": "2024-04-18T21:25:51.844520Z",
     "shell.execute_reply": "2024-04-18T21:25:51.842901Z"
    }
   },
   "outputs": [
    {
     "data": {
      "text/markdown": [
       "View the source code repository at https://github.com/sPHENIX-Collaboration/QA-gallery.git"
      ],
      "text/plain": [
       "<IPython.core.display.Markdown object>"
      ]
     },
     "metadata": {},
     "output_type": "display_data"
    }
   ],
   "source": [
    "import subprocess\n",
    "\n",
    "try:\n",
    "    git_url = \\\n",
    "        subprocess.run(['git','remote','get-url','origin'], stdout=subprocess.PIPE)\\\n",
    "        .stdout.decode('utf-8').strip()\\\n",
    "        .replace('git@github.com:','https://github.com/')\n",
    "\n",
    "    display(Markdown(f\"View the source code repository at {git_url}\"))\n",
    "except: # catch *all* exceptions\n",
    "    #     well do nothing\n",
    "    pass"
   ]
  },
  {
   "cell_type": "raw",
   "metadata": {},
   "source": [
    "## JenkinsCI information (if available)"
   ]
  },
  {
   "cell_type": "code",
   "execution_count": 6,
   "metadata": {
    "execution": {
     "iopub.execute_input": "2024-04-18T21:25:51.852125Z",
     "iopub.status.busy": "2024-04-18T21:25:51.851417Z",
     "iopub.status.idle": "2024-04-18T21:25:51.983268Z",
     "shell.execute_reply": "2024-04-18T21:25:51.981725Z"
    }
   },
   "outputs": [
    {
     "data": {
      "text/markdown": [
       "Some further details about the QA run, if executed under the Jenkins CI:"
      ],
      "text/plain": [
       "<IPython.core.display.Markdown object>"
      ]
     },
     "metadata": {},
     "output_type": "display_data"
    },
    {
     "data": {
      "text/markdown": [
       "* The commit being checked is sPHENIX-Collaboration/coresoftware/3bf06b82b178aad125bf44aeef058539614a9310"
      ],
      "text/plain": [
       "<IPython.core.display.Markdown object>"
      ]
     },
     "metadata": {},
     "output_type": "display_data"
    },
    {
     "data": {
      "text/markdown": [
       "* Link to the pull request: https://github.com/sPHENIX-Collaboration/coresoftware/pull/2632"
      ],
      "text/plain": [
       "<IPython.core.display.Markdown object>"
      ]
     },
     "metadata": {},
     "output_type": "display_data"
    },
    {
     "data": {
      "text/markdown": [
       "* Link to the build: https://web.sdcc.bnl.gov/jenkins-sphenix/job/sPHENIX/job/test-tracking-distortions-qa/1472/"
      ],
      "text/plain": [
       "<IPython.core.display.Markdown object>"
      ]
     },
     "metadata": {},
     "output_type": "display_data"
    },
    {
     "data": {
      "text/markdown": [
       "* Git repo for macros: https://github.com/sPHENIX-Collaboration/macros.git , which merges `master` and the QA tracking branch"
      ],
      "text/plain": [
       "<IPython.core.display.Markdown object>"
      ]
     },
     "metadata": {},
     "output_type": "display_data"
    },
    {
     "data": {
      "text/markdown": [
       "* Download the QA ROOT files: https://web.sdcc.bnl.gov/jenkins-sphenix/job/sPHENIX/job/test-tracking-distortions-qa/1472/display/redirect?page=artifacts"
      ],
      "text/plain": [
       "<IPython.core.display.Markdown object>"
      ]
     },
     "metadata": {},
     "output_type": "display_data"
    },
    {
     "data": {
      "text/markdown": [
       "Automatically generated by [sPHENIX Jenkins continuous integration](https://web.sdcc.bnl.gov/jenkins-sphenix/) [![sPHENIX](https://raw.githubusercontent.com/sPHENIX-Collaboration/utilities/master/jenkins/material/sphenix-logo-white-bg-72p.png)](https://www.sphenix.bnl.gov/web/) &nbsp; &nbsp; &nbsp; &nbsp; &nbsp; &nbsp; [![jenkins.io](https://raw.githubusercontent.com/sPHENIX-Collaboration/utilities/master/jenkins/material/jenkins_logo_title-72p.png)](https://jenkins.io/)"
      ],
      "text/plain": [
       "<IPython.core.display.Markdown object>"
      ]
     },
     "metadata": {},
     "output_type": "display_data"
    }
   ],
   "source": [
    "display(Markdown('Some further details about the QA run, if executed under the Jenkins CI:'))\n",
    "\n",
    "checkrun_repo_commit = os.getenv(\"checkrun_repo_commit\")\n",
    "if checkrun_repo_commit is not None:\n",
    "    display(Markdown(f\"* The commit being checked is {checkrun_repo_commit}\"))\n",
    "        \n",
    "ghprbPullLink = os.getenv(\"ghprbPullLink\")\n",
    "if ghprbPullLink is not None:\n",
    "    display(Markdown(f\"* Link to the pull request: {ghprbPullLink}\"))\n",
    "\n",
    "BUILD_URL =  os.getenv(\"BUILD_URL\")\n",
    "if BUILD_URL is not None:\n",
    "    display(Markdown(f\"* Link to the build: {BUILD_URL}\"))\n",
    "\n",
    "git_url_macros =  os.getenv(\"git_url_macros\")\n",
    "sha_macros =  os.getenv(\"sha_macros\")\n",
    "if git_url_macros is not None:\n",
    "    display(Markdown(f\"* Git repo for macros: {git_url_macros} , which merges `{sha_macros}` and the QA tracking branch\"))\n",
    "\n",
    "RUN_ARTIFACTS_DISPLAY_URL = os.getenv(\"RUN_ARTIFACTS_DISPLAY_URL\")\n",
    "if RUN_ARTIFACTS_DISPLAY_URL is not None:\n",
    "    display(Markdown(f\"* Download the QA ROOT files: {RUN_ARTIFACTS_DISPLAY_URL}\"))\n",
    "\n",
    "JENKINS_URL  = os.getenv(\"JENKINS_URL\")\n",
    "if JENKINS_URL is not None:\n",
    "    display(Markdown(f\"Automatically generated by [sPHENIX Jenkins continuous integration]({JENKINS_URL}) [![sPHENIX](https://raw.githubusercontent.com/sPHENIX-Collaboration/utilities/master/jenkins/material/sphenix-logo-white-bg-72p.png)](https://www.sphenix.bnl.gov/web/) &nbsp; &nbsp; &nbsp; &nbsp; &nbsp; &nbsp; [![jenkins.io](https://raw.githubusercontent.com/sPHENIX-Collaboration/utilities/master/jenkins/material/jenkins_logo_title-72p.png)](https://jenkins.io/)\"))"
   ]
  },
  {
   "cell_type": "markdown",
   "metadata": {},
   "source": [
    "\n",
    "# Initialization"
   ]
  },
  {
   "cell_type": "code",
   "execution_count": 7,
   "metadata": {
    "execution": {
     "iopub.execute_input": "2024-04-18T21:25:51.990536Z",
     "iopub.status.busy": "2024-04-18T21:25:51.989828Z",
     "iopub.status.idle": "2024-04-18T21:25:52.728623Z",
     "shell.execute_reply": "2024-04-18T21:25:52.727067Z"
    },
    "scrolled": true,
    "tags": []
   },
   "outputs": [],
   "source": [
    "%%cpp -d\n",
    "\n",
    "#include \"QA_Draw_Utility.C\"\n",
    "\n",
    "#include <sPhenixStyle.C>\n",
    "\n",
    "#include <TFile.h>\n",
    "#include <TLine.h>\n",
    "#include <TString.h>\n",
    "#include <TTree.h>\n",
    "#include <cassert>\n",
    "#include <cmath>"
   ]
  },
  {
   "cell_type": "code",
   "execution_count": 8,
   "metadata": {
    "execution": {
     "iopub.execute_input": "2024-04-18T21:25:52.735873Z",
     "iopub.status.busy": "2024-04-18T21:25:52.735168Z",
     "iopub.status.idle": "2024-04-18T21:25:53.164966Z",
     "shell.execute_reply": "2024-04-18T21:25:53.163580Z"
    }
   },
   "outputs": [
    {
     "name": "stdout",
     "output_type": "stream",
     "text": [
      "sPhenixStyle: Applying nominal settings.\n",
      "sPhenixStyle: ROOT6 mode\n"
     ]
    }
   ],
   "source": [
    "%%cpp\n",
    "\n",
    "SetsPhenixStyle();\n",
    "TVirtualFitter::SetDefaultFitter(\"Minuit2\");"
   ]
  },
  {
   "cell_type": "code",
   "execution_count": 9,
   "metadata": {
    "execution": {
     "iopub.execute_input": "2024-04-18T21:25:53.171558Z",
     "iopub.status.busy": "2024-04-18T21:25:53.170839Z",
     "iopub.status.idle": "2024-04-18T21:25:53.331857Z",
     "shell.execute_reply": "2024-04-18T21:25:53.330396Z"
    }
   },
   "outputs": [],
   "source": [
    "%jsroot on"
   ]
  },
  {
   "cell_type": "markdown",
   "metadata": {},
   "source": [
    "## Inputs and file checks"
   ]
  },
  {
   "cell_type": "code",
   "execution_count": 10,
   "metadata": {
    "execution": {
     "iopub.execute_input": "2024-04-18T21:25:53.339605Z",
     "iopub.status.busy": "2024-04-18T21:25:53.338891Z",
     "iopub.status.idle": "2024-04-18T21:25:53.450027Z",
     "shell.execute_reply": "2024-04-18T21:25:53.448661Z"
    }
   },
   "outputs": [],
   "source": [
    "\n",
    "qa_file_name_new = os.getenv(\"qa_file_name_new\")\n",
    "if qa_file_name_new is None:\n",
    "    qa_file_name_new = \"G4sPHENIX_test-tracking_Event500_Sum5_qa.root\"\n",
    "    display(Markdown(f\"`qa_file_name_new` env not set. use the default `qa_file_name_new={qa_file_name_new}`\"))\n",
    "\n",
    "qa_file_name_ref = os.getenv(\"qa_file_name_ref\")\n",
    "if qa_file_name_ref is None:\n",
    "    qa_file_name_ref = qa_file_name_new\n",
    "    display(Markdown(f\"`qa_file_name_ref` env not set. use the default same as new file `qa_file_name_ref={qa_file_name_ref}`\"))\n",
    "elif qa_file_name_ref == 'None':\n",
    "    qa_file_name_ref = qa_file_name_new\n",
    "    display(Markdown(f\"`qa_file_name_ref` env not set. use the default same as new file `qa_file_name_ref={qa_file_name_ref}`\"))\n",
    "    \n"
   ]
  },
  {
   "cell_type": "code",
   "execution_count": 11,
   "metadata": {
    "execution": {
     "iopub.execute_input": "2024-04-18T21:25:53.457524Z",
     "iopub.status.busy": "2024-04-18T21:25:53.456821Z",
     "iopub.status.idle": "2024-04-18T21:25:53.669831Z",
     "shell.execute_reply": "2024-04-18T21:25:53.668194Z"
    }
   },
   "outputs": [
    {
     "data": {
      "text/markdown": [
       "Opening QA file at `G4sPHENIX_test-tracking_Event700_Sum3_qa.root`"
      ],
      "text/plain": [
       "<IPython.core.display.Markdown object>"
      ]
     },
     "metadata": {},
     "output_type": "display_data"
    },
    {
     "data": {
      "text/markdown": [
       "Opening QA reference file at `reference/G4sPHENIX_test-tracking_Event700_Sum3_qa.root`"
      ],
      "text/plain": [
       "<IPython.core.display.Markdown object>"
      ]
     },
     "metadata": {},
     "output_type": "display_data"
    }
   ],
   "source": [
    "# qa_file_new = ROOT.TFile.Open(qa_file_name_new);\n",
    "\n",
    "# assert qa_file_new.IsOpen()\n",
    "# qa_file_new.ls()\n",
    "display(Markdown(f\"Opening QA file at `{qa_file_name_new}`\"))\n",
    "ROOT.gInterpreter.ProcessLine(f\"TFile *qa_file_new = new TFile(\\\"{qa_file_name_new}\\\");\")\n",
    "ROOT.gInterpreter.ProcessLine(f\"const char * qa_file_name_new = \\\"{qa_file_name_new}\\\";\")\n",
    "\n",
    "if qa_file_name_ref is not None:\n",
    "#     qa_file_ref = ROOT.TFile.Open(qa_file_name_ref);\n",
    "\n",
    "#     assert qa_file_ref.IsOpen()\n",
    "    display(Markdown(f\"Opening QA reference file at `{qa_file_name_ref}`\"))\n",
    "    ROOT.gInterpreter.ProcessLine(f\"TFile *qa_file_ref = new TFile(\\\"{qa_file_name_ref}\\\");\")\n",
    "    ROOT.gInterpreter.ProcessLine(f\"const char *  qa_file_name_ref = \\\"{qa_file_name_ref}\\\";\")\n",
    "else:\n",
    "    ROOT.gInterpreter.ProcessLine(f\"TFile *qa_file_ref = nullptr;\")\n",
    "    ROOT.gInterpreter.ProcessLine(f\"const char *  qa_file_name_ref = nullptr;\")\n"
   ]
  },
  {
   "cell_type": "code",
   "execution_count": 12,
   "metadata": {
    "execution": {
     "iopub.execute_input": "2024-04-18T21:25:53.677094Z",
     "iopub.status.busy": "2024-04-18T21:25:53.676432Z",
     "iopub.status.idle": "2024-04-18T21:25:53.816459Z",
     "shell.execute_reply": "2024-04-18T21:25:53.814985Z"
    },
    "scrolled": true,
    "tags": []
   },
   "outputs": [],
   "source": [
    "%%cpp\n",
    "\n",
    "if (qa_file_new == nullptr) \n",
    "{\n",
    "    cout <<\"Error, can not open QA root file\"<<qa_file_name_new<<endl;\n",
    "    exit(1);\n",
    "}\n",
    "\n",
    "if (qa_file_ref == nullptr) \n",
    "{\n",
    "    cout <<\"Error, can not open ref QA root file\"<<qa_file_name_ref<<endl;\n",
    "    exit(1);\n",
    "}\n",
    "\n",
    "if (not qa_file_new->IsOpen()) \n",
    "{\n",
    "    cout <<\"Error, can not open QA root file\"<<qa_file_name_new<<endl;\n",
    "    exit(1);\n",
    "}\n",
    "\n",
    "if (not qa_file_ref->IsOpen()) \n",
    "{\n",
    "    cout <<\"Error, can not open ref QA root file\"<<qa_file_name_ref<<endl;\n",
    "    exit(1);\n",
    "}"
   ]
  },
  {
   "cell_type": "markdown",
   "metadata": {
    "tags": []
   },
   "source": [
    "# Delta Rphi residuals (track - cluster) vs layer number"
   ]
  },
  {
   "cell_type": "code",
   "execution_count": 13,
   "metadata": {
    "execution": {
     "iopub.execute_input": "2024-04-18T21:25:53.823339Z",
     "iopub.status.busy": "2024-04-18T21:25:53.822662Z",
     "iopub.status.idle": "2024-04-18T21:25:54.499237Z",
     "shell.execute_reply": "2024-04-18T21:25:54.498539Z"
    },
    "tags": []
   },
   "outputs": [
    {
     "name": "stderr",
     "output_type": "stream",
     "text": [
      "Warning in <TFile::Append>: Replacing existing TH1: h_QAG4SimulationDistortions_deltarphi_layer_FitResolution (Potential memory leak).\n",
      "Warning in <TFile::Append>: Replacing existing TH1: h_QAG4SimulationDistortions_deltarphi_layer_FitResolution (Potential memory leak).\n",
      "Warning in <TFile::Append>: Replacing existing TH1: h_QAG4SimulationDistortions_deltarphi_layer_FitResolution (Potential memory leak).\n"
     ]
    },
    {
     "data": {
      "text/html": [
       "\n",
       "\n",
       "<div id=\"root_plot_1713475554479\"\n",
       "     style=\"width: 1196px; height: 472px\">\n",
       "</div>\n",
       "<script>\n",
       "\n",
       "function display_root_plot_1713475554479(Core) {\n",
       "   let obj = Core.parse({\"_typename\":\"TCanvas\",\"fUniqueID\":0,\"fBits\":3342344,\"fLineColor\":1,\"fLineStyle\":1,\"fLineWidth\":1,\"fFillColor\":0,\"fFillStyle\":1001,\"fLeftMargin\":0.16,\"fRightMargin\":0.05,\"fBottomMargin\":0.16,\"fTopMargin\":0.05,\"fXfile\":2,\"fYfile\":2,\"fAfile\":1,\"fXstat\":0.99,\"fYstat\":0.99,\"fAstat\":2,\"fFrameFillColor\":0,\"fFrameLineColor\":1,\"fFrameFillStyle\":1001,\"fFrameLineStyle\":1,\"fFrameLineWidth\":1,\"fFrameBorderSize\":1,\"fFrameBorderMode\":0,\"fX1\":0,\"fY1\":0,\"fX2\":1,\"fY2\":1,\"fXtoAbsPixelk\":5e-5,\"fXtoPixelk\":5e-5,\"fXtoPixel\":1196,\"fYtoAbsPixelk\":472.00005,\"fYtoPixelk\":472.00005,\"fYtoPixel\":-472,\"fUtoAbsPixelk\":5e-5,\"fUtoPixelk\":5e-5,\"fUtoPixel\":1196,\"fVtoAbsPixelk\":472.00005,\"fVtoPixelk\":472,\"fVtoPixel\":-472,\"fAbsPixeltoXk\":0,\"fPixeltoXk\":0,\"fPixeltoX\":8.36120401337793e-4,\"fAbsPixeltoYk\":1,\"fPixeltoYk\":0,\"fPixeltoY\":-0.00211864406779661,\"fXlowNDC\":0,\"fYlowNDC\":0,\"fXUpNDC\":1,\"fYUpNDC\":1,\"fWNDC\":1,\"fHNDC\":1,\"fAbsXlowNDC\":0,\"fAbsYlowNDC\":0,\"fAbsWNDC\":1,\"fAbsHNDC\":1,\"fUxmin\":0,\"fUymin\":0,\"fUxmax\":1,\"fUymax\":1,\"fTheta\":30,\"fPhi\":30,\"fAspectRatio\":0,\"fNumber\":0,\"fTickx\":1,\"fTicky\":1,\"fLogx\":0,\"fLogy\":0,\"fLogz\":0,\"fPadPaint\":0,\"fCrosshair\":0,\"fCrosshairPos\":0,\"fBorderSize\":2,\"fBorderMode\":0,\"fModified\":false,\"fGridx\":false,\"fGridy\":false,\"fAbsCoord\":false,\"fEditable\":true,\"fFixedAspectRatio\":false,\"fPrimitives\":{\"_typename\":\"TList\",\"name\":\"TList\",\"arr\":[{\"_typename\":\"TPad\",\"fUniqueID\":0,\"fBits\":9,\"fLineColor\":1,\"fLineStyle\":1,\"fLineWidth\":1,\"fFillColor\":0,\"fFillStyle\":1001,\"fLeftMargin\":0.16,\"fRightMargin\":0.05,\"fBottomMargin\":0.16,\"fTopMargin\":0.14,\"fXfile\":2,\"fYfile\":2,\"fAfile\":1,\"fXstat\":0.99,\"fYstat\":0.99,\"fAstat\":2,\"fFrameFillColor\":0,\"fFrameLineColor\":1,\"fFrameFillStyle\":1001,\"fFrameLineStyle\":1,\"fFrameLineWidth\":1,\"fFrameBorderSize\":1,\"fFrameBorderMode\":0,\"fX1\":-11.5443032258712,\"fY1\":-145.714281578453,\"fX2\":60.6075948924781,\"fY2\":139.999997445515,\"fXtoAbsPixelk\":103.812846054256,\"fXtoPixelk\":91.8528463215829,\"fXtoPixel\":7.95654744374156,\"fYtoAbsPixelk\":231.374451169646,\"fYtoPixelk\":226.654451275146,\"fYtoPixel\":-1.61896003864825,\"fUtoAbsPixelk\":11.9600497326732,\"fUtoPixelk\":5e-5,\"fUtoPixel\":574.080000534654,\"fVtoAbsPixelk\":467.2800501055,\"fVtoPixelk\":462.560000211,\"fVtoPixel\":-462.560000211,\"fAbsPixeltoXk\":-13.0474677350052,\"fPixeltoXk\":-11.5443032258712,\"fPixeltoX\":0.125682654074611,\"fAbsPixeltoYk\":142.915449205795,\"fPixeltoYk\":-145.714281578453,\"fPixeltoY\":-0.617680471492645,\"fXlowNDC\":0.00999999977648258,\"fYlowNDC\":0.00999999977648258,\"fXUpNDC\":0.490000000223517,\"fYUpNDC\":0.990000000223517,\"fWNDC\":0.480000000447035,\"fHNDC\":0.980000000447035,\"fAbsXlowNDC\":0.00999999977648258,\"fAbsYlowNDC\":0.00999999977648258,\"fAbsWNDC\":0.480000000447035,\"fAbsHNDC\":0.980000000447035,\"fUxmin\":0,\"fUymin\":-100,\"fUxmax\":57,\"fUymax\":100,\"fTheta\":30,\"fPhi\":30,\"fAspectRatio\":0,\"fNumber\":1,\"fTickx\":1,\"fTicky\":1,\"fLogx\":0,\"fLogy\":0,\"fLogz\":0,\"fPadPaint\":0,\"fCrosshair\":0,\"fCrosshairPos\":0,\"fBorderSize\":2,\"fBorderMode\":0,\"fModified\":false,\"fGridx\":false,\"fGridy\":false,\"fAbsCoord\":false,\"fEditable\":true,\"fFixedAspectRatio\":false,\"fPrimitives\":{\"_typename\":\"TList\",\"name\":\"TList\",\"arr\":[{\"_typename\":\"TFrame\",\"fUniqueID\":0,\"fBits\":8,\"fLineColor\":1,\"fLineStyle\":1,\"fLineWidth\":1,\"fFillColor\":0,\"fFillStyle\":1001,\"fX1\":0,\"fY1\":-100,\"fX2\":57,\"fY2\":100,\"fBorderSize\":1,\"fBorderMode\":0},{\"_typename\":\"TH1F\",\"fUniqueID\":0,\"fBits\":520,\"fName\":\"h_QAG4SimulationDistortions_deltarphi_layer_FitResolution\",\"fTitle\":\"\",\"fLineColor\":603,\"fLineStyle\":1,\"fLineWidth\":2,\"fFillColor\":0,\"fFillStyle\":1001,\"fMarkerColor\":603,\"fMarkerStyle\":20,\"fMarkerSize\":1.2,\"fNcells\":59,\"fXaxis\":{\"_typename\":\"TAxis\",\"fUniqueID\":0,\"fBits\":0,\"fName\":\"xaxis\",\"fTitle\":\"layer\",\"fNdivisions\":510,\"fAxisColor\":1,\"fLabelColor\":1,\"fLabelFont\":42,\"fLabelOffset\":0.005,\"fLabelSize\":0.05,\"fTickLength\":0.03,\"fTitleOffset\":1.4,\"fTitleSize\":0.05,\"fTitleColor\":1,\"fTitleFont\":42,\"fNbins\":57,\"fXmin\":0,\"fXmax\":57,\"fXbins\":[],\"fFirst\":0,\"fLast\":0,\"fBits2\":0,\"fTimeDisplay\":false,\"fTimeFormat\":\"\",\"fLabels\":null,\"fModLabs\":null},\"fYaxis\":{\"_typename\":\"TAxis\",\"fUniqueID\":0,\"fBits\":0,\"fName\":\"yaxis\",\"fTitle\":\"#LT#Delta r#phi#GT (#mum)\",\"fNdivisions\":510,\"fAxisColor\":1,\"fLabelColor\":1,\"fLabelFont\":42,\"fLabelOffset\":0.005,\"fLabelSize\":0.05,\"fTickLength\":0.03,\"fTitleOffset\":1.4,\"fTitleSize\":0.05,\"fTitleColor\":1,\"fTitleFont\":42,\"fNbins\":1,\"fXmin\":0,\"fXmax\":1,\"fXbins\":[],\"fFirst\":0,\"fLast\":0,\"fBits2\":0,\"fTimeDisplay\":false,\"fTimeFormat\":\"\",\"fLabels\":null,\"fModLabs\":null},\"fZaxis\":{\"_typename\":\"TAxis\",\"fUniqueID\":0,\"fBits\":0,\"fName\":\"zaxis\",\"fTitle\":\"\",\"fNdivisions\":510,\"fAxisColor\":1,\"fLabelColor\":1,\"fLabelFont\":42,\"fLabelOffset\":0.005,\"fLabelSize\":0.05,\"fTickLength\":0.03,\"fTitleOffset\":1,\"fTitleSize\":0.05,\"fTitleColor\":1,\"fTitleFont\":42,\"fNbins\":1,\"fXmin\":0,\"fXmax\":1,\"fXbins\":[],\"fFirst\":0,\"fLast\":0,\"fBits2\":0,\"fTimeDisplay\":false,\"fTimeFormat\":\"\",\"fLabels\":null,\"fModLabs\":null},\"fBarOffset\":0,\"fBarWidth\":1000,\"fEntries\":48,\"fTsumw\":-16192706.8662643,\"fTsumw2\":6495397822277.23,\"fTsumwx\":-591729161.236286,\"fTsumwx2\":-23557471880.5778,\"fMaximum\":100,\"fMinimum\":-100,\"fNormFactor\":0,\"fContour\":[],\"fSumw2\":{\"$arr\":\"Float64\",\"len\":59,\"p\":8,\"v\":[1477.65909133059,970.288198552651,1113.90283908224,852.179796596487,919.843223910299,1196.31356424254,1198.96766531208,1313.46093040813,1153.9452603429,1321.53298153002,1229.62462784011,1405.53320962749,1385.35413437517,1359.56058649445,1392.98730640248,1654.51533309616,2342.26380316512,1564.57594809693,1393.01837293002,1825.55226561666,1709.35033139932,1559.39753993475,1488.40295186078,1401.25076165403,1540.48881848728,1282.03950592456,1688.68899074188,1795.95092019905,1664.36669854107,1503.4107647906,2172.73316856233,1485.1657136033,2648.34387071179,1981.83009950917,1414.37152588663,1174.27202710916,1653.42232078035,1166.14053621169,1120.990595232,1020.5732763978,855.180610293604,1031.54271867917,738.946410979395,982.071401330036,790.501448341692,742.547325258331,605.268642049154,665.650109350812]},\"fOption\":\"\",\"fFunctions\":{\"_typename\":\"TList\",\"name\":\"TList\",\"arr\":[],\"opt\":[]},\"fBufferSize\":0,\"fBuffer\":[],\"fBinStatErrOpt\":0,\"fStatOverflows\":2,\"fArray\":{\"$arr\":\"Float32\",\"len\":59,\"p\":8,\"v\":[-14.41593,-7.814967,-48.11678,26.47765,5.744197,11.21854,-9.654731,19.81394,7.861313,-11.83893,-9.129317,-13.67149,-21.59175,19.4417,-54.95059,-53.2881,-49.78424,-44.31939,-105.7458,-42.09121,10.85063,-33.0497,-56.11472,-96.69954,-95.47386,-55.08475,-34.28635,-67.11916,-60.63117,-41.89413,23.0541,-38.75679,17.30038,-29.82728,-42.25167,-14.04269,-55.813,-101.4387,-16.34975,-76.67798,-35.42421,-22.56528,-75.01687,-82.20542,-24.76733,-35.19575,-59.21039,-24.72344]}},{\"_typename\":\"TH1F\",\"fUniqueID\":0,\"fBits\":520,\"fName\":\"h_QAG4SimulationDistortions_deltarphi_layer_FitResolution\",\"fTitle\":\"\",\"fLineColor\":417,\"fLineStyle\":0,\"fLineWidth\":0,\"fFillColor\":417,\"fFillStyle\":1001,\"fMarkerColor\":417,\"fMarkerStyle\":1,\"fMarkerSize\":0,\"fNcells\":59,\"fXaxis\":{\"_typename\":\"TAxis\",\"fUniqueID\":0,\"fBits\":0,\"fName\":\"xaxis\",\"fTitle\":\"\",\"fNdivisions\":510,\"fAxisColor\":1,\"fLabelColor\":1,\"fLabelFont\":42,\"fLabelOffset\":0.005,\"fLabelSize\":0.05,\"fTickLength\":0.03,\"fTitleOffset\":1.4,\"fTitleSize\":0.05,\"fTitleColor\":1,\"fTitleFont\":42,\"fNbins\":57,\"fXmin\":0,\"fXmax\":57,\"fXbins\":[],\"fFirst\":0,\"fLast\":0,\"fBits2\":0,\"fTimeDisplay\":false,\"fTimeFormat\":\"\",\"fLabels\":null,\"fModLabs\":null},\"fYaxis\":{\"_typename\":\"TAxis\",\"fUniqueID\":0,\"fBits\":0,\"fName\":\"yaxis\",\"fTitle\":\"\",\"fNdivisions\":510,\"fAxisColor\":1,\"fLabelColor\":1,\"fLabelFont\":42,\"fLabelOffset\":0.005,\"fLabelSize\":0.05,\"fTickLength\":0.03,\"fTitleOffset\":1.4,\"fTitleSize\":0.05,\"fTitleColor\":1,\"fTitleFont\":42,\"fNbins\":1,\"fXmin\":0,\"fXmax\":1,\"fXbins\":[],\"fFirst\":0,\"fLast\":0,\"fBits2\":0,\"fTimeDisplay\":false,\"fTimeFormat\":\"\",\"fLabels\":null,\"fModLabs\":null},\"fZaxis\":{\"_typename\":\"TAxis\",\"fUniqueID\":0,\"fBits\":0,\"fName\":\"zaxis\",\"fTitle\":\"\",\"fNdivisions\":510,\"fAxisColor\":1,\"fLabelColor\":1,\"fLabelFont\":42,\"fLabelOffset\":0.005,\"fLabelSize\":0.05,\"fTickLength\":0.03,\"fTitleOffset\":1,\"fTitleSize\":0.05,\"fTitleColor\":1,\"fTitleFont\":42,\"fNbins\":1,\"fXmin\":0,\"fXmax\":1,\"fXbins\":[],\"fFirst\":0,\"fLast\":0,\"fBits2\":0,\"fTimeDisplay\":false,\"fTimeFormat\":\"\",\"fLabels\":null,\"fModLabs\":null},\"fBarOffset\":0,\"fBarWidth\":1000,\"fEntries\":48,\"fTsumw\":-15707264.2254829,\"fTsumw2\":6653618556450.1,\"fTsumwx\":-566052979.346514,\"fTsumwx2\":-22311314788.0393,\"fMaximum\":-1111,\"fMinimum\":-1111,\"fNormFactor\":0,\"fContour\":[],\"fSumw2\":{\"$arr\":\"Float64\",\"len\":59,\"p\":8,\"v\":[1485.56754311383,976.350604791277,1127.20029852978,853.107098625401,961.084889764399,1132.81138868742,1193.71723575869,1304.24531239751,1153.66540404331,1320.99633498527,1229.49076680295,1396.10326494062,1391.15332040644,1368.51211704993,1421.02601463138,1574.09350657864,2410.97719065721,1600.00589948038,1404.8322316197,1905.9383485886,1815.85173195251,1609.46650783333,1538.11570262341,1399.10640012287,1601.09656864682,1257.30878560361,1681.27132679143,1830.30827248053,1616.52810979608,1558.38631127575,2189.48646379485,1679.77143903895,3434.41336881168,2230.0467145691,1415.717220409,1181.35443259316,1676.57553722482,1152.40213008921,1160.92713454454,1045.64836658508,873.218511377169,951.136761252395,719.832436491474,931.512263271742,809.470585428333,736.930297442672,610.984819054518,618.438593943285]},\"fOption\":\"\",\"fFunctions\":{\"_typename\":\"TList\",\"name\":\"TList\",\"arr\":[],\"opt\":[]},\"fBufferSize\":0,\"fBuffer\":[],\"fBinStatErrOpt\":0,\"fStatOverflows\":2,\"fArray\":{\"$arr\":\"Float32\",\"len\":59,\"p\":8,\"v\":[-14.28906,-7.234633,-47.85152,25.47826,10.5019,0.8975885,-10.54293,18.74362,7.783734,-11.90448,-9.14341,-14.38914,-22.61727,17.76427,-47.22188,-52.11224,-67.00277,-51.65411,-106.1377,-43.03058,9.052576,-27.1255,-53.27355,-89.7711,-88.08331,-55.07602,-17.61951,-71.09292,-51.67507,-39.02512,39.95528,-57.22324,-8.215688,-32.92385,-40.82112,8.315166,-51.99984,-105.3762,-20.99688,-73.54324,-30.66482,-9.394691,-70.2636,-75.21124,-27.4395,-32.18135,-55.93237,-19.15748]}},{\"$ref\":5},{\"_typename\":\"TLegend\",\"fUniqueID\":0,\"fBits\":8,\"fLineColor\":1,\"fLineStyle\":1,\"fLineWidth\":1,\"fFillColor\":0,\"fFillStyle\":1001,\"fX1\":-11.5443032258712,\"fY1\":119.999997913838,\"fX2\":-11.5443032258712,\"fY2\":139.999997445515,\"fX1NDC\":0,\"fY1NDC\":0.93,\"fX2NDC\":0,\"fY2NDC\":1,\"fBorderSize\":0,\"fInit\":1,\"fShadowColor\":1,\"fCornerRadius\":0,\"fOption\":\"NB NDC\",\"fName\":\"TPave\",\"fTextAngle\":0,\"fTextSize\":0,\"fTextAlign\":12,\"fTextColor\":1,\"fTextFont\":42,\"fPrimitives\":{\"_typename\":\"TList\",\"name\":\"TList\",\"arr\":[],\"opt\":[]},\"fEntrySeparation\":0.1,\"fMargin\":0.25,\"fNColumns\":1,\"fColumnSeparation\":0},{\"_typename\":\"TLegend\",\"fUniqueID\":0,\"fBits\":8,\"fLineColor\":1,\"fLineStyle\":1,\"fLineWidth\":1,\"fFillColor\":0,\"fFillStyle\":1001,\"fX1\":-11.5443032258712,\"fY1\":99.9999983821597,\"fX2\":10.1012662096336,\"fY2\":119.999997913838,\"fX1NDC\":0,\"fY1NDC\":0.86,\"fX2NDC\":0.3,\"fY2NDC\":0.93,\"fBorderSize\":0,\"fInit\":1,\"fShadowColor\":1,\"fCornerRadius\":0,\"fOption\":\"NB NDC\",\"fName\":\"TPave\",\"fTextAngle\":0,\"fTextSize\":0,\"fTextAlign\":12,\"fTextColor\":1,\"fTextFont\":42,\"fPrimitives\":{\"_typename\":\"TList\",\"name\":\"TList\",\"arr\":[{\"_typename\":\"TLegendEntry\",\"fUniqueID\":0,\"fBits\":0,\"fTextAngle\":0,\"fTextSize\":0,\"fTextAlign\":0,\"fTextColor\":0,\"fTextFont\":42,\"fLineColor\":417,\"fLineStyle\":0,\"fLineWidth\":0,\"fFillColor\":417,\"fFillStyle\":1001,\"fMarkerColor\":1,\"fMarkerStyle\":21,\"fMarkerSize\":1,\"fObject\":{\"$ref\":10},\"fLabel\":\"Reference\",\"fOption\":\"f\"}],\"opt\":[\"f\"]},\"fEntrySeparation\":0.1,\"fMargin\":0.25,\"fNColumns\":1,\"fColumnSeparation\":0},{\"_typename\":\"TLegend\",\"fUniqueID\":0,\"fBits\":8,\"fLineColor\":1,\"fLineStyle\":1,\"fLineWidth\":1,\"fFillColor\":0,\"fFillStyle\":1001,\"fX1\":10.1012662096336,\"fY1\":99.9999983821597,\"fX2\":60.6075948924781,\"fY2\":119.999997913838,\"fX1NDC\":0.3,\"fY1NDC\":0.86,\"fX2NDC\":1,\"fY2NDC\":0.93,\"fBorderSize\":0,\"fInit\":1,\"fShadowColor\":1,\"fCornerRadius\":0,\"fOption\":\"NB NDC\",\"fName\":\"TPave\",\"fTextAngle\":0,\"fTextSize\":0,\"fTextAlign\":12,\"fTextColor\":1,\"fTextFont\":42,\"fPrimitives\":{\"_typename\":\"TList\",\"name\":\"TList\",\"arr\":[{\"_typename\":\"TLegendEntry\",\"fUniqueID\":0,\"fBits\":0,\"fTextAngle\":0,\"fTextSize\":0,\"fTextAlign\":0,\"fTextColor\":601,\"fTextFont\":42,\"fLineColor\":603,\"fLineStyle\":1,\"fLineWidth\":2,\"fFillColor\":0,\"fFillStyle\":0,\"fMarkerColor\":603,\"fMarkerStyle\":20,\"fMarkerSize\":1.2,\"fObject\":{\"$ref\":5},\"fLabel\":\"New: KS-Test P=1.000\",\"fOption\":\"lpe\"}],\"opt\":[\"lpe\"]},\"fEntrySeparation\":0.1,\"fMargin\":0.25,\"fNColumns\":1,\"fColumnSeparation\":0},{\"_typename\":\"TLine\",\"fUniqueID\":0,\"fBits\":8,\"fLineColor\":1,\"fLineStyle\":2,\"fLineWidth\":1,\"fX1\":0,\"fY1\":0,\"fX2\":57,\"fY2\":0}],\"opt\":[\"\",\"\",\"HIST same\",\"same\",\"\",\"\",\"\",\"\"]},\"fExecs\":{\"_typename\":\"TList\",\"name\":\"TList\",\"arr\":[],\"opt\":[]},\"fName\":\"QA_Draw_rphi_residuals_QAG4SimulationDistortions_1\",\"fTitle\":\"QA_Draw_rphi_residuals_QAG4SimulationDistortions_1\",\"fNumPaletteColor\":0,\"fNextPaletteColor\":0},{\"_typename\":\"TPad\",\"fUniqueID\":0,\"fBits\":9,\"fLineColor\":1,\"fLineStyle\":1,\"fLineWidth\":1,\"fFillColor\":0,\"fFillStyle\":1001,\"fLeftMargin\":0.16,\"fRightMargin\":0.05,\"fBottomMargin\":0.16,\"fTopMargin\":0.14,\"fXfile\":2,\"fYfile\":2,\"fAfile\":1,\"fXstat\":0.99,\"fYstat\":0.99,\"fAstat\":2,\"fFrameFillColor\":0,\"fFrameLineColor\":1,\"fFrameFillStyle\":1001,\"fFrameLineStyle\":1,\"fFrameLineWidth\":1,\"fFrameBorderSize\":1,\"fFrameBorderMode\":0,\"fX1\":-11.5443032258712,\"fY1\":-274.285689470721,\"fX2\":60.6075948924781,\"fY2\":1439.99998467309,\"fXtoAbsPixelk\":701.812846054256,\"fXtoPixelk\":91.8528463215829,\"fXtoPixel\":7.95654744374156,\"fYtoAbsPixelk\":393.27045503447,\"fYtoPixelk\":388.550455139971,\"fYtoPixel\":-0.269826673108041,\"fUtoAbsPixelk\":609.960049732673,\"fUtoPixelk\":5e-5,\"fUtoPixel\":574.080000534654,\"fVtoAbsPixelk\":467.2800501055,\"fVtoPixelk\":462.560000211,\"fVtoPixel\":-462.560000211,\"fAbsPixeltoXk\":-88.2056948716225,\"fPixeltoXk\":-11.5443032258712,\"fPixeltoX\":0.125682654074611,\"fAbsPixeltoYk\":1457.49269523477,\"fPixeltoYk\":-274.285689470721,\"fPixeltoY\":-3.70608282895587,\"fXlowNDC\":0.509999999776483,\"fYlowNDC\":0.00999999977648258,\"fXUpNDC\":0.990000000223517,\"fYUpNDC\":0.990000000223517,\"fWNDC\":0.480000000447035,\"fHNDC\":0.980000000447035,\"fAbsXlowNDC\":0.509999999776483,\"fAbsYlowNDC\":0.00999999977648258,\"fAbsWNDC\":0.480000000447035,\"fAbsHNDC\":0.980000000447035,\"fUxmin\":0,\"fUymin\":0,\"fUxmax\":57,\"fUymax\":1200,\"fTheta\":30,\"fPhi\":30,\"fAspectRatio\":0,\"fNumber\":2,\"fTickx\":1,\"fTicky\":1,\"fLogx\":0,\"fLogy\":0,\"fLogz\":0,\"fPadPaint\":0,\"fCrosshair\":0,\"fCrosshairPos\":0,\"fBorderSize\":2,\"fBorderMode\":0,\"fModified\":false,\"fGridx\":false,\"fGridy\":false,\"fAbsCoord\":false,\"fEditable\":true,\"fFixedAspectRatio\":false,\"fPrimitives\":{\"_typename\":\"TList\",\"name\":\"TList\",\"arr\":[{\"_typename\":\"TFrame\",\"fUniqueID\":0,\"fBits\":8,\"fLineColor\":1,\"fLineStyle\":1,\"fLineWidth\":1,\"fFillColor\":0,\"fFillStyle\":1001,\"fX1\":0,\"fY1\":0,\"fX2\":57,\"fY2\":1200,\"fBorderSize\":1,\"fBorderMode\":0},{\"_typename\":\"TH1F\",\"fUniqueID\":0,\"fBits\":520,\"fName\":\"h_QAG4SimulationDistortions_deltarphi_layer_FitResolution\",\"fTitle\":\"\",\"fLineColor\":603,\"fLineStyle\":1,\"fLineWidth\":2,\"fFillColor\":0,\"fFillStyle\":1001,\"fMarkerColor\":603,\"fMarkerStyle\":20,\"fMarkerSize\":1.2,\"fNcells\":59,\"fXaxis\":{\"_typename\":\"TAxis\",\"fUniqueID\":0,\"fBits\":0,\"fName\":\"xaxis\",\"fTitle\":\"layer\",\"fNdivisions\":510,\"fAxisColor\":1,\"fLabelColor\":1,\"fLabelFont\":42,\"fLabelOffset\":0.005,\"fLabelSize\":0.05,\"fTickLength\":0.03,\"fTitleOffset\":1.4,\"fTitleSize\":0.05,\"fTitleColor\":1,\"fTitleFont\":42,\"fNbins\":57,\"fXmin\":0,\"fXmax\":57,\"fXbins\":[],\"fFirst\":0,\"fLast\":0,\"fBits2\":0,\"fTimeDisplay\":false,\"fTimeFormat\":\"\",\"fLabels\":null,\"fModLabs\":null},\"fYaxis\":{\"_typename\":\"TAxis\",\"fUniqueID\":0,\"fBits\":0,\"fName\":\"yaxis\",\"fTitle\":\"RMS(#Delta r#phi) (#mum)\",\"fNdivisions\":510,\"fAxisColor\":1,\"fLabelColor\":1,\"fLabelFont\":42,\"fLabelOffset\":0.005,\"fLabelSize\":0.05,\"fTickLength\":0.03,\"fTitleOffset\":1.4,\"fTitleSize\":0.05,\"fTitleColor\":1,\"fTitleFont\":42,\"fNbins\":1,\"fXmin\":0,\"fXmax\":1,\"fXbins\":[],\"fFirst\":0,\"fLast\":0,\"fBits2\":0,\"fTimeDisplay\":false,\"fTimeFormat\":\"\",\"fLabels\":null,\"fModLabs\":null},\"fZaxis\":{\"_typename\":\"TAxis\",\"fUniqueID\":0,\"fBits\":0,\"fName\":\"zaxis\",\"fTitle\":\"\",\"fNdivisions\":510,\"fAxisColor\":1,\"fLabelColor\":1,\"fLabelFont\":42,\"fLabelOffset\":0.005,\"fLabelSize\":0.05,\"fTickLength\":0.03,\"fTitleOffset\":1,\"fTitleSize\":0.05,\"fTitleColor\":1,\"fTitleFont\":42,\"fNbins\":1,\"fXmin\":0,\"fXmax\":1,\"fXbins\":[],\"fFirst\":0,\"fLast\":0,\"fBits2\":0,\"fTimeDisplay\":false,\"fTimeFormat\":\"\",\"fLabels\":null,\"fModLabs\":null},\"fBarOffset\":0,\"fBarWidth\":1000,\"fEntries\":48,\"fTsumw\":318965159.912109,\"fTsumw2\":6709581607561.36,\"fTsumwx\":9814091966.55273,\"fTsumwx2\":357256919374.695,\"fMaximum\":1200,\"fMinimum\":0,\"fNormFactor\":0,\"fContour\":[],\"fSumw2\":{\"$arr\":\"Float64\",\"len\":59,\"p\":8,\"v\":[1255.8030272238,922.794422920862,958.343592901081,1000.80271244952,697.688151115904,1233.66071542535,1358.79810054432,1367.01850082955,1020.04843154197,1280.2867904735,1264.41800567481,2051.73851057941,1353.02566362625,1569.72962196284,1126.75940837023,1638.38955168853,3084.75368349807,1848.17063862063,1343.79531910507,1827.94549758928,1969.75173705774,1734.36765397483,1722.07178393228,1446.81174293514,1630.86536237862,1151.29394081207,1535.86778785299,1769.53496025127,1718.55750384632,1751.06323516074,2232.03148651258,1385.96750454091,3235.01904906872,1831.58520056029,1630.52882838108,1041.76646669609,1476.11823411342,1045.43806954267,1373.23607681098,832.661501602653,746.16919960785,1141.73520802932,757.59213231713,949.287335674432,813.361067228386,643.185489134589,685.980757488413,639.996413961115]},\"fOption\":\"\",\"fFunctions\":{\"_typename\":\"TList\",\"name\":\"TList\",\"arr\":[],\"opt\":[]},\"fBufferSize\":0,\"fBuffer\":[],\"fBinStatErrOpt\":0,\"fStatOverflows\":2,\"fArray\":{\"$arr\":\"Float32\",\"len\":59,\"p\":8,\"v\":[651.5587,560.4029,600.2889,538.0154,564.9651,633.0176,626.2114,655.2266,628.1328,669.0806,654.0983,663.4496,679.4505,681.5466,693.0195,669.5739,825.1274,697.7319,659.376,756.0016,735.175,711.3032,707.1749,722.9838,726.7256,673.6766,768.2657,777.5164,737.6224,700.0273,833.1977,702.3654,890.7874,786.0095,699.6981,663.3436,744.7261,666.4445,611.7974,623.1407,553.2471,606.0898,522.5787,592.5941,544.0545,531.5311,471.9608,486.2032]}},{\"_typename\":\"TH1F\",\"fUniqueID\":0,\"fBits\":520,\"fName\":\"h_QAG4SimulationDistortions_deltarphi_layer_FitResolution\",\"fTitle\":\"\",\"fLineColor\":417,\"fLineStyle\":0,\"fLineWidth\":0,\"fFillColor\":417,\"fFillStyle\":1001,\"fMarkerColor\":417,\"fMarkerStyle\":1,\"fMarkerSize\":0,\"fNcells\":59,\"fXaxis\":{\"_typename\":\"TAxis\",\"fUniqueID\":0,\"fBits\":0,\"fName\":\"xaxis\",\"fTitle\":\"\",\"fNdivisions\":510,\"fAxisColor\":1,\"fLabelColor\":1,\"fLabelFont\":42,\"fLabelOffset\":0.005,\"fLabelSize\":0.05,\"fTickLength\":0.03,\"fTitleOffset\":1.4,\"fTitleSize\":0.05,\"fTitleColor\":1,\"fTitleFont\":42,\"fNbins\":57,\"fXmin\":0,\"fXmax\":57,\"fXbins\":[],\"fFirst\":0,\"fLast\":0,\"fBits2\":0,\"fTimeDisplay\":false,\"fTimeFormat\":\"\",\"fLabels\":null,\"fModLabs\":null},\"fYaxis\":{\"_typename\":\"TAxis\",\"fUniqueID\":0,\"fBits\":0,\"fName\":\"yaxis\",\"fTitle\":\"\",\"fNdivisions\":510,\"fAxisColor\":1,\"fLabelColor\":1,\"fLabelFont\":42,\"fLabelOffset\":0.005,\"fLabelSize\":0.05,\"fTickLength\":0.03,\"fTitleOffset\":1.4,\"fTitleSize\":0.05,\"fTitleColor\":1,\"fTitleFont\":42,\"fNbins\":1,\"fXmin\":0,\"fXmax\":1,\"fXbins\":[],\"fFirst\":0,\"fLast\":0,\"fBits2\":0,\"fTimeDisplay\":false,\"fTimeFormat\":\"\",\"fLabels\":null,\"fModLabs\":null},\"fZaxis\":{\"_typename\":\"TAxis\",\"fUniqueID\":0,\"fBits\":0,\"fName\":\"zaxis\",\"fTitle\":\"\",\"fNdivisions\":510,\"fAxisColor\":1,\"fLabelColor\":1,\"fLabelFont\":42,\"fLabelOffset\":0.005,\"fLabelSize\":0.05,\"fTickLength\":0.03,\"fTitleOffset\":1,\"fTitleSize\":0.05,\"fTitleColor\":1,\"fTitleFont\":42,\"fNbins\":1,\"fXmin\":0,\"fXmax\":1,\"fXbins\":[],\"fFirst\":0,\"fLast\":0,\"fBits2\":0,\"fTimeDisplay\":false,\"fTimeFormat\":\"\",\"fLabels\":null,\"fModLabs\":null},\"fBarOffset\":0,\"fBarWidth\":1000,\"fEntries\":48,\"fTsumw\":317791126.098633,\"fTsumw2\":6927246838098.72,\"fTsumwx\":9764483362.42676,\"fTsumwx2\":354853138882.599,\"fMaximum\":-1111,\"fMinimum\":-1111,\"fNormFactor\":0,\"fContour\":[],\"fSumw2\":{\"$arr\":\"Float64\",\"len\":59,\"p\":8,\"v\":[1256.08882664008,913.1675971721,1027.454259132,994.46615719665,781.216563391176,1082.61509911871,1299.36551937496,1305.83742568271,1013.10951837736,1275.72026741501,1262.55990636982,1975.9601610742,1340.91165078914,1545.98342238526,1136.05958658593,1497.98440924527,3238.120023154,1945.77947953908,1374.90989575395,1900.17083123721,2046.17974627411,1833.15169956118,1725.81100887755,1424.21476442986,1671.1185221319,1167.06210245889,1526.54344208468,1894.82933949833,1644.55406612523,1919.67336619827,2485.14236903966,1740.20190070071,3768.51923967907,2269.81335403439,1774.5489571325,1090.6997151337,1523.26446875314,1106.13536412855,1424.5554279588,880.037569017089,764.208037797848,1046.4260681813,752.463339864724,923.896276971367,863.584963774573,612.034374342297,719.378402180532,506.939895022354]},\"fOption\":\"\",\"fFunctions\":{\"_typename\":\"TList\",\"name\":\"TList\",\"arr\":[],\"opt\":[]},\"fBufferSize\":0,\"fBuffer\":[],\"fBinStatErrOpt\":0,\"fStatOverflows\":2,\"fArray\":{\"$arr\":\"Float32\",\"len\":59,\"p\":8,\"v\":[652.2617,561.5873,600.8652,537.5767,571.1459,616.2881,621.4426,652.2921,627.7548,668.9314,654.0457,660.193,677.7516,682.0052,690.0753,659.0659,825.1485,697.8219,656.3738,762.0162,743.757,714.6266,705.9043,712.0423,730.295,655.9918,755.1274,770.9775,726.709,689.0052,809.2972,736.6819,987.9996,793.9923,687.4251,651.4384,739.8461,649.2881,616.2825,621.275,549.532,575.3524,509.5738,577.0974,543.23,520.9868,468.2929,462.4419]}},{\"$ref\":28},{\"_typename\":\"TLegend\",\"fUniqueID\":0,\"fBits\":8,\"fLineColor\":1,\"fLineStyle\":1,\"fLineWidth\":1,\"fFillColor\":0,\"fFillStyle\":1001,\"fX1\":-11.5443032258712,\"fY1\":1319.99998748303,\"fX2\":-11.5443032258712,\"fY2\":1439.99998467309,\"fX1NDC\":0,\"fY1NDC\":0.93,\"fX2NDC\":0,\"fY2NDC\":1,\"fBorderSize\":0,\"fInit\":1,\"fShadowColor\":1,\"fCornerRadius\":0,\"fOption\":\"NB NDC\",\"fName\":\"TPave\",\"fTextAngle\":0,\"fTextSize\":0,\"fTextAlign\":12,\"fTextColor\":1,\"fTextFont\":42,\"fPrimitives\":{\"_typename\":\"TList\",\"name\":\"TList\",\"arr\":[],\"opt\":[]},\"fEntrySeparation\":0.1,\"fMargin\":0.25,\"fNColumns\":1,\"fColumnSeparation\":0},{\"_typename\":\"TLegend\",\"fUniqueID\":0,\"fBits\":8,\"fLineColor\":1,\"fLineStyle\":1,\"fLineWidth\":1,\"fFillColor\":0,\"fFillStyle\":1001,\"fX1\":-11.5443032258712,\"fY1\":1199.99999029296,\"fX2\":10.1012662096336,\"fY2\":1319.99998748303,\"fX1NDC\":0,\"fY1NDC\":0.86,\"fX2NDC\":0.3,\"fY2NDC\":0.93,\"fBorderSize\":0,\"fInit\":1,\"fShadowColor\":1,\"fCornerRadius\":0,\"fOption\":\"NB NDC\",\"fName\":\"TPave\",\"fTextAngle\":0,\"fTextSize\":0,\"fTextAlign\":12,\"fTextColor\":1,\"fTextFont\":42,\"fPrimitives\":{\"_typename\":\"TList\",\"name\":\"TList\",\"arr\":[{\"_typename\":\"TLegendEntry\",\"fUniqueID\":0,\"fBits\":0,\"fTextAngle\":0,\"fTextSize\":0,\"fTextAlign\":0,\"fTextColor\":0,\"fTextFont\":42,\"fLineColor\":417,\"fLineStyle\":0,\"fLineWidth\":0,\"fFillColor\":417,\"fFillStyle\":1001,\"fMarkerColor\":1,\"fMarkerStyle\":21,\"fMarkerSize\":1,\"fObject\":{\"$ref\":33},\"fLabel\":\"Reference\",\"fOption\":\"f\"}],\"opt\":[\"f\"]},\"fEntrySeparation\":0.1,\"fMargin\":0.25,\"fNColumns\":1,\"fColumnSeparation\":0},{\"_typename\":\"TLegend\",\"fUniqueID\":0,\"fBits\":8,\"fLineColor\":1,\"fLineStyle\":1,\"fLineWidth\":1,\"fFillColor\":0,\"fFillStyle\":1001,\"fX1\":10.1012662096336,\"fY1\":1199.99999029296,\"fX2\":60.6075948924781,\"fY2\":1319.99998748303,\"fX1NDC\":0.3,\"fY1NDC\":0.86,\"fX2NDC\":1,\"fY2NDC\":0.93,\"fBorderSize\":0,\"fInit\":1,\"fShadowColor\":1,\"fCornerRadius\":0,\"fOption\":\"NB NDC\",\"fName\":\"TPave\",\"fTextAngle\":0,\"fTextSize\":0,\"fTextAlign\":12,\"fTextColor\":1,\"fTextFont\":42,\"fPrimitives\":{\"_typename\":\"TList\",\"name\":\"TList\",\"arr\":[{\"_typename\":\"TLegendEntry\",\"fUniqueID\":0,\"fBits\":0,\"fTextAngle\":0,\"fTextSize\":0,\"fTextAlign\":0,\"fTextColor\":418,\"fTextFont\":42,\"fLineColor\":603,\"fLineStyle\":1,\"fLineWidth\":2,\"fFillColor\":0,\"fFillStyle\":0,\"fMarkerColor\":603,\"fMarkerStyle\":20,\"fMarkerSize\":1.2,\"fObject\":{\"$ref\":28},\"fLabel\":\"New: KS-Test P=1.000\",\"fOption\":\"lpe\"}],\"opt\":[\"lpe\"]},\"fEntrySeparation\":0.1,\"fMargin\":0.25,\"fNColumns\":1,\"fColumnSeparation\":0}],\"opt\":[\"\",\"\",\"HIST same\",\"same\",\"\",\"\",\"\"]},\"fExecs\":{\"_typename\":\"TList\",\"name\":\"TList\",\"arr\":[],\"opt\":[]},\"fName\":\"QA_Draw_rphi_residuals_QAG4SimulationDistortions_2\",\"fTitle\":\"QA_Draw_rphi_residuals_QAG4SimulationDistortions_2\",\"fNumPaletteColor\":0,\"fNextPaletteColor\":0},{\"_typename\":\"TStyle\",\"fUniqueID\":0,\"fBits\":0,\"fName\":\"sPHENIX\",\"fTitle\":\"sPHENIX style\",\"fLineColor\":1,\"fLineStyle\":1,\"fLineWidth\":1,\"fFillColor\":19,\"fFillStyle\":1001,\"fMarkerColor\":1,\"fMarkerStyle\":20,\"fMarkerSize\":1.2,\"fTextAngle\":0,\"fTextSize\":0.05,\"fTextAlign\":11,\"fTextColor\":1,\"fTextFont\":42,\"fXaxis\":{\"_typename\":\"TAttAxis\",\"fNdivisions\":510,\"fAxisColor\":1,\"fLabelColor\":1,\"fLabelFont\":42,\"fLabelOffset\":0.005,\"fLabelSize\":0.05,\"fTickLength\":0.03,\"fTitleOffset\":1.4,\"fTitleSize\":0.05,\"fTitleColor\":1,\"fTitleFont\":42},\"fYaxis\":{\"_typename\":\"TAttAxis\",\"fNdivisions\":510,\"fAxisColor\":1,\"fLabelColor\":1,\"fLabelFont\":42,\"fLabelOffset\":0.005,\"fLabelSize\":0.05,\"fTickLength\":0.03,\"fTitleOffset\":1.4,\"fTitleSize\":0.05,\"fTitleColor\":1,\"fTitleFont\":42},\"fZaxis\":{\"_typename\":\"TAttAxis\",\"fNdivisions\":510,\"fAxisColor\":1,\"fLabelColor\":1,\"fLabelFont\":42,\"fLabelOffset\":0.005,\"fLabelSize\":0.05,\"fTickLength\":0.03,\"fTitleOffset\":1,\"fTitleSize\":0.05,\"fTitleColor\":1,\"fTitleFont\":42},\"fBarWidth\":1,\"fBarOffset\":0,\"fColorModelPS\":0,\"fDrawBorder\":0,\"fOptLogx\":0,\"fOptLogy\":0,\"fOptLogz\":0,\"fOptDate\":0,\"fOptStat\":0,\"fOptTitle\":0,\"fOptFile\":0,\"fOptFit\":0,\"fShowEventStatus\":0,\"fShowEditor\":0,\"fShowToolBar\":0,\"fNumberContours\":80,\"fAttDate\":{\"_typename\":\"TAttText\",\"fTextAngle\":0,\"fTextSize\":0.025,\"fTextAlign\":11,\"fTextColor\":1,\"fTextFont\":62},\"fDateX\":0.01,\"fDateY\":0.01,\"fEndErrorSize\":0,\"fErrorX\":0.5,\"fFuncColor\":1,\"fFuncStyle\":1,\"fFuncWidth\":3,\"fGridColor\":0,\"fGridStyle\":3,\"fGridWidth\":1,\"fLegendBorderSize\":0,\"fLegendFillColor\":0,\"fLegendFont\":42,\"fLegendTextSize\":0.05,\"fHatchesLineWidth\":1,\"fHatchesSpacing\":1,\"fFrameFillColor\":0,\"fFrameLineColor\":1,\"fFrameFillStyle\":1001,\"fFrameLineStyle\":1,\"fFrameLineWidth\":1,\"fFrameBorderSize\":1,\"fFrameBorderMode\":0,\"fHistFillColor\":0,\"fHistLineColor\":1,\"fHistFillStyle\":1001,\"fHistLineStyle\":1,\"fHistLineWidth\":2,\"fHistMinimumZero\":false,\"fHistTopMargin\":0.05,\"fCanvasPreferGL\":false,\"fCanvasColor\":0,\"fCanvasBorderSize\":2,\"fCanvasBorderMode\":0,\"fCanvasDefH\":500,\"fCanvasDefW\":700,\"fCanvasDefX\":10,\"fCanvasDefY\":10,\"fPadColor\":0,\"fPadBorderSize\":2,\"fPadBorderMode\":0,\"fPadBottomMargin\":0.16,\"fPadTopMargin\":0.05,\"fPadLeftMargin\":0.16,\"fPadRightMargin\":0.05,\"fPadGridX\":false,\"fPadGridY\":false,\"fPadTickX\":1,\"fPadTickY\":1,\"fPaperSizeX\":20,\"fPaperSizeY\":26,\"fScreenFactor\":1,\"fStatColor\":0,\"fStatTextColor\":1,\"fStatBorderSize\":2,\"fStatFont\":62,\"fStatFontSize\":0,\"fStatStyle\":1001,\"fStatFormat\":\"6.4g\",\"fStatX\":0.98,\"fStatY\":0.995,\"fStatW\":0.2,\"fStatH\":0.16,\"fStripDecimals\":true,\"fTitleAlign\":13,\"fTitleColor\":19,\"fTitleTextColor\":1,\"fTitleBorderSize\":2,\"fTitleFont\":62,\"fTitleFontSize\":0,\"fTitleStyle\":1001,\"fTitleX\":0.01,\"fTitleY\":0.995,\"fTitleW\":0,\"fTitleH\":0,\"fLegoInnerR\":0.5,\"fLineStyles\":[\"\",\"  \",\"  12 12 \",\" 4 8\",\" 12 16 4 16\",\" 20 12 4 12\",\" 20 12 4 12 4 12 4 12\",\" 20 20\",\" 20 12 4 12 4 12\",\" 80 20\",\" 80 40 4 40\",\"  \",\"  \",\"  \",\"  \",\"  \",\"  \",\"  \",\"  \",\"  \",\"  \",\"  \",\"  \",\"  \",\"  \",\"  \",\"  \",\"  \",\"  \",\"  \"],\"fHeaderPS\":\"\",\"fTitlePS\":\"\",\"fFitFormat\":\"5.4g\",\"fPaintTextFormat\":\"g\",\"fLineScalePS\":3,\"fJoinLinePS\":0,\"fCapLinePS\":0,\"fTimeOffset\":788918400,\"fImageScaling\":1}],\"opt\":[\"\",\"\",\"\"]},\"fExecs\":null,\"fName\":\"QA_Draw_rphi_residuals_QAG4SimulationDistortions\",\"fTitle\":\"QA_Draw_rphi_residuals_QAG4SimulationDistortions\",\"fNumPaletteColor\":0,\"fNextPaletteColor\":0,\"fDISPLAY\":\"$DISPLAY\",\"fDoubleBuffer\":0,\"fRetained\":true,\"fXsizeUser\":0,\"fYsizeUser\":0,\"fXsizeReal\":20,\"fYsizeReal\":8.333333,\"fWindowTopX\":0,\"fWindowTopY\":0,\"fWindowWidth\":0,\"fWindowHeight\":0,\"fCw\":1196,\"fCh\":472,\"fCatt\":{\"_typename\":\"TAttCanvas\",\"fXBetween\":2,\"fYBetween\":2,\"fTitleFromTop\":1.2,\"fXdate\":0.2,\"fYdate\":0.3,\"fAdate\":1},\"kMoveOpaque\":true,\"kResizeOpaque\":true,\"fHighLightColor\":2,\"fBatch\":true,\"kShowEventStatus\":false,\"kAutoExec\":true,\"kMenuBar\":true});\n",
       "   Core.settings.HandleKeys = false;\n",
       "   Core.draw(\"root_plot_1713475554479\", obj, \"\");\n",
       "}\n",
       "\n",
       "function script_load_root_plot_1713475554479(src, on_error) {\n",
       "    let script = document.createElement('script');\n",
       "    script.src = src;\n",
       "    script.onload = function() { display_root_plot_1713475554479(JSROOT); };\n",
       "    script.onerror = function() { script.remove(); on_error(); };\n",
       "    document.head.appendChild(script);\n",
       "}\n",
       "\n",
       "if (typeof requirejs !== 'undefined') {\n",
       "\n",
       "    // We are in jupyter notebooks, use require.js which should be configured already\n",
       "    requirejs.config({\n",
       "       paths: { 'JSRootCore' : [ 'scripts/JSRoot.core', 'https://root.cern/js/6.1.1/scripts/JSRoot.core.min', 'https://jsroot.gsi.de/6.1.1/scripts/JSRoot.core.min' ] }\n",
       "    })(['JSRootCore'],  function(Core) {\n",
       "       display_root_plot_1713475554479(Core);\n",
       "    });\n",
       "\n",
       "} else if (typeof JSROOT !== 'undefined') {\n",
       "\n",
       "   // JSROOT already loaded, just use it\n",
       "   display_root_plot_1713475554479(JSROOT);\n",
       "\n",
       "} else {\n",
       "\n",
       "    // We are in jupyterlab without require.js, directly loading jsroot\n",
       "    // Jupyterlab might be installed in a different base_url so we need to know it.\n",
       "    try {\n",
       "        var base_url = JSON.parse(document.getElementById('jupyter-config-data').innerHTML).baseUrl;\n",
       "    } catch(_) {\n",
       "        var base_url = '/';\n",
       "    }\n",
       "\n",
       "    // Try loading a local version of requirejs and fallback to cdn if not possible.\n",
       "    script_load_root_plot_1713475554479(base_url + 'static/scripts/JSRoot.core.js', function(){\n",
       "        console.error('Fail to load JSROOT locally, please check your jupyter_notebook_config.py file');\n",
       "        script_load_root_plot_1713475554479('https://root.cern/js/6.1.1/scripts/JSRoot.core.min.js', function(){\n",
       "            document.getElementById(\"root_plot_1713475554479\").innerHTML = \"Failed to load JSROOT\";\n",
       "        });\n",
       "    });\n",
       "}\n",
       "\n",
       "</script>\n"
      ],
      "text/plain": [
       "<IPython.core.display.HTML object>"
      ]
     },
     "metadata": {},
     "output_type": "display_data"
    }
   ],
   "source": [
    "%%cpp\n",
    "    const char *hist_name_prefix = \"QAG4SimulationDistortions\";\n",
    "    TString prefix = TString(\"h_\") + hist_name_prefix + TString(\"_\");\n",
    "    \n",
    "    TCanvas *cv_deltarphi_layer = new TCanvas(TString(\"QA_Draw_rphi_residuals\") + TString(\"_\") + hist_name_prefix,\n",
    "                                     TString(\"QA_Draw_rphi_residuals\") + TString(\"_\") + hist_name_prefix,\n",
    "                                     1200,500);\n",
    "    cv_deltarphi_layer->Divide(2, 1);\n",
    "        \n",
    "    auto h_deltarphi_layer_ref = (TH2F *)qa_file_ref->GetObjectChecked(prefix + \"deltarphi_layer\", \"TH2\");\n",
    "    if( !h_deltarphi_layer_ref )\n",
    "    { \n",
    "        std::cout << \"h_deltarphi_layer_ref not found. doing nothing.\" << std::endl;\n",
    "        return;\n",
    "    }\n",
    "    h_deltarphi_layer_ref->SetDirectory(nullptr);\n",
    "\n",
    "    auto h_deltarphi_layer_new = (TH2F *)qa_file_new->GetObjectChecked(prefix + \"deltarphi_layer\", \"TH2\");\n",
    "    if( !h_deltarphi_layer_new )\n",
    "    { \n",
    "        std::cout << \"h_deltarphi_layer_new not found. doing nothing.\" << std::endl;\n",
    "        return;\n",
    "    }\n",
    "    \n",
    "    {\n",
    "        auto newScale = FitResolution_hist(h_deltarphi_layer_new, false, 1);\n",
    "        newScale->GetXaxis()->SetTitle(\"layer\");\n",
    "        newScale->GetYaxis()->SetTitle(\"#LT#Delta r#phi#GT (#mum)\");\n",
    "        newScale->Scale(1e4);\n",
    "        newScale->SetMinimum(-100);\n",
    "        newScale->SetMaximum(100);\n",
    "\n",
    "        auto refScale = FitResolution_hist(h_deltarphi_layer_ref, false, 1);\n",
    "        refScale->Scale(1e4);\n",
    "\n",
    "        cv_deltarphi_layer->cd(1);\n",
    "        DrawReference(newScale, refScale);\n",
    "        \n",
    "        // Draw line at zero\n",
    "        auto line = HorizontalLine( gPad, 0 );\n",
    "        line->Draw();\n",
    "    }\n",
    "    \n",
    "    {\n",
    "        auto newRMS = FitResolution_hist(h_deltarphi_layer_new, false, 2);\n",
    "        newRMS->GetXaxis()->SetTitle(\"layer\");\n",
    "        newRMS->GetYaxis()->SetTitle(\"RMS(#Delta r#phi) (#mum)\");\n",
    "        newRMS->Scale(1e4);\n",
    "        newRMS->SetMinimum(0);\n",
    "        newRMS->SetMaximum(1200);\n",
    "        \n",
    "        auto refRMS = FitResolution_hist(h_deltarphi_layer_ref, false, 2);\n",
    "        refRMS->Scale(1e4);\n",
    "        \n",
    "        cv_deltarphi_layer->cd(2);\n",
    "        DrawReference(newRMS, refRMS);\n",
    "    }\n",
    "    \n",
    "    \n",
    "    cv_deltarphi_layer->Draw();\n",
    "    "
   ]
  },
  {
   "cell_type": "markdown",
   "metadata": {
    "tags": []
   },
   "source": [
    "# Delta z residuals (track - cluster) vs layer number"
   ]
  },
  {
   "cell_type": "code",
   "execution_count": 14,
   "metadata": {
    "execution": {
     "iopub.execute_input": "2024-04-18T21:25:54.508585Z",
     "iopub.status.busy": "2024-04-18T21:25:54.508198Z",
     "iopub.status.idle": "2024-04-18T21:25:54.730568Z",
     "shell.execute_reply": "2024-04-18T21:25:54.729112Z"
    },
    "tags": []
   },
   "outputs": [
    {
     "name": "stderr",
     "output_type": "stream",
     "text": [
      "Warning in <TFile::Append>: Replacing existing TH1: h_QAG4SimulationDistortions_deltaz_layer_FitResolution (Potential memory leak).\n",
      "Warning in <TFile::Append>: Replacing existing TH1: h_QAG4SimulationDistortions_deltaz_layer_FitResolution (Potential memory leak).\n",
      "Warning in <TFile::Append>: Replacing existing TH1: h_QAG4SimulationDistortions_deltaz_layer_FitResolution (Potential memory leak).\n"
     ]
    },
    {
     "data": {
      "text/html": [
       "\n",
       "\n",
       "<div id=\"root_plot_1713475554718\"\n",
       "     style=\"width: 1196px; height: 472px\">\n",
       "</div>\n",
       "<script>\n",
       "\n",
       "function display_root_plot_1713475554718(Core) {\n",
       "   let obj = Core.parse({\"_typename\":\"TCanvas\",\"fUniqueID\":0,\"fBits\":3342344,\"fLineColor\":1,\"fLineStyle\":1,\"fLineWidth\":1,\"fFillColor\":0,\"fFillStyle\":1001,\"fLeftMargin\":0.16,\"fRightMargin\":0.05,\"fBottomMargin\":0.16,\"fTopMargin\":0.05,\"fXfile\":2,\"fYfile\":2,\"fAfile\":1,\"fXstat\":0.99,\"fYstat\":0.99,\"fAstat\":2,\"fFrameFillColor\":0,\"fFrameLineColor\":1,\"fFrameFillStyle\":1001,\"fFrameLineStyle\":1,\"fFrameLineWidth\":1,\"fFrameBorderSize\":1,\"fFrameBorderMode\":0,\"fX1\":0,\"fY1\":0,\"fX2\":1,\"fY2\":1,\"fXtoAbsPixelk\":5e-5,\"fXtoPixelk\":5e-5,\"fXtoPixel\":1196,\"fYtoAbsPixelk\":472.00005,\"fYtoPixelk\":472.00005,\"fYtoPixel\":-472,\"fUtoAbsPixelk\":5e-5,\"fUtoPixelk\":5e-5,\"fUtoPixel\":1196,\"fVtoAbsPixelk\":472.00005,\"fVtoPixelk\":472,\"fVtoPixel\":-472,\"fAbsPixeltoXk\":0,\"fPixeltoXk\":0,\"fPixeltoX\":8.36120401337793e-4,\"fAbsPixeltoYk\":1,\"fPixeltoYk\":0,\"fPixeltoY\":-0.00211864406779661,\"fXlowNDC\":0,\"fYlowNDC\":0,\"fXUpNDC\":1,\"fYUpNDC\":1,\"fWNDC\":1,\"fHNDC\":1,\"fAbsXlowNDC\":0,\"fAbsYlowNDC\":0,\"fAbsWNDC\":1,\"fAbsHNDC\":1,\"fUxmin\":0,\"fUymin\":0,\"fUxmax\":1,\"fUymax\":1,\"fTheta\":30,\"fPhi\":30,\"fAspectRatio\":0,\"fNumber\":0,\"fTickx\":1,\"fTicky\":1,\"fLogx\":0,\"fLogy\":0,\"fLogz\":0,\"fPadPaint\":0,\"fCrosshair\":0,\"fCrosshairPos\":0,\"fBorderSize\":2,\"fBorderMode\":0,\"fModified\":false,\"fGridx\":false,\"fGridy\":false,\"fAbsCoord\":false,\"fEditable\":true,\"fFixedAspectRatio\":false,\"fPrimitives\":{\"_typename\":\"TList\",\"name\":\"TList\",\"arr\":[{\"_typename\":\"TPad\",\"fUniqueID\":0,\"fBits\":9,\"fLineColor\":1,\"fLineStyle\":1,\"fLineWidth\":1,\"fFillColor\":0,\"fFillStyle\":1001,\"fLeftMargin\":0.16,\"fRightMargin\":0.05,\"fBottomMargin\":0.16,\"fTopMargin\":0.14,\"fXfile\":2,\"fYfile\":2,\"fAfile\":1,\"fXstat\":0.99,\"fYstat\":0.99,\"fAstat\":2,\"fFrameFillColor\":0,\"fFrameLineColor\":1,\"fFrameFillStyle\":1001,\"fFrameLineStyle\":1,\"fFrameLineWidth\":1,\"fFrameBorderSize\":1,\"fFrameBorderMode\":0,\"fX1\":-11.5443032258712,\"fY1\":-145.714281578453,\"fX2\":60.6075948924781,\"fY2\":139.999997445515,\"fXtoAbsPixelk\":103.812846054256,\"fXtoPixelk\":91.8528463215829,\"fXtoPixel\":7.95654744374156,\"fYtoAbsPixelk\":231.374451169646,\"fYtoPixelk\":226.654451275146,\"fYtoPixel\":-1.61896003864825,\"fUtoAbsPixelk\":11.9600497326732,\"fUtoPixelk\":5e-5,\"fUtoPixel\":574.080000534654,\"fVtoAbsPixelk\":467.2800501055,\"fVtoPixelk\":462.560000211,\"fVtoPixel\":-462.560000211,\"fAbsPixeltoXk\":-13.0474677350052,\"fPixeltoXk\":-11.5443032258712,\"fPixeltoX\":0.125682654074611,\"fAbsPixeltoYk\":142.915449205795,\"fPixeltoYk\":-145.714281578453,\"fPixeltoY\":-0.617680471492645,\"fXlowNDC\":0.00999999977648258,\"fYlowNDC\":0.00999999977648258,\"fXUpNDC\":0.490000000223517,\"fYUpNDC\":0.990000000223517,\"fWNDC\":0.480000000447035,\"fHNDC\":0.980000000447035,\"fAbsXlowNDC\":0.00999999977648258,\"fAbsYlowNDC\":0.00999999977648258,\"fAbsWNDC\":0.480000000447035,\"fAbsHNDC\":0.980000000447035,\"fUxmin\":0,\"fUymin\":-100,\"fUxmax\":57,\"fUymax\":100,\"fTheta\":30,\"fPhi\":30,\"fAspectRatio\":0,\"fNumber\":1,\"fTickx\":1,\"fTicky\":1,\"fLogx\":0,\"fLogy\":0,\"fLogz\":0,\"fPadPaint\":0,\"fCrosshair\":0,\"fCrosshairPos\":0,\"fBorderSize\":2,\"fBorderMode\":0,\"fModified\":false,\"fGridx\":false,\"fGridy\":false,\"fAbsCoord\":false,\"fEditable\":true,\"fFixedAspectRatio\":false,\"fPrimitives\":{\"_typename\":\"TList\",\"name\":\"TList\",\"arr\":[{\"_typename\":\"TFrame\",\"fUniqueID\":0,\"fBits\":8,\"fLineColor\":1,\"fLineStyle\":1,\"fLineWidth\":1,\"fFillColor\":0,\"fFillStyle\":1001,\"fX1\":0,\"fY1\":-100,\"fX2\":57,\"fY2\":100,\"fBorderSize\":1,\"fBorderMode\":0},{\"_typename\":\"TH1F\",\"fUniqueID\":0,\"fBits\":520,\"fName\":\"h_QAG4SimulationDistortions_deltaz_layer_FitResolution\",\"fTitle\":\"\",\"fLineColor\":603,\"fLineStyle\":1,\"fLineWidth\":2,\"fFillColor\":0,\"fFillStyle\":1001,\"fMarkerColor\":603,\"fMarkerStyle\":20,\"fMarkerSize\":1.2,\"fNcells\":59,\"fXaxis\":{\"_typename\":\"TAxis\",\"fUniqueID\":0,\"fBits\":0,\"fName\":\"xaxis\",\"fTitle\":\"layer\",\"fNdivisions\":510,\"fAxisColor\":1,\"fLabelColor\":1,\"fLabelFont\":42,\"fLabelOffset\":0.005,\"fLabelSize\":0.05,\"fTickLength\":0.03,\"fTitleOffset\":1.4,\"fTitleSize\":0.05,\"fTitleColor\":1,\"fTitleFont\":42,\"fNbins\":57,\"fXmin\":0,\"fXmax\":57,\"fXbins\":[],\"fFirst\":0,\"fLast\":0,\"fBits2\":0,\"fTimeDisplay\":false,\"fTimeFormat\":\"\",\"fLabels\":null,\"fModLabs\":null},\"fYaxis\":{\"_typename\":\"TAxis\",\"fUniqueID\":0,\"fBits\":0,\"fName\":\"yaxis\",\"fTitle\":\"#LT#Delta z#GT (#mum)\",\"fNdivisions\":510,\"fAxisColor\":1,\"fLabelColor\":1,\"fLabelFont\":42,\"fLabelOffset\":0.005,\"fLabelSize\":0.05,\"fTickLength\":0.03,\"fTitleOffset\":1.4,\"fTitleSize\":0.05,\"fTitleColor\":1,\"fTitleFont\":42,\"fNbins\":1,\"fXmin\":0,\"fXmax\":1,\"fXbins\":[],\"fFirst\":0,\"fLast\":0,\"fBits2\":0,\"fTimeDisplay\":false,\"fTimeFormat\":\"\",\"fLabels\":null,\"fModLabs\":null},\"fZaxis\":{\"_typename\":\"TAxis\",\"fUniqueID\":0,\"fBits\":0,\"fName\":\"zaxis\",\"fTitle\":\"\",\"fNdivisions\":510,\"fAxisColor\":1,\"fLabelColor\":1,\"fLabelFont\":42,\"fLabelOffset\":0.005,\"fLabelSize\":0.05,\"fTickLength\":0.03,\"fTitleOffset\":1,\"fTitleSize\":0.05,\"fTitleColor\":1,\"fTitleFont\":42,\"fNbins\":1,\"fXmin\":0,\"fXmax\":1,\"fXbins\":[],\"fFirst\":0,\"fLast\":0,\"fBits2\":0,\"fTimeDisplay\":false,\"fTimeFormat\":\"\",\"fLabels\":null,\"fModLabs\":null},\"fBarOffset\":0,\"fBarWidth\":1000,\"fEntries\":48,\"fTsumw\":-13921049.8058796,\"fTsumw2\":7498608993866.86,\"fTsumwx\":-394888001.711965,\"fTsumwx2\":-14286119855.7666,\"fMaximum\":100,\"fMinimum\":-100,\"fNormFactor\":0,\"fContour\":[],\"fSumw2\":{\"$arr\":\"Float64\",\"len\":59,\"p\":8,\"v\":[5768.3757845969,1831.85128296891,1912.63704569231,1578.03659318909,1602.15402876279,1190.8232137829,1391.84422639174,1571.43844621771,1420.4241564948,1503.14213041889,1430.68653148725,1425.50563896249,1449.48348564004,1295.63254323935,1238.32126425836,3623.69329517271,3789.44785712546,1224.20038741268,1255.98289120617,1020.11864229376,1230.60028996279,1106.11098564007,1100.72148496823,1037.75542724989,1225.40889316222,1233.48160559778,1230.38306677814,1087.86754162758,980.1904201996,940.38776026182,1123.86298542404,3205.37112908321,5123.27396286974,1181.32538558581,1159.15293909504,939.2750211952,1091.18182342754,1203.34613292295,1128.33842471652,1208.09189500534,963.86747805015,1077.00355912189,974.008672851318,1195.94327012628,1225.7705804695,1119.53621747654,1106.26927872865,1263.76426175647]},\"fOption\":\"\",\"fFunctions\":{\"_typename\":\"TList\",\"name\":\"TList\",\"arr\":[],\"opt\":[]},\"fBufferSize\":0,\"fBuffer\":[],\"fBinStatErrOpt\":0,\"fStatOverflows\":2,\"fArray\":{\"$arr\":\"Float32\",\"len\":59,\"p\":8,\"v\":[-49.49806,-72.44888,-16.92969,-43.41347,-16.09692,-19.89039,-69.09268,-67.53956,-90.27406,-22.14642,-2.989038,-35.38512,-70.50095,0.9346443,-30.85363,-20.97369,-38.44873,-10.32564,-45.18865,10.38336,-24.05819,-32.47354,-4.658433,-51.53358,-37.56686,-53.84717,-43.71969,38.86913,16.16224,-2.543216,10.51726,25.38615,-48.16249,-10.10533,-16.8244,-46.23861,-63.3791,-31.29683,-54.56673,-66.92614,-65.98978,-27.30531,-4.198894,20.76184,-49.24828,-10.89886,2.991751,-50.57436]}},{\"_typename\":\"TH1F\",\"fUniqueID\":0,\"fBits\":520,\"fName\":\"h_QAG4SimulationDistortions_deltaz_layer_FitResolution\",\"fTitle\":\"\",\"fLineColor\":417,\"fLineStyle\":0,\"fLineWidth\":0,\"fFillColor\":417,\"fFillStyle\":1001,\"fMarkerColor\":417,\"fMarkerStyle\":1,\"fMarkerSize\":0,\"fNcells\":59,\"fXaxis\":{\"_typename\":\"TAxis\",\"fUniqueID\":0,\"fBits\":0,\"fName\":\"xaxis\",\"fTitle\":\"\",\"fNdivisions\":510,\"fAxisColor\":1,\"fLabelColor\":1,\"fLabelFont\":42,\"fLabelOffset\":0.005,\"fLabelSize\":0.05,\"fTickLength\":0.03,\"fTitleOffset\":1.4,\"fTitleSize\":0.05,\"fTitleColor\":1,\"fTitleFont\":42,\"fNbins\":57,\"fXmin\":0,\"fXmax\":57,\"fXbins\":[],\"fFirst\":0,\"fLast\":0,\"fBits2\":0,\"fTimeDisplay\":false,\"fTimeFormat\":\"\",\"fLabels\":null,\"fModLabs\":null},\"fYaxis\":{\"_typename\":\"TAxis\",\"fUniqueID\":0,\"fBits\":0,\"fName\":\"yaxis\",\"fTitle\":\"\",\"fNdivisions\":510,\"fAxisColor\":1,\"fLabelColor\":1,\"fLabelFont\":42,\"fLabelOffset\":0.005,\"fLabelSize\":0.05,\"fTickLength\":0.03,\"fTitleOffset\":1.4,\"fTitleSize\":0.05,\"fTitleColor\":1,\"fTitleFont\":42,\"fNbins\":1,\"fXmin\":0,\"fXmax\":1,\"fXbins\":[],\"fFirst\":0,\"fLast\":0,\"fBits2\":0,\"fTimeDisplay\":false,\"fTimeFormat\":\"\",\"fLabels\":null,\"fModLabs\":null},\"fZaxis\":{\"_typename\":\"TAxis\",\"fUniqueID\":0,\"fBits\":0,\"fName\":\"zaxis\",\"fTitle\":\"\",\"fNdivisions\":510,\"fAxisColor\":1,\"fLabelColor\":1,\"fLabelFont\":42,\"fLabelOffset\":0.005,\"fLabelSize\":0.05,\"fTickLength\":0.03,\"fTitleOffset\":1,\"fTitleSize\":0.05,\"fTitleColor\":1,\"fTitleFont\":42,\"fNbins\":1,\"fXmin\":0,\"fXmax\":1,\"fXbins\":[],\"fFirst\":0,\"fLast\":0,\"fBits2\":0,\"fTimeDisplay\":false,\"fTimeFormat\":\"\",\"fLabels\":null,\"fModLabs\":null},\"fBarOffset\":0,\"fBarWidth\":1000,\"fEntries\":48,\"fTsumw\":-14272964.7254944,\"fTsumw2\":7573592069873.59,\"fTsumwx\":-437953340.337276,\"fTsumwx2\":-16704991376.4286,\"fMaximum\":-1111,\"fMinimum\":-1111,\"fNormFactor\":0,\"fContour\":[],\"fSumw2\":{\"$arr\":\"Float64\",\"len\":59,\"p\":8,\"v\":[5761.64586861691,1825.14785736317,1916.23381589808,1568.17500726737,1601.55611695733,1174.72016143543,1396.4574008263,1541.8618855746,1411.597987394,1481.10630315083,1412.9224941117,1440.16760841978,1466.66842238625,1319.52104472608,1258.82402738446,3719.45514973933,3869.38486269595,1256.85622311305,1293.23966290665,1045.61951921078,1245.44167625106,1127.11309691874,1110.05199485299,1076.54104169186,1290.61338515764,1272.80287136674,1328.6176566062,1064.35844755739,999.961643139603,963.081973522177,1138.14814679505,3290.49631579325,5011.02306848641,1186.52127575229,1135.40409895065,979.827178370412,1108.35420541628,1241.4933000245,1146.55016153006,1219.79940599908,981.112289773986,1120.04676008591,985.317183873352,1221.49733121896,1228.19935482823,1092.69156858562,1085.27054647767,1324.42330053179]},\"fOption\":\"\",\"fFunctions\":{\"_typename\":\"TList\",\"name\":\"TList\",\"arr\":[],\"opt\":[]},\"fBufferSize\":0,\"fBuffer\":[],\"fBinStatErrOpt\":0,\"fStatOverflows\":2,\"fArray\":{\"$arr\":\"Float32\",\"len\":59,\"p\":8,\"v\":[-35.69308,-61.78356,-15.13504,-39.31156,-8.174911,-15.98873,-66.75157,-57.09671,-90.9906,-19.23811,-4.476316,-30.82942,-66.23209,-3.350834,-28.56063,-21.90458,-26.33689,-11.01408,-41.62698,18.13461,-27.07289,-37.16359,3.934288,-58.75545,-29.35168,-50.08109,-43.28898,23.80806,4.628539,2.869277,12.33438,13.07269,-44.55556,-10.23385,-25.10842,-45.48256,-67.24365,-44.43174,-63.02032,-70.75079,-69.39834,-26.24706,-16.337,8.3131,-40.97308,-23.41472,-18.46218,-58.52278]}},{\"$ref\":5},{\"_typename\":\"TLegend\",\"fUniqueID\":0,\"fBits\":8,\"fLineColor\":1,\"fLineStyle\":1,\"fLineWidth\":1,\"fFillColor\":0,\"fFillStyle\":1001,\"fX1\":-11.5443032258712,\"fY1\":119.999997913838,\"fX2\":-11.5443032258712,\"fY2\":139.999997445515,\"fX1NDC\":0,\"fY1NDC\":0.93,\"fX2NDC\":0,\"fY2NDC\":1,\"fBorderSize\":0,\"fInit\":1,\"fShadowColor\":1,\"fCornerRadius\":0,\"fOption\":\"NB NDC\",\"fName\":\"TPave\",\"fTextAngle\":0,\"fTextSize\":0,\"fTextAlign\":12,\"fTextColor\":1,\"fTextFont\":42,\"fPrimitives\":{\"_typename\":\"TList\",\"name\":\"TList\",\"arr\":[],\"opt\":[]},\"fEntrySeparation\":0.1,\"fMargin\":0.25,\"fNColumns\":1,\"fColumnSeparation\":0},{\"_typename\":\"TLegend\",\"fUniqueID\":0,\"fBits\":8,\"fLineColor\":1,\"fLineStyle\":1,\"fLineWidth\":1,\"fFillColor\":0,\"fFillStyle\":1001,\"fX1\":-11.5443032258712,\"fY1\":99.9999983821597,\"fX2\":10.1012662096336,\"fY2\":119.999997913838,\"fX1NDC\":0,\"fY1NDC\":0.86,\"fX2NDC\":0.3,\"fY2NDC\":0.93,\"fBorderSize\":0,\"fInit\":1,\"fShadowColor\":1,\"fCornerRadius\":0,\"fOption\":\"NB NDC\",\"fName\":\"TPave\",\"fTextAngle\":0,\"fTextSize\":0,\"fTextAlign\":12,\"fTextColor\":1,\"fTextFont\":42,\"fPrimitives\":{\"_typename\":\"TList\",\"name\":\"TList\",\"arr\":[{\"_typename\":\"TLegendEntry\",\"fUniqueID\":0,\"fBits\":0,\"fTextAngle\":0,\"fTextSize\":0,\"fTextAlign\":0,\"fTextColor\":0,\"fTextFont\":42,\"fLineColor\":417,\"fLineStyle\":0,\"fLineWidth\":0,\"fFillColor\":417,\"fFillStyle\":1001,\"fMarkerColor\":1,\"fMarkerStyle\":21,\"fMarkerSize\":1,\"fObject\":{\"$ref\":10},\"fLabel\":\"Reference\",\"fOption\":\"f\"}],\"opt\":[\"f\"]},\"fEntrySeparation\":0.1,\"fMargin\":0.25,\"fNColumns\":1,\"fColumnSeparation\":0},{\"_typename\":\"TLegend\",\"fUniqueID\":0,\"fBits\":8,\"fLineColor\":1,\"fLineStyle\":1,\"fLineWidth\":1,\"fFillColor\":0,\"fFillStyle\":1001,\"fX1\":10.1012662096336,\"fY1\":99.9999983821597,\"fX2\":60.6075948924781,\"fY2\":119.999997913838,\"fX1NDC\":0.3,\"fY1NDC\":0.86,\"fX2NDC\":1,\"fY2NDC\":0.93,\"fBorderSize\":0,\"fInit\":1,\"fShadowColor\":1,\"fCornerRadius\":0,\"fOption\":\"NB NDC\",\"fName\":\"TPave\",\"fTextAngle\":0,\"fTextSize\":0,\"fTextAlign\":12,\"fTextColor\":1,\"fTextFont\":42,\"fPrimitives\":{\"_typename\":\"TList\",\"name\":\"TList\",\"arr\":[{\"_typename\":\"TLegendEntry\",\"fUniqueID\":0,\"fBits\":0,\"fTextAngle\":0,\"fTextSize\":0,\"fTextAlign\":0,\"fTextColor\":418,\"fTextFont\":42,\"fLineColor\":603,\"fLineStyle\":1,\"fLineWidth\":2,\"fFillColor\":0,\"fFillStyle\":0,\"fMarkerColor\":603,\"fMarkerStyle\":20,\"fMarkerSize\":1.2,\"fObject\":{\"$ref\":5},\"fLabel\":\"New: KS-Test P=1.000\",\"fOption\":\"lpe\"}],\"opt\":[\"lpe\"]},\"fEntrySeparation\":0.1,\"fMargin\":0.25,\"fNColumns\":1,\"fColumnSeparation\":0},{\"_typename\":\"TLine\",\"fUniqueID\":0,\"fBits\":8,\"fLineColor\":1,\"fLineStyle\":2,\"fLineWidth\":1,\"fX1\":0,\"fY1\":0,\"fX2\":57,\"fY2\":0}],\"opt\":[\"\",\"\",\"HIST same\",\"same\",\"\",\"\",\"\",\"\"]},\"fExecs\":{\"_typename\":\"TList\",\"name\":\"TList\",\"arr\":[],\"opt\":[]},\"fName\":\"QA_Draw_z_residuals_QAG4SimulationDistortions_1\",\"fTitle\":\"QA_Draw_z_residuals_QAG4SimulationDistortions_1\",\"fNumPaletteColor\":0,\"fNextPaletteColor\":0},{\"_typename\":\"TPad\",\"fUniqueID\":0,\"fBits\":9,\"fLineColor\":1,\"fLineStyle\":1,\"fLineWidth\":1,\"fFillColor\":0,\"fFillStyle\":1001,\"fLeftMargin\":0.16,\"fRightMargin\":0.05,\"fBottomMargin\":0.16,\"fTopMargin\":0.14,\"fXfile\":2,\"fYfile\":2,\"fAfile\":1,\"fXstat\":0.99,\"fYstat\":0.99,\"fAstat\":2,\"fFrameFillColor\":0,\"fFrameLineColor\":1,\"fFrameFillStyle\":1001,\"fFrameLineStyle\":1,\"fFrameLineWidth\":1,\"fFrameBorderSize\":1,\"fFrameBorderMode\":0,\"fX1\":-11.5443032258712,\"fY1\":-457.142815784535,\"fX2\":60.6075948924781,\"fY2\":2399.99997445515,\"fXtoAbsPixelk\":701.812846054256,\"fXtoPixelk\":91.8528463215829,\"fXtoPixel\":7.95654744374156,\"fYtoAbsPixelk\":393.27045503447,\"fYtoPixelk\":388.550455139971,\"fYtoPixel\":-0.161896003864825,\"fUtoAbsPixelk\":609.960049732673,\"fUtoPixelk\":5e-5,\"fUtoPixel\":574.080000534654,\"fVtoAbsPixelk\":467.2800501055,\"fVtoPixelk\":462.560000211,\"fVtoPixel\":-462.560000211,\"fAbsPixeltoXk\":-88.2056948716225,\"fPixeltoXk\":-11.5443032258712,\"fPixeltoX\":0.125682654074611,\"fAbsPixeltoYk\":2429.15449205795,\"fPixeltoYk\":-457.142815784535,\"fPixeltoY\":-6.17680471492645,\"fXlowNDC\":0.509999999776483,\"fYlowNDC\":0.00999999977648258,\"fXUpNDC\":0.990000000223517,\"fYUpNDC\":0.990000000223517,\"fWNDC\":0.480000000447035,\"fHNDC\":0.980000000447035,\"fAbsXlowNDC\":0.509999999776483,\"fAbsYlowNDC\":0.00999999977648258,\"fAbsWNDC\":0.480000000447035,\"fAbsHNDC\":0.980000000447035,\"fUxmin\":0,\"fUymin\":0,\"fUxmax\":57,\"fUymax\":2000,\"fTheta\":30,\"fPhi\":30,\"fAspectRatio\":0,\"fNumber\":2,\"fTickx\":1,\"fTicky\":1,\"fLogx\":0,\"fLogy\":0,\"fLogz\":0,\"fPadPaint\":0,\"fCrosshair\":0,\"fCrosshairPos\":0,\"fBorderSize\":2,\"fBorderMode\":0,\"fModified\":false,\"fGridx\":false,\"fGridy\":false,\"fAbsCoord\":false,\"fEditable\":true,\"fFixedAspectRatio\":false,\"fPrimitives\":{\"_typename\":\"TList\",\"name\":\"TList\",\"arr\":[{\"_typename\":\"TFrame\",\"fUniqueID\":0,\"fBits\":8,\"fLineColor\":1,\"fLineStyle\":1,\"fLineWidth\":1,\"fFillColor\":0,\"fFillStyle\":1001,\"fX1\":0,\"fY1\":0,\"fX2\":57,\"fY2\":2000,\"fBorderSize\":1,\"fBorderMode\":0},{\"_typename\":\"TH1F\",\"fUniqueID\":0,\"fBits\":520,\"fName\":\"h_QAG4SimulationDistortions_deltaz_layer_FitResolution\",\"fTitle\":\"\",\"fLineColor\":603,\"fLineStyle\":1,\"fLineWidth\":2,\"fFillColor\":0,\"fFillStyle\":1001,\"fMarkerColor\":603,\"fMarkerStyle\":20,\"fMarkerSize\":1.2,\"fNcells\":59,\"fXaxis\":{\"_typename\":\"TAxis\",\"fUniqueID\":0,\"fBits\":0,\"fName\":\"xaxis\",\"fTitle\":\"layer\",\"fNdivisions\":510,\"fAxisColor\":1,\"fLabelColor\":1,\"fLabelFont\":42,\"fLabelOffset\":0.005,\"fLabelSize\":0.05,\"fTickLength\":0.03,\"fTitleOffset\":1.4,\"fTitleSize\":0.05,\"fTitleColor\":1,\"fTitleFont\":42,\"fNbins\":57,\"fXmin\":0,\"fXmax\":57,\"fXbins\":[],\"fFirst\":0,\"fLast\":0,\"fBits2\":0,\"fTimeDisplay\":false,\"fTimeFormat\":\"\",\"fLabels\":null,\"fModLabs\":null},\"fYaxis\":{\"_typename\":\"TAxis\",\"fUniqueID\":0,\"fBits\":0,\"fName\":\"yaxis\",\"fTitle\":\"RMS(#Delta z) (#mum)\",\"fNdivisions\":510,\"fAxisColor\":1,\"fLabelColor\":1,\"fLabelFont\":42,\"fLabelOffset\":0.005,\"fLabelSize\":0.05,\"fTickLength\":0.03,\"fTitleOffset\":1.4,\"fTitleSize\":0.05,\"fTitleColor\":1,\"fTitleFont\":42,\"fNbins\":1,\"fXmin\":0,\"fXmax\":1,\"fXbins\":[],\"fFirst\":0,\"fLast\":0,\"fBits2\":0,\"fTimeDisplay\":false,\"fTimeFormat\":\"\",\"fLabels\":null,\"fModLabs\":null},\"fZaxis\":{\"_typename\":\"TAxis\",\"fUniqueID\":0,\"fBits\":0,\"fName\":\"zaxis\",\"fTitle\":\"\",\"fNdivisions\":510,\"fAxisColor\":1,\"fLabelColor\":1,\"fLabelFont\":42,\"fLabelOffset\":0.005,\"fLabelSize\":0.05,\"fTickLength\":0.03,\"fTitleOffset\":1,\"fTitleSize\":0.05,\"fTitleColor\":1,\"fTitleFont\":42,\"fNbins\":1,\"fXmin\":0,\"fXmax\":1,\"fXbins\":[],\"fFirst\":0,\"fLast\":0,\"fBits2\":0,\"fTimeDisplay\":false,\"fTimeFormat\":\"\",\"fLabels\":null,\"fModLabs\":null},\"fBarOffset\":0,\"fBarWidth\":1000,\"fEntries\":48,\"fTsumw\":365503665.161133,\"fTsumw2\":5793946983265.22,\"fTsumwx\":10990459046.3257,\"fTsumwx2\":402128759739.532,\"fMaximum\":2000,\"fMinimum\":0,\"fNormFactor\":0,\"fContour\":[],\"fSumw2\":{\"$arr\":\"Float64\",\"len\":59,\"p\":8,\"v\":[3788.19073185086,1593.1627116675,1119.72369860232,1080.66110467079,1317.46471717516,989.110217124492,926.694937816071,1102.1229267063,907.633590354206,1515.45385830687,1114.96785814478,1149.40601902709,860.215108798995,729.24791057174,462.160748344506,2756.63200681001,3461.12730787926,1110.31700087769,630.424036583926,741.790675453375,1271.66383615049,767.910022891105,702.173689268967,1107.43164150497,860.850057425518,726.333541581247,1126.71754597414,988.166859349759,588.111573486692,942.019370002387,935.897790890767,2183.7650621677,4257.81295089126,1241.81503163692,962.979922216261,674.323591182623,668.790609858452,1079.41656861137,761.79054693392,1028.8875056452,863.1926276119,682.038041134299,1093.45992944037,783.147831238598,862.516545320771,1339.13863049647,991.047826603877,1091.56351637028]},\"fOption\":\"\",\"fFunctions\":{\"_typename\":\"TList\",\"name\":\"TList\",\"arr\":[],\"opt\":[]},\"fBufferSize\":0,\"fBuffer\":[],\"fBinStatErrOpt\":0,\"fStatOverflows\":2,\"fArray\":{\"$arr\":\"Float32\",\"len\":59,\"p\":8,\"v\":[1450.046,825.0807,831.6152,783.0828,776.6305,680.92,726.4203,789.3999,758.1931,760.9736,763.4295,716.6071,769.5859,725.4893,698.1381,1131.52,1159.013,704.1581,704.4211,614.6951,700.2475,664.4709,660.3892,645.0775,711.8229,718.7251,673.1992,667.7213,643.9853,627.8854,682.0922,1146.396,1420.946,668.5435,670.194,629.6415,685.4325,712.4532,689.5986,720.4606,642.5396,677.5973,615.4034,702.3017,716.8707,684.5844,666.1558,736.2123]}},{\"_typename\":\"TH1F\",\"fUniqueID\":0,\"fBits\":520,\"fName\":\"h_QAG4SimulationDistortions_deltaz_layer_FitResolution\",\"fTitle\":\"\",\"fLineColor\":417,\"fLineStyle\":0,\"fLineWidth\":0,\"fFillColor\":417,\"fFillStyle\":1001,\"fMarkerColor\":417,\"fMarkerStyle\":1,\"fMarkerSize\":0,\"fNcells\":59,\"fXaxis\":{\"_typename\":\"TAxis\",\"fUniqueID\":0,\"fBits\":0,\"fName\":\"xaxis\",\"fTitle\":\"\",\"fNdivisions\":510,\"fAxisColor\":1,\"fLabelColor\":1,\"fLabelFont\":42,\"fLabelOffset\":0.005,\"fLabelSize\":0.05,\"fTickLength\":0.03,\"fTitleOffset\":1.4,\"fTitleSize\":0.05,\"fTitleColor\":1,\"fTitleFont\":42,\"fNbins\":57,\"fXmin\":0,\"fXmax\":57,\"fXbins\":[],\"fFirst\":0,\"fLast\":0,\"fBits2\":0,\"fTimeDisplay\":false,\"fTimeFormat\":\"\",\"fLabels\":null,\"fModLabs\":null},\"fYaxis\":{\"_typename\":\"TAxis\",\"fUniqueID\":0,\"fBits\":0,\"fName\":\"yaxis\",\"fTitle\":\"\",\"fNdivisions\":510,\"fAxisColor\":1,\"fLabelColor\":1,\"fLabelFont\":42,\"fLabelOffset\":0.005,\"fLabelSize\":0.05,\"fTickLength\":0.03,\"fTitleOffset\":1.4,\"fTitleSize\":0.05,\"fTitleColor\":1,\"fTitleFont\":42,\"fNbins\":1,\"fXmin\":0,\"fXmax\":1,\"fXbins\":[],\"fFirst\":0,\"fLast\":0,\"fBits2\":0,\"fTimeDisplay\":false,\"fTimeFormat\":\"\",\"fLabels\":null,\"fModLabs\":null},\"fZaxis\":{\"_typename\":\"TAxis\",\"fUniqueID\":0,\"fBits\":0,\"fName\":\"zaxis\",\"fTitle\":\"\",\"fNdivisions\":510,\"fAxisColor\":1,\"fLabelColor\":1,\"fLabelFont\":42,\"fLabelOffset\":0.005,\"fLabelSize\":0.05,\"fTickLength\":0.03,\"fTitleOffset\":1,\"fTitleSize\":0.05,\"fTitleColor\":1,\"fTitleFont\":42,\"fNbins\":1,\"fXmin\":0,\"fXmax\":1,\"fXbins\":[],\"fFirst\":0,\"fLast\":0,\"fBits2\":0,\"fTimeDisplay\":false,\"fTimeFormat\":\"\",\"fLabels\":null,\"fModLabs\":null},\"fBarOffset\":0,\"fBarWidth\":1000,\"fEntries\":48,\"fTsumw\":362877460.327148,\"fTsumw2\":5764353181344.26,\"fTsumwx\":10891306230.1636,\"fTsumwx2\":397887733233.49,\"fMaximum\":-1111,\"fMinimum\":-1111,\"fNormFactor\":0,\"fContour\":[],\"fSumw2\":{\"$arr\":\"Float64\",\"len\":59,\"p\":8,\"v\":[3878.61702553093,1537.79998984026,1121.64566865371,1062.56786931893,1343.12992785487,961.568222545471,928.126118322118,1061.78240023138,899.722227839924,1487.52273879004,1133.53325315941,1168.32911084208,878.459252262405,755.252419286784,478.391038070752,2800.59796728091,3373.55482523578,1140.90939177138,663.261719025581,743.582848693812,1299.64832123785,779.342717458465,717.43477623015,1109.18606968187,910.683450242804,760.076209806609,1143.99351599023,848.256466044582,621.621774530408,913.596357643704,1033.14931249923,2190.84487168806,3867.90492982634,1195.12016672881,897.352006544644,696.379805858563,715.728354384124,1109.33849353307,789.209677711468,938.668433798074,864.98897289596,719.222278933429,1000.62039879075,793.762004366201,837.335564467856,1306.46410171772,996.652580149525,1168.59618612553]},\"fOption\":\"\",\"fFunctions\":{\"_typename\":\"TList\",\"name\":\"TList\",\"arr\":[],\"opt\":[]},\"fBufferSize\":0,\"fBuffer\":[],\"fBinStatErrOpt\":0,\"fStatOverflows\":2,\"fArray\":{\"$arr\":\"Float32\",\"len\":59,\"p\":8,\"v\":[1446.177,815.1326,832.5466,779.866,774.1506,675.9374,726.037,779.4348,752.077,756.2689,755.1877,716.3643,765.093,724.0808,696.594,1138.584,1162.521,706.9487,705.7377,614.8572,696.7328,656.9853,654.899,644.0699,720.7253,720.3741,669.7158,651.0154,642.371,622.6093,673.7694,1143.994,1375.287,666.3757,648.0972,631.8546,674.8443,709.9671,684.9759,712.0237,636.7659,672.9707,598.4728,699.5148,707.4818,660.5274,653.17,734.5602]}},{\"$ref\":28},{\"_typename\":\"TLegend\",\"fUniqueID\":0,\"fBits\":8,\"fLineColor\":1,\"fLineStyle\":1,\"fLineWidth\":1,\"fFillColor\":0,\"fFillStyle\":1001,\"fX1\":-11.5443032258712,\"fY1\":2199.99997913838,\"fX2\":-11.5443032258712,\"fY2\":2399.99997445515,\"fX1NDC\":0,\"fY1NDC\":0.93,\"fX2NDC\":0,\"fY2NDC\":1,\"fBorderSize\":0,\"fInit\":1,\"fShadowColor\":1,\"fCornerRadius\":0,\"fOption\":\"NB NDC\",\"fName\":\"TPave\",\"fTextAngle\":0,\"fTextSize\":0,\"fTextAlign\":12,\"fTextColor\":1,\"fTextFont\":42,\"fPrimitives\":{\"_typename\":\"TList\",\"name\":\"TList\",\"arr\":[],\"opt\":[]},\"fEntrySeparation\":0.1,\"fMargin\":0.25,\"fNColumns\":1,\"fColumnSeparation\":0},{\"_typename\":\"TLegend\",\"fUniqueID\":0,\"fBits\":8,\"fLineColor\":1,\"fLineStyle\":1,\"fLineWidth\":1,\"fFillColor\":0,\"fFillStyle\":1001,\"fX1\":-11.5443032258712,\"fY1\":1999.9999838216,\"fX2\":10.1012662096336,\"fY2\":2199.99997913838,\"fX1NDC\":0,\"fY1NDC\":0.86,\"fX2NDC\":0.3,\"fY2NDC\":0.93,\"fBorderSize\":0,\"fInit\":1,\"fShadowColor\":1,\"fCornerRadius\":0,\"fOption\":\"NB NDC\",\"fName\":\"TPave\",\"fTextAngle\":0,\"fTextSize\":0,\"fTextAlign\":12,\"fTextColor\":1,\"fTextFont\":42,\"fPrimitives\":{\"_typename\":\"TList\",\"name\":\"TList\",\"arr\":[{\"_typename\":\"TLegendEntry\",\"fUniqueID\":0,\"fBits\":0,\"fTextAngle\":0,\"fTextSize\":0,\"fTextAlign\":0,\"fTextColor\":0,\"fTextFont\":42,\"fLineColor\":417,\"fLineStyle\":0,\"fLineWidth\":0,\"fFillColor\":417,\"fFillStyle\":1001,\"fMarkerColor\":1,\"fMarkerStyle\":21,\"fMarkerSize\":1,\"fObject\":{\"$ref\":33},\"fLabel\":\"Reference\",\"fOption\":\"f\"}],\"opt\":[\"f\"]},\"fEntrySeparation\":0.1,\"fMargin\":0.25,\"fNColumns\":1,\"fColumnSeparation\":0},{\"_typename\":\"TLegend\",\"fUniqueID\":0,\"fBits\":8,\"fLineColor\":1,\"fLineStyle\":1,\"fLineWidth\":1,\"fFillColor\":0,\"fFillStyle\":1001,\"fX1\":10.1012662096336,\"fY1\":1999.9999838216,\"fX2\":60.6075948924781,\"fY2\":2199.99997913838,\"fX1NDC\":0.3,\"fY1NDC\":0.86,\"fX2NDC\":1,\"fY2NDC\":0.93,\"fBorderSize\":0,\"fInit\":1,\"fShadowColor\":1,\"fCornerRadius\":0,\"fOption\":\"NB NDC\",\"fName\":\"TPave\",\"fTextAngle\":0,\"fTextSize\":0,\"fTextAlign\":12,\"fTextColor\":1,\"fTextFont\":42,\"fPrimitives\":{\"_typename\":\"TList\",\"name\":\"TList\",\"arr\":[{\"_typename\":\"TLegendEntry\",\"fUniqueID\":0,\"fBits\":0,\"fTextAngle\":0,\"fTextSize\":0,\"fTextAlign\":0,\"fTextColor\":418,\"fTextFont\":42,\"fLineColor\":603,\"fLineStyle\":1,\"fLineWidth\":2,\"fFillColor\":0,\"fFillStyle\":0,\"fMarkerColor\":603,\"fMarkerStyle\":20,\"fMarkerSize\":1.2,\"fObject\":{\"$ref\":28},\"fLabel\":\"New: KS-Test P=1.000\",\"fOption\":\"lpe\"}],\"opt\":[\"lpe\"]},\"fEntrySeparation\":0.1,\"fMargin\":0.25,\"fNColumns\":1,\"fColumnSeparation\":0}],\"opt\":[\"\",\"\",\"HIST same\",\"same\",\"\",\"\",\"\"]},\"fExecs\":{\"_typename\":\"TList\",\"name\":\"TList\",\"arr\":[],\"opt\":[]},\"fName\":\"QA_Draw_z_residuals_QAG4SimulationDistortions_2\",\"fTitle\":\"QA_Draw_z_residuals_QAG4SimulationDistortions_2\",\"fNumPaletteColor\":0,\"fNextPaletteColor\":0},{\"_typename\":\"TStyle\",\"fUniqueID\":0,\"fBits\":0,\"fName\":\"sPHENIX\",\"fTitle\":\"sPHENIX style\",\"fLineColor\":1,\"fLineStyle\":1,\"fLineWidth\":1,\"fFillColor\":19,\"fFillStyle\":1001,\"fMarkerColor\":1,\"fMarkerStyle\":20,\"fMarkerSize\":1.2,\"fTextAngle\":0,\"fTextSize\":0.05,\"fTextAlign\":11,\"fTextColor\":1,\"fTextFont\":42,\"fXaxis\":{\"_typename\":\"TAttAxis\",\"fNdivisions\":510,\"fAxisColor\":1,\"fLabelColor\":1,\"fLabelFont\":42,\"fLabelOffset\":0.005,\"fLabelSize\":0.05,\"fTickLength\":0.03,\"fTitleOffset\":1.4,\"fTitleSize\":0.05,\"fTitleColor\":1,\"fTitleFont\":42},\"fYaxis\":{\"_typename\":\"TAttAxis\",\"fNdivisions\":510,\"fAxisColor\":1,\"fLabelColor\":1,\"fLabelFont\":42,\"fLabelOffset\":0.005,\"fLabelSize\":0.05,\"fTickLength\":0.03,\"fTitleOffset\":1.4,\"fTitleSize\":0.05,\"fTitleColor\":1,\"fTitleFont\":42},\"fZaxis\":{\"_typename\":\"TAttAxis\",\"fNdivisions\":510,\"fAxisColor\":1,\"fLabelColor\":1,\"fLabelFont\":42,\"fLabelOffset\":0.005,\"fLabelSize\":0.05,\"fTickLength\":0.03,\"fTitleOffset\":1,\"fTitleSize\":0.05,\"fTitleColor\":1,\"fTitleFont\":42},\"fBarWidth\":1,\"fBarOffset\":0,\"fColorModelPS\":0,\"fDrawBorder\":0,\"fOptLogx\":0,\"fOptLogy\":0,\"fOptLogz\":0,\"fOptDate\":0,\"fOptStat\":0,\"fOptTitle\":0,\"fOptFile\":0,\"fOptFit\":0,\"fShowEventStatus\":0,\"fShowEditor\":0,\"fShowToolBar\":0,\"fNumberContours\":80,\"fAttDate\":{\"_typename\":\"TAttText\",\"fTextAngle\":0,\"fTextSize\":0.025,\"fTextAlign\":11,\"fTextColor\":1,\"fTextFont\":62},\"fDateX\":0.01,\"fDateY\":0.01,\"fEndErrorSize\":0,\"fErrorX\":0.5,\"fFuncColor\":1,\"fFuncStyle\":1,\"fFuncWidth\":3,\"fGridColor\":0,\"fGridStyle\":3,\"fGridWidth\":1,\"fLegendBorderSize\":0,\"fLegendFillColor\":0,\"fLegendFont\":42,\"fLegendTextSize\":0.05,\"fHatchesLineWidth\":1,\"fHatchesSpacing\":1,\"fFrameFillColor\":0,\"fFrameLineColor\":1,\"fFrameFillStyle\":1001,\"fFrameLineStyle\":1,\"fFrameLineWidth\":1,\"fFrameBorderSize\":1,\"fFrameBorderMode\":0,\"fHistFillColor\":0,\"fHistLineColor\":1,\"fHistFillStyle\":1001,\"fHistLineStyle\":1,\"fHistLineWidth\":2,\"fHistMinimumZero\":false,\"fHistTopMargin\":0.05,\"fCanvasPreferGL\":false,\"fCanvasColor\":0,\"fCanvasBorderSize\":2,\"fCanvasBorderMode\":0,\"fCanvasDefH\":500,\"fCanvasDefW\":700,\"fCanvasDefX\":10,\"fCanvasDefY\":10,\"fPadColor\":0,\"fPadBorderSize\":2,\"fPadBorderMode\":0,\"fPadBottomMargin\":0.16,\"fPadTopMargin\":0.05,\"fPadLeftMargin\":0.16,\"fPadRightMargin\":0.05,\"fPadGridX\":false,\"fPadGridY\":false,\"fPadTickX\":1,\"fPadTickY\":1,\"fPaperSizeX\":20,\"fPaperSizeY\":26,\"fScreenFactor\":1,\"fStatColor\":0,\"fStatTextColor\":1,\"fStatBorderSize\":2,\"fStatFont\":62,\"fStatFontSize\":0,\"fStatStyle\":1001,\"fStatFormat\":\"6.4g\",\"fStatX\":0.98,\"fStatY\":0.995,\"fStatW\":0.2,\"fStatH\":0.16,\"fStripDecimals\":true,\"fTitleAlign\":13,\"fTitleColor\":19,\"fTitleTextColor\":1,\"fTitleBorderSize\":2,\"fTitleFont\":62,\"fTitleFontSize\":0,\"fTitleStyle\":1001,\"fTitleX\":0.01,\"fTitleY\":0.995,\"fTitleW\":0,\"fTitleH\":0,\"fLegoInnerR\":0.5,\"fLineStyles\":[\"\",\"  \",\"  12 12 \",\" 4 8\",\" 12 16 4 16\",\" 20 12 4 12\",\" 20 12 4 12 4 12 4 12\",\" 20 20\",\" 20 12 4 12 4 12\",\" 80 20\",\" 80 40 4 40\",\"  \",\"  \",\"  \",\"  \",\"  \",\"  \",\"  \",\"  \",\"  \",\"  \",\"  \",\"  \",\"  \",\"  \",\"  \",\"  \",\"  \",\"  \",\"  \"],\"fHeaderPS\":\"\",\"fTitlePS\":\"\",\"fFitFormat\":\"5.4g\",\"fPaintTextFormat\":\"g\",\"fLineScalePS\":3,\"fJoinLinePS\":0,\"fCapLinePS\":0,\"fTimeOffset\":788918400,\"fImageScaling\":1}],\"opt\":[\"\",\"\",\"\"]},\"fExecs\":null,\"fName\":\"QA_Draw_z_residuals_QAG4SimulationDistortions\",\"fTitle\":\"QA_Draw_z_residuals_QAG4SimulationDistortions\",\"fNumPaletteColor\":0,\"fNextPaletteColor\":0,\"fDISPLAY\":\"$DISPLAY\",\"fDoubleBuffer\":0,\"fRetained\":true,\"fXsizeUser\":0,\"fYsizeUser\":0,\"fXsizeReal\":20,\"fYsizeReal\":8.333333,\"fWindowTopX\":0,\"fWindowTopY\":0,\"fWindowWidth\":0,\"fWindowHeight\":0,\"fCw\":1196,\"fCh\":472,\"fCatt\":{\"_typename\":\"TAttCanvas\",\"fXBetween\":2,\"fYBetween\":2,\"fTitleFromTop\":1.2,\"fXdate\":0.2,\"fYdate\":0.3,\"fAdate\":1},\"kMoveOpaque\":true,\"kResizeOpaque\":true,\"fHighLightColor\":2,\"fBatch\":true,\"kShowEventStatus\":false,\"kAutoExec\":true,\"kMenuBar\":true});\n",
       "   Core.settings.HandleKeys = false;\n",
       "   Core.draw(\"root_plot_1713475554718\", obj, \"\");\n",
       "}\n",
       "\n",
       "function script_load_root_plot_1713475554718(src, on_error) {\n",
       "    let script = document.createElement('script');\n",
       "    script.src = src;\n",
       "    script.onload = function() { display_root_plot_1713475554718(JSROOT); };\n",
       "    script.onerror = function() { script.remove(); on_error(); };\n",
       "    document.head.appendChild(script);\n",
       "}\n",
       "\n",
       "if (typeof requirejs !== 'undefined') {\n",
       "\n",
       "    // We are in jupyter notebooks, use require.js which should be configured already\n",
       "    requirejs.config({\n",
       "       paths: { 'JSRootCore' : [ 'scripts/JSRoot.core', 'https://root.cern/js/6.1.1/scripts/JSRoot.core.min', 'https://jsroot.gsi.de/6.1.1/scripts/JSRoot.core.min' ] }\n",
       "    })(['JSRootCore'],  function(Core) {\n",
       "       display_root_plot_1713475554718(Core);\n",
       "    });\n",
       "\n",
       "} else if (typeof JSROOT !== 'undefined') {\n",
       "\n",
       "   // JSROOT already loaded, just use it\n",
       "   display_root_plot_1713475554718(JSROOT);\n",
       "\n",
       "} else {\n",
       "\n",
       "    // We are in jupyterlab without require.js, directly loading jsroot\n",
       "    // Jupyterlab might be installed in a different base_url so we need to know it.\n",
       "    try {\n",
       "        var base_url = JSON.parse(document.getElementById('jupyter-config-data').innerHTML).baseUrl;\n",
       "    } catch(_) {\n",
       "        var base_url = '/';\n",
       "    }\n",
       "\n",
       "    // Try loading a local version of requirejs and fallback to cdn if not possible.\n",
       "    script_load_root_plot_1713475554718(base_url + 'static/scripts/JSRoot.core.js', function(){\n",
       "        console.error('Fail to load JSROOT locally, please check your jupyter_notebook_config.py file');\n",
       "        script_load_root_plot_1713475554718('https://root.cern/js/6.1.1/scripts/JSRoot.core.min.js', function(){\n",
       "            document.getElementById(\"root_plot_1713475554718\").innerHTML = \"Failed to load JSROOT\";\n",
       "        });\n",
       "    });\n",
       "}\n",
       "\n",
       "</script>\n"
      ],
      "text/plain": [
       "<IPython.core.display.HTML object>"
      ]
     },
     "metadata": {},
     "output_type": "display_data"
    }
   ],
   "source": [
    "%%cpp\n",
    "    const char *hist_name_prefix = \"QAG4SimulationDistortions\";\n",
    "    TString prefix = TString(\"h_\") + hist_name_prefix + TString(\"_\");\n",
    "    \n",
    "    TCanvas *cv_deltaz_layer = new TCanvas(TString(\"QA_Draw_z_residuals\") + TString(\"_\") + hist_name_prefix,\n",
    "                                     TString(\"QA_Draw_z_residuals\") + TString(\"_\") + hist_name_prefix,\n",
    "                                     1200,500);\n",
    "    cv_deltaz_layer->Divide(2, 1);\n",
    "        \n",
    "    auto h_deltaz_layer_ref = (TH2F *)qa_file_ref->GetObjectChecked(prefix + \"deltaz_layer\", \"TH2\");\n",
    "    if( !h_deltaz_layer_ref )\n",
    "    { \n",
    "        std::cout << \"h_deltaz_layer_ref not found. doing nothing.\" << std::endl;\n",
    "        return;\n",
    "    }\n",
    "    h_deltaz_layer_ref->SetDirectory(nullptr);\n",
    "\n",
    "    auto h_deltaz_layer_new = (TH2F *)qa_file_new->GetObjectChecked(prefix + \"deltaz_layer\", \"TH2\");\n",
    "    if( !h_deltaz_layer_new )\n",
    "    { \n",
    "        std::cout << \"h_deltaz_layer_new not found. doing nothing.\" << std::endl;\n",
    "        return;\n",
    "    }\n",
    "    h_deltaz_layer_new->SetDirectory(nullptr);\n",
    "    \n",
    "    {\n",
    "        auto newScale = FitResolution_hist(h_deltaz_layer_new, false, 1);\n",
    "        newScale->GetXaxis()->SetTitle(\"layer\");\n",
    "        newScale->GetYaxis()->SetTitle(\"#LT#Delta z#GT (#mum)\");\n",
    "        newScale->Scale(1e4);\n",
    "        newScale->SetMinimum(-100);\n",
    "        newScale->SetMaximum(100);\n",
    "\n",
    "        auto refScale = FitResolution_hist(h_deltaz_layer_ref, false, 1);\n",
    "        refScale->Scale(1e4);\n",
    "\n",
    "        cv_deltaz_layer->cd(1);\n",
    "        DrawReference(newScale, refScale);\n",
    "        \n",
    "        // Draw line at zero\n",
    "        auto line = HorizontalLine( gPad, 0 );\n",
    "        line->Draw();\n",
    "    }\n",
    "    \n",
    "    {\n",
    "        auto newRMS = FitResolution_hist(h_deltaz_layer_new, false, 2);\n",
    "        newRMS->GetXaxis()->SetTitle(\"layer\");\n",
    "        newRMS->GetYaxis()->SetTitle(\"RMS(#Delta z) (#mum)\");\n",
    "        newRMS->Scale(1e4);\n",
    "        newRMS->SetMinimum(0);\n",
    "        newRMS->SetMaximum(2000);\n",
    "        \n",
    "        auto refRMS = FitResolution_hist(h_deltaz_layer_ref, false, 2);\n",
    "        refRMS->Scale(1e4);\n",
    "        \n",
    "        cv_deltaz_layer->cd(2);\n",
    "        DrawReference(newRMS, refRMS);\n",
    "    }\n",
    "    \n",
    "    cv_deltaz_layer->Draw();\n",
    "    "
   ]
  },
  {
   "cell_type": "code",
   "execution_count": 15,
   "metadata": {
    "execution": {
     "iopub.execute_input": "2024-04-18T21:25:54.737240Z",
     "iopub.status.busy": "2024-04-18T21:25:54.736620Z",
     "iopub.status.idle": "2024-04-18T21:25:54.924158Z",
     "shell.execute_reply": "2024-04-18T21:25:54.923093Z"
    }
   },
   "outputs": [
    {
     "name": "stdout",
     "output_type": "stream",
     "text": [
      "This notebook contains 4 KSTets: combined Chi2/nDoF = 5.94474e-05 / 8, and combined __p-Value = 1__\n"
     ]
    }
   ],
   "source": [
    "%%cpp\n",
    "\n",
    "KSTestSummary::getInstance()->make_summary_txt(\"QA-Distortions.txt\");"
   ]
  },
  {
   "cell_type": "code",
   "execution_count": 16,
   "metadata": {
    "execution": {
     "iopub.execute_input": "2024-04-18T21:25:54.929538Z",
     "iopub.status.busy": "2024-04-18T21:25:54.929067Z",
     "iopub.status.idle": "2024-04-18T21:25:55.057779Z",
     "shell.execute_reply": "2024-04-18T21:25:55.056248Z"
    }
   },
   "outputs": [
    {
     "data": {
      "text/html": [
       "\n",
       "\n",
       "<div id=\"root_plot_1713475555049\"\n",
       "     style=\"width: 946px; height: 572px\">\n",
       "</div>\n",
       "<script>\n",
       "\n",
       "function display_root_plot_1713475555049(Core) {\n",
       "   let obj = Core.parse({\"_typename\":\"TCanvas\",\"fUniqueID\":0,\"fBits\":3342344,\"fLineColor\":1,\"fLineStyle\":1,\"fLineWidth\":1,\"fFillColor\":0,\"fFillStyle\":1001,\"fLeftMargin\":0.16,\"fRightMargin\":0.05,\"fBottomMargin\":0.16,\"fTopMargin\":0.05,\"fXfile\":2,\"fYfile\":2,\"fAfile\":1,\"fXstat\":0.99,\"fYstat\":0.99,\"fAstat\":2,\"fFrameFillColor\":0,\"fFrameLineColor\":1,\"fFrameFillStyle\":1001,\"fFrameLineStyle\":1,\"fFrameLineWidth\":1,\"fFrameBorderSize\":1,\"fFrameBorderMode\":0,\"fX1\":0,\"fY1\":0,\"fX2\":1,\"fY2\":1,\"fXtoAbsPixelk\":5e-5,\"fXtoPixelk\":5e-5,\"fXtoPixel\":946,\"fYtoAbsPixelk\":572.00005,\"fYtoPixelk\":572.00005,\"fYtoPixel\":-572,\"fUtoAbsPixelk\":5e-5,\"fUtoPixelk\":5e-5,\"fUtoPixel\":946,\"fVtoAbsPixelk\":572.00005,\"fVtoPixelk\":572,\"fVtoPixel\":-572,\"fAbsPixeltoXk\":0,\"fPixeltoXk\":0,\"fPixeltoX\":0.00105708245243129,\"fAbsPixeltoYk\":1,\"fPixeltoYk\":0,\"fPixeltoY\":-0.00174825174825175,\"fXlowNDC\":0,\"fYlowNDC\":0,\"fXUpNDC\":1,\"fYUpNDC\":1,\"fWNDC\":1,\"fHNDC\":1,\"fAbsXlowNDC\":0,\"fAbsYlowNDC\":0,\"fAbsWNDC\":1,\"fAbsHNDC\":1,\"fUxmin\":0,\"fUymin\":0,\"fUxmax\":1,\"fUymax\":1,\"fTheta\":30,\"fPhi\":30,\"fAspectRatio\":0,\"fNumber\":0,\"fTickx\":1,\"fTicky\":1,\"fLogx\":0,\"fLogy\":0,\"fLogz\":0,\"fPadPaint\":0,\"fCrosshair\":0,\"fCrosshairPos\":0,\"fBorderSize\":2,\"fBorderMode\":0,\"fModified\":false,\"fGridx\":false,\"fGridy\":false,\"fAbsCoord\":false,\"fEditable\":true,\"fFixedAspectRatio\":false,\"fPrimitives\":{\"_typename\":\"TList\",\"name\":\"TList\",\"arr\":[{\"_typename\":\"TPad\",\"fUniqueID\":0,\"fBits\":9,\"fLineColor\":1,\"fLineStyle\":1,\"fLineWidth\":1,\"fFillColor\":0,\"fFillStyle\":1001,\"fLeftMargin\":0.16,\"fRightMargin\":0.05,\"fBottomMargin\":0.16,\"fTopMargin\":0.05,\"fXfile\":2,\"fYfile\":2,\"fAfile\":1,\"fXstat\":0.99,\"fYstat\":0.99,\"fAstat\":2,\"fFrameFillColor\":0,\"fFrameLineColor\":1,\"fFrameFillStyle\":1001,\"fFrameLineStyle\":1,\"fFrameLineWidth\":1,\"fFrameBorderSize\":1,\"fFrameBorderMode\":0,\"fX1\":-0.202531635682106,\"fY1\":-0.850632869274719,\"fX2\":1.06329113857719,\"fY2\":4.46582278155102,\"fXtoAbsPixelk\":82.1128469149076,\"fXtoPixelk\":72.6528471263551,\"fXtoPixel\":358.723203324102,\"fYtoAbsPixelk\":476.590453762257,\"fYtoPixelk\":470.870453890109,\"fYtoPixel\":-105.438667614699,\"fUtoAbsPixelk\":9.46004978855252,\"fUtoPixelk\":5e-5,\"fUtoPixel\":454.080000422895,\"fVtoAbsPixelk\":566.280050127852,\"fVtoPixelk\":560.560000255704,\"fVtoPixel\":-560.560000255704,\"fAbsPixeltoXk\":-0.22890294286517,\"fPixeltoXk\":-0.202531635682106,\"fPixeltoX\":0.00278766466939835,\"fAbsPixeltoYk\":4.52007232777111,\"fPixeltoYk\":-0.850632869274719,\"fPixeltoY\":-0.00948418661410125,\"fXlowNDC\":0.00999999977648258,\"fYlowNDC\":0.00999999977648258,\"fXUpNDC\":0.490000000223517,\"fYUpNDC\":0.990000000223517,\"fWNDC\":0.480000000447035,\"fHNDC\":0.980000000447035,\"fAbsXlowNDC\":0.00999999977648258,\"fAbsYlowNDC\":0.00999999977648258,\"fAbsWNDC\":0.480000000447035,\"fAbsHNDC\":0.980000000447035,\"fUxmin\":-1e-10,\"fUymin\":0,\"fUxmax\":1.0000000001,\"fUymax\":4.2,\"fTheta\":30,\"fPhi\":30,\"fAspectRatio\":0,\"fNumber\":1,\"fTickx\":1,\"fTicky\":1,\"fLogx\":0,\"fLogy\":0,\"fLogz\":0,\"fPadPaint\":0,\"fCrosshair\":0,\"fCrosshairPos\":0,\"fBorderSize\":2,\"fBorderMode\":0,\"fModified\":false,\"fGridx\":false,\"fGridy\":false,\"fAbsCoord\":false,\"fEditable\":true,\"fFixedAspectRatio\":false,\"fPrimitives\":{\"_typename\":\"TList\",\"name\":\"TList\",\"arr\":[{\"_typename\":\"TFrame\",\"fUniqueID\":0,\"fBits\":8,\"fLineColor\":1,\"fLineStyle\":1,\"fLineWidth\":1,\"fFillColor\":0,\"fFillStyle\":1001,\"fX1\":-1e-10,\"fY1\":0,\"fX2\":1.0000000001,\"fY2\":4.2,\"fBorderSize\":1,\"fBorderMode\":0},{\"_typename\":\"TH1F\",\"fUniqueID\":0,\"fBits\":520,\"fName\":\"h_pValue\",\"fTitle\":\"p-Value Summary\",\"fLineColor\":1,\"fLineStyle\":1,\"fLineWidth\":2,\"fFillColor\":598,\"fFillStyle\":1001,\"fMarkerColor\":1,\"fMarkerStyle\":20,\"fMarkerSize\":1.2,\"fNcells\":52,\"fXaxis\":{\"_typename\":\"TAxis\",\"fUniqueID\":0,\"fBits\":0,\"fName\":\"xaxis\",\"fTitle\":\"p-Value\",\"fNdivisions\":510,\"fAxisColor\":1,\"fLabelColor\":1,\"fLabelFont\":42,\"fLabelOffset\":0.005,\"fLabelSize\":0.05,\"fTickLength\":0.03,\"fTitleOffset\":1.4,\"fTitleSize\":0.05,\"fTitleColor\":1,\"fTitleFont\":42,\"fNbins\":50,\"fXmin\":-1e-10,\"fXmax\":1.0000000001,\"fXbins\":[],\"fFirst\":0,\"fLast\":0,\"fBits2\":0,\"fTimeDisplay\":false,\"fTimeFormat\":\"\",\"fLabels\":null,\"fModLabs\":null},\"fYaxis\":{\"_typename\":\"TAxis\",\"fUniqueID\":0,\"fBits\":0,\"fName\":\"yaxis\",\"fTitle\":\"Count of plots\",\"fNdivisions\":510,\"fAxisColor\":1,\"fLabelColor\":1,\"fLabelFont\":42,\"fLabelOffset\":0.005,\"fLabelSize\":0.05,\"fTickLength\":0.03,\"fTitleOffset\":1.4,\"fTitleSize\":0.05,\"fTitleColor\":1,\"fTitleFont\":42,\"fNbins\":1,\"fXmin\":0,\"fXmax\":1,\"fXbins\":[],\"fFirst\":0,\"fLast\":0,\"fBits2\":0,\"fTimeDisplay\":false,\"fTimeFormat\":\"\",\"fLabels\":null,\"fModLabs\":null},\"fZaxis\":{\"_typename\":\"TAxis\",\"fUniqueID\":0,\"fBits\":0,\"fName\":\"zaxis\",\"fTitle\":\"\",\"fNdivisions\":510,\"fAxisColor\":1,\"fLabelColor\":1,\"fLabelFont\":42,\"fLabelOffset\":0.005,\"fLabelSize\":0.05,\"fTickLength\":0.03,\"fTitleOffset\":1,\"fTitleSize\":0.05,\"fTitleColor\":1,\"fTitleFont\":42,\"fNbins\":1,\"fXmin\":0,\"fXmax\":1,\"fXbins\":[],\"fFirst\":0,\"fLast\":0,\"fBits2\":0,\"fTimeDisplay\":false,\"fTimeFormat\":\"\",\"fLabels\":null,\"fModLabs\":null},\"fBarOffset\":0,\"fBarWidth\":1000,\"fEntries\":4,\"fTsumw\":4,\"fTsumw2\":4,\"fTsumwx\":3.99997027657782,\"fTsumwx2\":3.99994055374061,\"fMaximum\":-1111,\"fMinimum\":-1111,\"fNormFactor\":0,\"fContour\":[],\"fSumw2\":[],\"fOption\":\"\",\"fFunctions\":{\"_typename\":\"TList\",\"name\":\"TList\",\"arr\":[],\"opt\":[]},\"fBufferSize\":0,\"fBuffer\":[],\"fBinStatErrOpt\":0,\"fStatOverflows\":2,\"fArray\":{\"$arr\":\"Float32\",\"len\":52,\"p\":50,\"v\":4}}],\"opt\":[\"\",\"\"]},\"fExecs\":{\"_typename\":\"TList\",\"name\":\"TList\",\"arr\":[],\"opt\":[]},\"fName\":\"Summary_1\",\"fTitle\":\"Summary_1\",\"fNumPaletteColor\":0,\"fNextPaletteColor\":0},{\"_typename\":\"TPad\",\"fUniqueID\":0,\"fBits\":9,\"fLineColor\":1,\"fLineStyle\":1,\"fLineWidth\":1,\"fFillColor\":0,\"fFillStyle\":1001,\"fLeftMargin\":0.16,\"fRightMargin\":0.05,\"fBottomMargin\":0.16,\"fTopMargin\":0.05,\"fXfile\":2,\"fYfile\":2,\"fAfile\":1,\"fXstat\":0.99,\"fYstat\":0.99,\"fAstat\":2,\"fFrameFillColor\":0,\"fFrameLineColor\":1,\"fFrameFillStyle\":1001,\"fFrameLineStyle\":1,\"fFrameLineWidth\":1,\"fFrameBorderSize\":1,\"fFrameBorderMode\":0,\"fX1\":-24.0506327108522,\"fY1\":-3.42374544095192,\"fX2\":1.2658227693969,\"fY2\":1.10610122352239,\"fXtoAbsPixelk\":913.836050273088,\"fXtoPixelk\":431.376050484536,\"fXtoPixel\":17.9361601697026,\"fYtoAbsPixelk\":142.597994771084,\"fYtoPixelk\":136.877994898936,\"fYtoPixel\":-123.748118154184,\"fUtoAbsPixelk\":482.460049788553,\"fUtoPixelk\":5e-5,\"fUtoPixel\":454.080000422895,\"fVtoAbsPixelk\":566.280050127852,\"fVtoPixelk\":560.560000255704,\"fVtoPixel\":-560.560000255704,\"fAbsPixeltoXk\":-50.9493666217767,\"fPixeltoXk\":-24.0506327108522,\"fPixeltoX\":0.0557532933770951,\"fAbsPixeltoYk\":1.15232414761584,\"fPixeltoYk\":-3.42374544095192,\"fPixeltoY\":-0.00808093096619092,\"fXlowNDC\":0.509999999776483,\"fYlowNDC\":0.00999999977648258,\"fXUpNDC\":0.990000000223517,\"fYUpNDC\":0.990000000223517,\"fWNDC\":0.480000000447035,\"fHNDC\":0.980000000447035,\"fAbsXlowNDC\":0.509999999776483,\"fAbsYlowNDC\":0.00999999977648258,\"fAbsWNDC\":0.480000000447035,\"fAbsHNDC\":0.980000000447035,\"fUxmin\":-20,\"fUymin\":-2.69897000433602,\"fUxmax\":9.99994531625248e-11,\"fUymax\":0.879608891142421,\"fTheta\":30,\"fPhi\":30,\"fAspectRatio\":0,\"fNumber\":2,\"fTickx\":1,\"fTicky\":1,\"fLogx\":0,\"fLogy\":1,\"fLogz\":0,\"fPadPaint\":0,\"fCrosshair\":0,\"fCrosshairPos\":0,\"fBorderSize\":2,\"fBorderMode\":0,\"fModified\":false,\"fGridx\":false,\"fGridy\":false,\"fAbsCoord\":false,\"fEditable\":true,\"fFixedAspectRatio\":false,\"fPrimitives\":{\"_typename\":\"TList\",\"name\":\"TList\",\"arr\":[{\"_typename\":\"TFrame\",\"fUniqueID\":0,\"fBits\":8,\"fLineColor\":1,\"fLineStyle\":1,\"fLineWidth\":1,\"fFillColor\":0,\"fFillStyle\":1001,\"fX1\":-20,\"fY1\":-2.69897000433602,\"fX2\":9.99994531625248e-11,\"fY2\":0.879608891142421,\"fBorderSize\":1,\"fBorderMode\":0},{\"_typename\":\"TH1F\",\"fUniqueID\":0,\"fBits\":520,\"fName\":\"h_Log_pValue\",\"fTitle\":\"Log p-Value Summary\",\"fLineColor\":1,\"fLineStyle\":1,\"fLineWidth\":2,\"fFillColor\":598,\"fFillStyle\":1001,\"fMarkerColor\":1,\"fMarkerStyle\":20,\"fMarkerSize\":1.2,\"fNcells\":52,\"fXaxis\":{\"_typename\":\"TAxis\",\"fUniqueID\":0,\"fBits\":0,\"fName\":\"xaxis\",\"fTitle\":\"Log[p-Value]\",\"fNdivisions\":510,\"fAxisColor\":1,\"fLabelColor\":1,\"fLabelFont\":42,\"fLabelOffset\":0.005,\"fLabelSize\":0.05,\"fTickLength\":0.03,\"fTitleOffset\":1.4,\"fTitleSize\":0.05,\"fTitleColor\":1,\"fTitleFont\":42,\"fNbins\":50,\"fXmin\":-20,\"fXmax\":1e-10,\"fXbins\":[],\"fFirst\":0,\"fLast\":0,\"fBits2\":0,\"fTimeDisplay\":false,\"fTimeFormat\":\"\",\"fLabels\":null,\"fModLabs\":null},\"fYaxis\":{\"_typename\":\"TAxis\",\"fUniqueID\":0,\"fBits\":0,\"fName\":\"yaxis\",\"fTitle\":\"Count of plots\",\"fNdivisions\":510,\"fAxisColor\":1,\"fLabelColor\":1,\"fLabelFont\":42,\"fLabelOffset\":0.005,\"fLabelSize\":0.05,\"fTickLength\":0.03,\"fTitleOffset\":1.4,\"fTitleSize\":0.05,\"fTitleColor\":1,\"fTitleFont\":42,\"fNbins\":1,\"fXmin\":0,\"fXmax\":1,\"fXbins\":[],\"fFirst\":0,\"fLast\":0,\"fBits2\":0,\"fTimeDisplay\":false,\"fTimeFormat\":\"\",\"fLabels\":null,\"fModLabs\":null},\"fZaxis\":{\"_typename\":\"TAxis\",\"fUniqueID\":0,\"fBits\":0,\"fName\":\"zaxis\",\"fTitle\":\"\",\"fNdivisions\":510,\"fAxisColor\":1,\"fLabelColor\":1,\"fLabelFont\":42,\"fLabelOffset\":0.005,\"fLabelSize\":0.05,\"fTickLength\":0.03,\"fTitleOffset\":1,\"fTitleSize\":0.05,\"fTitleColor\":1,\"fTitleFont\":42,\"fNbins\":1,\"fXmin\":0,\"fXmax\":1,\"fXbins\":[],\"fFirst\":0,\"fLast\":0,\"fBits2\":0,\"fTimeDisplay\":false,\"fTimeFormat\":\"\",\"fLabels\":null,\"fModLabs\":null},\"fBarOffset\":0,\"fBarWidth\":1000,\"fEntries\":4,\"fTsumw\":4,\"fTsumw2\":4,\"fTsumwx\":-2.97237146656524e-5,\"fTsumwx2\":5.84977359491411e-10,\"fMaximum\":-1111,\"fMinimum\":-1111,\"fNormFactor\":0,\"fContour\":[],\"fSumw2\":[],\"fOption\":\"\",\"fFunctions\":{\"_typename\":\"TList\",\"name\":\"TList\",\"arr\":[],\"opt\":[]},\"fBufferSize\":0,\"fBuffer\":[],\"fBinStatErrOpt\":0,\"fStatOverflows\":2,\"fArray\":{\"$arr\":\"Float32\",\"len\":52,\"p\":50,\"v\":4}}],\"opt\":[\"\",\"\"]},\"fExecs\":{\"_typename\":\"TList\",\"name\":\"TList\",\"arr\":[],\"opt\":[]},\"fName\":\"Summary_2\",\"fTitle\":\"Summary_2\",\"fNumPaletteColor\":0,\"fNextPaletteColor\":0},{\"_typename\":\"TStyle\",\"fUniqueID\":0,\"fBits\":0,\"fName\":\"sPHENIX\",\"fTitle\":\"sPHENIX style\",\"fLineColor\":1,\"fLineStyle\":1,\"fLineWidth\":1,\"fFillColor\":19,\"fFillStyle\":1001,\"fMarkerColor\":1,\"fMarkerStyle\":20,\"fMarkerSize\":1.2,\"fTextAngle\":0,\"fTextSize\":0.05,\"fTextAlign\":11,\"fTextColor\":1,\"fTextFont\":42,\"fXaxis\":{\"_typename\":\"TAttAxis\",\"fNdivisions\":510,\"fAxisColor\":1,\"fLabelColor\":1,\"fLabelFont\":42,\"fLabelOffset\":0.005,\"fLabelSize\":0.05,\"fTickLength\":0.03,\"fTitleOffset\":1.4,\"fTitleSize\":0.05,\"fTitleColor\":1,\"fTitleFont\":42},\"fYaxis\":{\"_typename\":\"TAttAxis\",\"fNdivisions\":510,\"fAxisColor\":1,\"fLabelColor\":1,\"fLabelFont\":42,\"fLabelOffset\":0.005,\"fLabelSize\":0.05,\"fTickLength\":0.03,\"fTitleOffset\":1.4,\"fTitleSize\":0.05,\"fTitleColor\":1,\"fTitleFont\":42},\"fZaxis\":{\"_typename\":\"TAttAxis\",\"fNdivisions\":510,\"fAxisColor\":1,\"fLabelColor\":1,\"fLabelFont\":42,\"fLabelOffset\":0.005,\"fLabelSize\":0.05,\"fTickLength\":0.03,\"fTitleOffset\":1,\"fTitleSize\":0.05,\"fTitleColor\":1,\"fTitleFont\":42},\"fBarWidth\":1,\"fBarOffset\":0,\"fColorModelPS\":0,\"fDrawBorder\":0,\"fOptLogx\":0,\"fOptLogy\":0,\"fOptLogz\":0,\"fOptDate\":0,\"fOptStat\":0,\"fOptTitle\":0,\"fOptFile\":0,\"fOptFit\":0,\"fShowEventStatus\":0,\"fShowEditor\":0,\"fShowToolBar\":0,\"fNumberContours\":80,\"fAttDate\":{\"_typename\":\"TAttText\",\"fTextAngle\":0,\"fTextSize\":0.025,\"fTextAlign\":11,\"fTextColor\":1,\"fTextFont\":62},\"fDateX\":0.01,\"fDateY\":0.01,\"fEndErrorSize\":0,\"fErrorX\":0.5,\"fFuncColor\":1,\"fFuncStyle\":1,\"fFuncWidth\":3,\"fGridColor\":0,\"fGridStyle\":3,\"fGridWidth\":1,\"fLegendBorderSize\":0,\"fLegendFillColor\":0,\"fLegendFont\":42,\"fLegendTextSize\":0.05,\"fHatchesLineWidth\":1,\"fHatchesSpacing\":1,\"fFrameFillColor\":0,\"fFrameLineColor\":1,\"fFrameFillStyle\":1001,\"fFrameLineStyle\":1,\"fFrameLineWidth\":1,\"fFrameBorderSize\":1,\"fFrameBorderMode\":0,\"fHistFillColor\":0,\"fHistLineColor\":1,\"fHistFillStyle\":1001,\"fHistLineStyle\":1,\"fHistLineWidth\":2,\"fHistMinimumZero\":false,\"fHistTopMargin\":0.05,\"fCanvasPreferGL\":false,\"fCanvasColor\":0,\"fCanvasBorderSize\":2,\"fCanvasBorderMode\":0,\"fCanvasDefH\":500,\"fCanvasDefW\":700,\"fCanvasDefX\":10,\"fCanvasDefY\":10,\"fPadColor\":0,\"fPadBorderSize\":2,\"fPadBorderMode\":0,\"fPadBottomMargin\":0.16,\"fPadTopMargin\":0.05,\"fPadLeftMargin\":0.16,\"fPadRightMargin\":0.05,\"fPadGridX\":false,\"fPadGridY\":false,\"fPadTickX\":1,\"fPadTickY\":1,\"fPaperSizeX\":20,\"fPaperSizeY\":26,\"fScreenFactor\":1,\"fStatColor\":0,\"fStatTextColor\":1,\"fStatBorderSize\":2,\"fStatFont\":62,\"fStatFontSize\":0,\"fStatStyle\":1001,\"fStatFormat\":\"6.4g\",\"fStatX\":0.98,\"fStatY\":0.995,\"fStatW\":0.2,\"fStatH\":0.16,\"fStripDecimals\":true,\"fTitleAlign\":13,\"fTitleColor\":19,\"fTitleTextColor\":1,\"fTitleBorderSize\":2,\"fTitleFont\":62,\"fTitleFontSize\":0,\"fTitleStyle\":1001,\"fTitleX\":0.01,\"fTitleY\":0.995,\"fTitleW\":0,\"fTitleH\":0,\"fLegoInnerR\":0.5,\"fLineStyles\":[\"\",\"  \",\"  12 12 \",\" 4 8\",\" 12 16 4 16\",\" 20 12 4 12\",\" 20 12 4 12 4 12 4 12\",\" 20 20\",\" 20 12 4 12 4 12\",\" 80 20\",\" 80 40 4 40\",\"  \",\"  \",\"  \",\"  \",\"  \",\"  \",\"  \",\"  \",\"  \",\"  \",\"  \",\"  \",\"  \",\"  \",\"  \",\"  \",\"  \",\"  \",\"  \"],\"fHeaderPS\":\"\",\"fTitlePS\":\"\",\"fFitFormat\":\"5.4g\",\"fPaintTextFormat\":\"g\",\"fLineScalePS\":3,\"fJoinLinePS\":0,\"fCapLinePS\":0,\"fTimeOffset\":788918400,\"fImageScaling\":1}],\"opt\":[\"\",\"\",\"\"]},\"fExecs\":null,\"fName\":\"Summary\",\"fTitle\":\"Summary\",\"fNumPaletteColor\":0,\"fNextPaletteColor\":0,\"fDISPLAY\":\"$DISPLAY\",\"fDoubleBuffer\":0,\"fRetained\":true,\"fXsizeUser\":0,\"fYsizeUser\":0,\"fXsizeReal\":20,\"fYsizeReal\":12.63158,\"fWindowTopX\":0,\"fWindowTopY\":0,\"fWindowWidth\":0,\"fWindowHeight\":0,\"fCw\":946,\"fCh\":572,\"fCatt\":{\"_typename\":\"TAttCanvas\",\"fXBetween\":2,\"fYBetween\":2,\"fTitleFromTop\":1.2,\"fXdate\":0.2,\"fYdate\":0.3,\"fAdate\":1},\"kMoveOpaque\":true,\"kResizeOpaque\":true,\"fHighLightColor\":2,\"fBatch\":true,\"kShowEventStatus\":false,\"kAutoExec\":true,\"kMenuBar\":true});\n",
       "   Core.settings.HandleKeys = false;\n",
       "   Core.draw(\"root_plot_1713475555049\", obj, \"\");\n",
       "}\n",
       "\n",
       "function script_load_root_plot_1713475555049(src, on_error) {\n",
       "    let script = document.createElement('script');\n",
       "    script.src = src;\n",
       "    script.onload = function() { display_root_plot_1713475555049(JSROOT); };\n",
       "    script.onerror = function() { script.remove(); on_error(); };\n",
       "    document.head.appendChild(script);\n",
       "}\n",
       "\n",
       "if (typeof requirejs !== 'undefined') {\n",
       "\n",
       "    // We are in jupyter notebooks, use require.js which should be configured already\n",
       "    requirejs.config({\n",
       "       paths: { 'JSRootCore' : [ 'scripts/JSRoot.core', 'https://root.cern/js/6.1.1/scripts/JSRoot.core.min', 'https://jsroot.gsi.de/6.1.1/scripts/JSRoot.core.min' ] }\n",
       "    })(['JSRootCore'],  function(Core) {\n",
       "       display_root_plot_1713475555049(Core);\n",
       "    });\n",
       "\n",
       "} else if (typeof JSROOT !== 'undefined') {\n",
       "\n",
       "   // JSROOT already loaded, just use it\n",
       "   display_root_plot_1713475555049(JSROOT);\n",
       "\n",
       "} else {\n",
       "\n",
       "    // We are in jupyterlab without require.js, directly loading jsroot\n",
       "    // Jupyterlab might be installed in a different base_url so we need to know it.\n",
       "    try {\n",
       "        var base_url = JSON.parse(document.getElementById('jupyter-config-data').innerHTML).baseUrl;\n",
       "    } catch(_) {\n",
       "        var base_url = '/';\n",
       "    }\n",
       "\n",
       "    // Try loading a local version of requirejs and fallback to cdn if not possible.\n",
       "    script_load_root_plot_1713475555049(base_url + 'static/scripts/JSRoot.core.js', function(){\n",
       "        console.error('Fail to load JSROOT locally, please check your jupyter_notebook_config.py file');\n",
       "        script_load_root_plot_1713475555049('https://root.cern/js/6.1.1/scripts/JSRoot.core.min.js', function(){\n",
       "            document.getElementById(\"root_plot_1713475555049\").innerHTML = \"Failed to load JSROOT\";\n",
       "        });\n",
       "    });\n",
       "}\n",
       "\n",
       "</script>\n"
      ],
      "text/plain": [
       "<IPython.core.display.HTML object>"
      ]
     },
     "metadata": {},
     "output_type": "display_data"
    }
   ],
   "source": [
    "%%cpp\n",
    "\n",
    "KSTestSummary::getInstance()->make_summary_TCanvas() -> Draw();"
   ]
  },
  {
   "cell_type": "code",
   "execution_count": null,
   "metadata": {},
   "outputs": [],
   "source": []
  }
 ],
 "metadata": {
  "kernelspec": {
   "display_name": "Python (sPHENIX)",
   "language": "python",
   "name": "sphenix-env"
  },
  "language_info": {
   "codemirror_mode": {
    "name": "ipython",
    "version": 3
   },
   "file_extension": ".py",
   "mimetype": "text/x-python",
   "name": "python",
   "nbconvert_exporter": "python",
   "pygments_lexer": "ipython3",
   "version": "3.10.8"
  }
 },
 "nbformat": 4,
 "nbformat_minor": 4
}
